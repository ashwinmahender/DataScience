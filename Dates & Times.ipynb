{
 "cells": [
  {
   "cell_type": "markdown",
   "metadata": {
    "heading_collapsed": true
   },
   "source": [
    "# Pure Python"
   ]
  },
  {
   "cell_type": "markdown",
   "metadata": {
    "heading_collapsed": true,
    "hidden": true
   },
   "source": [
    "## Creating Date Objects + Basic Methods"
   ]
  },
  {
   "cell_type": "markdown",
   "metadata": {
    "ExecuteTime": {
     "end_time": "2020-07-03T13:44:57.385571Z",
     "start_time": "2020-07-03T13:44:57.379587Z"
    },
    "hidden": true
   },
   "source": [
    "<button type=\"button\" class=\"btn\">Date Object in Python</button>"
   ]
  },
  {
   "cell_type": "code",
   "execution_count": 14,
   "metadata": {
    "ExecuteTime": {
     "end_time": "2020-07-03T13:53:05.492469Z",
     "start_time": "2020-07-03T13:53:05.487484Z"
    },
    "hidden": true
   },
   "outputs": [],
   "source": [
    "import datetime\n",
    "from datetime import date\n",
    "# Create a date object\n",
    "bday = date(1994, 7, 12)  #year, month , day"
   ]
  },
  {
   "cell_type": "markdown",
   "metadata": {
    "hidden": true
   },
   "source": [
    "<div class=\"alert alert-block alert-danger\">\n",
    "<b>Methods:</b> \n",
    "<ul>\n",
    "    <li>.year</li>\n",
    "    <li>.month</li>\n",
    "    <li>.month</li>\n",
    "    <li>.day</li>\n",
    "    <li>.weekday()</li>\n",
    "   #0 = monday, 2= Tuesday,....6= Sunday\n",
    "    \n",
    "</ul>\n",
    "</div>"
   ]
  },
  {
   "cell_type": "markdown",
   "metadata": {
    "hidden": true
   },
   "source": []
  },
  {
   "cell_type": "code",
   "execution_count": 16,
   "metadata": {
    "ExecuteTime": {
     "end_time": "2020-07-03T13:53:14.284661Z",
     "start_time": "2020-07-03T13:53:14.200890Z"
    },
    "code_folding": [
     0
    ],
    "hidden": true
   },
   "outputs": [],
   "source": [
    "florida_hurricane_dates = [datetime.date(1950, 8, 31),\n",
    " datetime.date(1950, 9, 5),\n",
    " datetime.date(1950, 10, 18),\n",
    " datetime.date(1950, 10, 21),\n",
    " datetime.date(1951, 5, 18),\n",
    " datetime.date(1951, 10, 2),\n",
    " datetime.date(1952, 2, 3),\n",
    " datetime.date(1952, 8, 30),\n",
    " datetime.date(1953, 6, 6),\n",
    " datetime.date(1953, 8, 29),\n",
    " datetime.date(1953, 9, 20),\n",
    " datetime.date(1953, 9, 26),\n",
    " datetime.date(1953, 10, 9),\n",
    " datetime.date(1955, 8, 21),\n",
    " datetime.date(1956, 7, 6),\n",
    " datetime.date(1956, 9, 24),\n",
    " datetime.date(1956, 10, 15),\n",
    " datetime.date(1957, 6, 8),\n",
    " datetime.date(1957, 9, 8),\n",
    " datetime.date(1958, 9, 4),\n",
    " datetime.date(1959, 6, 18),\n",
    " datetime.date(1959, 10, 8),\n",
    " datetime.date(1959, 10, 18),\n",
    " datetime.date(1960, 7, 29),\n",
    " datetime.date(1960, 9, 10),\n",
    " datetime.date(1960, 9, 15),\n",
    " datetime.date(1960, 9, 23),\n",
    " datetime.date(1961, 9, 11),\n",
    " datetime.date(1961, 10, 29),\n",
    " datetime.date(1962, 8, 26),\n",
    " datetime.date(1963, 10, 21),\n",
    " datetime.date(1964, 6, 6),\n",
    " datetime.date(1964, 8, 27),\n",
    " datetime.date(1964, 9, 10),\n",
    " datetime.date(1964, 9, 20),\n",
    " datetime.date(1964, 10, 5),\n",
    " datetime.date(1964, 10, 14),\n",
    " datetime.date(1965, 6, 15),\n",
    " datetime.date(1965, 9, 8),\n",
    " datetime.date(1965, 9, 30),\n",
    " datetime.date(1966, 6, 9),\n",
    " datetime.date(1966, 6, 30),\n",
    " datetime.date(1966, 7, 24),\n",
    " datetime.date(1966, 10, 4),\n",
    " datetime.date(1968, 6, 4),\n",
    " datetime.date(1968, 6, 18),\n",
    " datetime.date(1968, 7, 5),\n",
    " datetime.date(1968, 8, 10),\n",
    " datetime.date(1968, 8, 28),\n",
    " datetime.date(1968, 9, 26),\n",
    " datetime.date(1968, 10, 19),\n",
    " datetime.date(1969, 6, 9),\n",
    " datetime.date(1969, 8, 18),\n",
    " datetime.date(1969, 8, 29),\n",
    " datetime.date(1969, 9, 7),\n",
    " datetime.date(1969, 9, 21),\n",
    " datetime.date(1969, 10, 1),\n",
    " datetime.date(1969, 10, 2),\n",
    " datetime.date(1969, 10, 21),\n",
    " datetime.date(1970, 5, 25),\n",
    " datetime.date(1970, 7, 22),\n",
    " datetime.date(1970, 8, 6),\n",
    " datetime.date(1970, 9, 13),\n",
    " datetime.date(1970, 9, 27),\n",
    " datetime.date(1971, 8, 10),\n",
    " datetime.date(1971, 8, 13),\n",
    " datetime.date(1971, 8, 29),\n",
    " datetime.date(1971, 9, 1),\n",
    " datetime.date(1971, 9, 16),\n",
    " datetime.date(1971, 10, 13),\n",
    " datetime.date(1972, 5, 28),\n",
    " datetime.date(1972, 6, 19),\n",
    " datetime.date(1972, 9, 5),\n",
    " datetime.date(1973, 6, 7),\n",
    " datetime.date(1973, 6, 23),\n",
    " datetime.date(1973, 9, 3),\n",
    " datetime.date(1973, 9, 25),\n",
    " datetime.date(1974, 6, 25),\n",
    " datetime.date(1974, 9, 8),\n",
    " datetime.date(1974, 9, 27),\n",
    " datetime.date(1974, 10, 7),\n",
    " datetime.date(1975, 6, 27),\n",
    " datetime.date(1975, 7, 29),\n",
    " datetime.date(1975, 9, 23),\n",
    " datetime.date(1975, 10, 1),\n",
    " datetime.date(1975, 10, 16),\n",
    " datetime.date(1976, 5, 23),\n",
    " datetime.date(1976, 6, 11),\n",
    " datetime.date(1976, 8, 19),\n",
    " datetime.date(1976, 9, 13),\n",
    " datetime.date(1977, 8, 27),\n",
    " datetime.date(1977, 9, 5),\n",
    " datetime.date(1978, 6, 22),\n",
    " datetime.date(1979, 7, 11),\n",
    " datetime.date(1979, 9, 3),\n",
    " datetime.date(1979, 9, 12),\n",
    " datetime.date(1979, 9, 24),\n",
    " datetime.date(1980, 8, 7),\n",
    " datetime.date(1980, 11, 18),\n",
    " datetime.date(1981, 8, 17),\n",
    " datetime.date(1982, 6, 18),\n",
    " datetime.date(1982, 9, 11),\n",
    " datetime.date(1983, 8, 28),\n",
    " datetime.date(1984, 9, 9),\n",
    " datetime.date(1984, 9, 27),\n",
    " datetime.date(1984, 10, 26),\n",
    " datetime.date(1985, 7, 23),\n",
    " datetime.date(1985, 8, 15),\n",
    " datetime.date(1985, 10, 10),\n",
    " datetime.date(1985, 11, 21),\n",
    " datetime.date(1986, 6, 26),\n",
    " datetime.date(1986, 8, 13),\n",
    " datetime.date(1987, 8, 14),\n",
    " datetime.date(1987, 9, 7),\n",
    " datetime.date(1987, 10, 12),\n",
    " datetime.date(1987, 11, 4),\n",
    " datetime.date(1988, 5, 30),\n",
    " datetime.date(1988, 8, 4),\n",
    " datetime.date(1988, 8, 13),\n",
    " datetime.date(1988, 8, 23),\n",
    " datetime.date(1988, 9, 4),\n",
    " datetime.date(1988, 9, 10),\n",
    " datetime.date(1988, 9, 13),\n",
    " datetime.date(1988, 11, 23),\n",
    " datetime.date(1989, 9, 22),\n",
    " datetime.date(1990, 5, 25),\n",
    " datetime.date(1990, 10, 9),\n",
    " datetime.date(1990, 10, 12),\n",
    " datetime.date(1991, 6, 30),\n",
    " datetime.date(1991, 10, 16),\n",
    " datetime.date(1992, 6, 25),\n",
    " datetime.date(1992, 8, 24),\n",
    " datetime.date(1992, 9, 29),\n",
    " datetime.date(1993, 6, 1),\n",
    " datetime.date(1994, 7, 3),\n",
    " datetime.date(1994, 8, 15),\n",
    " datetime.date(1994, 10, 2),\n",
    " datetime.date(1994, 11, 16),\n",
    " datetime.date(1995, 6, 5),\n",
    " datetime.date(1995, 7, 27),\n",
    " datetime.date(1995, 8, 2),\n",
    " datetime.date(1995, 8, 23),\n",
    " datetime.date(1995, 10, 4),\n",
    " datetime.date(1996, 7, 11),\n",
    " datetime.date(1996, 9, 2),\n",
    " datetime.date(1996, 10, 8),\n",
    " datetime.date(1996, 10, 18),\n",
    " datetime.date(1997, 7, 19),\n",
    " datetime.date(1998, 9, 3),\n",
    " datetime.date(1998, 9, 20),\n",
    " datetime.date(1998, 9, 25),\n",
    " datetime.date(1998, 11, 5),\n",
    " datetime.date(1999, 8, 29),\n",
    " datetime.date(1999, 9, 15),\n",
    " datetime.date(1999, 9, 21),\n",
    " datetime.date(1999, 10, 15),\n",
    " datetime.date(2000, 8, 23),\n",
    " datetime.date(2000, 9, 9),\n",
    " datetime.date(2000, 9, 18),\n",
    " datetime.date(2000, 9, 22),\n",
    " datetime.date(2000, 10, 3),\n",
    " datetime.date(2001, 6, 12),\n",
    " datetime.date(2001, 8, 6),\n",
    " datetime.date(2001, 9, 14),\n",
    " datetime.date(2001, 11, 5),\n",
    " datetime.date(2002, 7, 13),\n",
    " datetime.date(2002, 8, 4),\n",
    " datetime.date(2002, 9, 4),\n",
    " datetime.date(2002, 9, 14),\n",
    " datetime.date(2002, 9, 26),\n",
    " datetime.date(2002, 10, 3),\n",
    " datetime.date(2002, 10, 11),\n",
    " datetime.date(2003, 4, 20),\n",
    " datetime.date(2003, 6, 30),\n",
    " datetime.date(2003, 7, 25),\n",
    " datetime.date(2003, 8, 14),\n",
    " datetime.date(2003, 8, 30),\n",
    " datetime.date(2003, 9, 6),\n",
    " datetime.date(2003, 9, 13),\n",
    " datetime.date(2004, 8, 12),\n",
    " datetime.date(2004, 8, 13),\n",
    " datetime.date(2004, 9, 5),\n",
    " datetime.date(2004, 9, 13),\n",
    " datetime.date(2004, 9, 16),\n",
    " datetime.date(2004, 10, 10),\n",
    " datetime.date(2005, 6, 11),\n",
    " datetime.date(2005, 7, 6),\n",
    " datetime.date(2005, 7, 10),\n",
    " datetime.date(2005, 8, 25),\n",
    " datetime.date(2005, 9, 12),\n",
    " datetime.date(2005, 9, 20),\n",
    " datetime.date(2005, 10, 5),\n",
    " datetime.date(2005, 10, 24),\n",
    " datetime.date(2006, 6, 13),\n",
    " datetime.date(2006, 8, 30),\n",
    " datetime.date(2007, 5, 9),\n",
    " datetime.date(2007, 6, 2),\n",
    " datetime.date(2007, 8, 23),\n",
    " datetime.date(2007, 9, 8),\n",
    " datetime.date(2007, 9, 13),\n",
    " datetime.date(2007, 9, 22),\n",
    " datetime.date(2007, 10, 31),\n",
    " datetime.date(2007, 12, 13),\n",
    " datetime.date(2008, 7, 16),\n",
    " datetime.date(2008, 7, 22),\n",
    " datetime.date(2008, 8, 18),\n",
    " datetime.date(2008, 8, 31),\n",
    " datetime.date(2008, 9, 2),\n",
    " datetime.date(2009, 8, 16),\n",
    " datetime.date(2009, 8, 21),\n",
    " datetime.date(2009, 11, 9),\n",
    " datetime.date(2010, 6, 30),\n",
    " datetime.date(2010, 7, 23),\n",
    " datetime.date(2010, 8, 10),\n",
    " datetime.date(2010, 8, 31),\n",
    " datetime.date(2010, 9, 29),\n",
    " datetime.date(2011, 7, 18),\n",
    " datetime.date(2011, 8, 25),\n",
    " datetime.date(2011, 9, 3),\n",
    " datetime.date(2011, 10, 28),\n",
    " datetime.date(2011, 11, 9),\n",
    " datetime.date(2012, 5, 28),\n",
    " datetime.date(2012, 6, 23),\n",
    " datetime.date(2012, 8, 25),\n",
    " datetime.date(2012, 10, 25),\n",
    " datetime.date(2015, 8, 30),\n",
    " datetime.date(2015, 10, 1),\n",
    " datetime.date(2016, 6, 6),\n",
    " datetime.date(2016, 9, 1),\n",
    " datetime.date(2016, 9, 14),\n",
    " datetime.date(2016, 10, 7),\n",
    " datetime.date(2017, 6, 21),\n",
    " datetime.date(2017, 7, 31),\n",
    " datetime.date(2017, 9, 10),\n",
    " datetime.date(2017, 10, 29)]"
   ]
  },
  {
   "cell_type": "markdown",
   "metadata": {
    "hidden": true
   },
   "source": [
    "How many hurricanes since 1950 have made landfall in Florida before the official start of hurricane season?(June1)"
   ]
  },
  {
   "cell_type": "code",
   "execution_count": 17,
   "metadata": {
    "ExecuteTime": {
     "end_time": "2020-07-03T13:54:38.231782Z",
     "start_time": "2020-07-03T13:54:38.224802Z"
    },
    "hidden": true
   },
   "outputs": [
    {
     "name": "stdout",
     "output_type": "stream",
     "text": [
      "10\n"
     ]
    }
   ],
   "source": [
    "early_hurricanes = 0  #Counter\n",
    "# We loop over the dates\n",
    "for hurricane in florida_hurricane_dates:\n",
    "  # Check if the month is before June (month number 6)\n",
    "  if hurricane.month < 6:\n",
    "    early_hurricanes = early_hurricanes + 1\n",
    "    \n",
    "print(early_hurricanes)"
   ]
  },
  {
   "cell_type": "markdown",
   "metadata": {
    "heading_collapsed": true,
    "hidden": true
   },
   "source": [
    "## Math on dates"
   ]
  },
  {
   "cell_type": "markdown",
   "metadata": {
    "ExecuteTime": {
     "end_time": "2020-07-03T14:11:36.067984Z",
     "start_time": "2020-07-03T14:11:36.063999Z"
    },
    "heading_collapsed": true,
    "hidden": true
   },
   "source": [
    "###  Subraction: "
   ]
  },
  {
   "cell_type": "code",
   "execution_count": 36,
   "metadata": {
    "ExecuteTime": {
     "end_time": "2020-07-03T14:04:13.173135Z",
     "start_time": "2020-07-03T14:04:13.166154Z"
    },
    "hidden": true
   },
   "outputs": [
    {
     "name": "stdout",
     "output_type": "stream",
     "text": [
      "9488\n"
     ]
    }
   ],
   "source": [
    "from datetime import date\n",
    "\n",
    "start = date(1994, 7, 12)\n",
    "dt = datetime.datetime.now()\n",
    "end = date(dt.year, dt.month, dt.day)\n",
    "\n",
    "print((end - start).days)      #Time-Delta Object"
   ]
  },
  {
   "cell_type": "markdown",
   "metadata": {
    "heading_collapsed": true,
    "hidden": true
   },
   "source": [
    "###  Addition: "
   ]
  },
  {
   "cell_type": "code",
   "execution_count": 46,
   "metadata": {
    "ExecuteTime": {
     "end_time": "2020-07-03T14:05:52.749394Z",
     "start_time": "2020-07-03T14:05:52.742413Z"
    },
    "hidden": true
   },
   "outputs": [
    {
     "data": {
      "text/plain": [
       "datetime.date(1995, 7, 12)"
      ]
     },
     "execution_count": 46,
     "metadata": {},
     "output_type": "execute_result"
    }
   ],
   "source": [
    "from datetime import timedelta\n",
    "add = timedelta(days=365)\n",
    "start = date(1994, 7, 12)\n",
    "start + add"
   ]
  },
  {
   "cell_type": "markdown",
   "metadata": {
    "heading_collapsed": true,
    "hidden": true
   },
   "source": [
    "###  Counting: "
   ]
  },
  {
   "cell_type": "code",
   "execution_count": 47,
   "metadata": {
    "ExecuteTime": {
     "end_time": "2020-07-03T14:06:14.682022Z",
     "start_time": "2020-07-03T14:06:14.609213Z"
    },
    "code_folding": [
     0
    ],
    "hidden": true
   },
   "outputs": [],
   "source": [
    "florida_hurricane_dates = [datetime.date(1950, 8, 31),\n",
    " datetime.date(1950, 9, 5),\n",
    " datetime.date(1950, 10, 18),\n",
    " datetime.date(1950, 10, 21),\n",
    " datetime.date(1951, 5, 18),\n",
    " datetime.date(1951, 10, 2),\n",
    " datetime.date(1952, 2, 3),\n",
    " datetime.date(1952, 8, 30),\n",
    " datetime.date(1953, 6, 6),\n",
    " datetime.date(1953, 8, 29),\n",
    " datetime.date(1953, 9, 20),\n",
    " datetime.date(1953, 9, 26),\n",
    " datetime.date(1953, 10, 9),\n",
    " datetime.date(1955, 8, 21),\n",
    " datetime.date(1956, 7, 6),\n",
    " datetime.date(1956, 9, 24),\n",
    " datetime.date(1956, 10, 15),\n",
    " datetime.date(1957, 6, 8),\n",
    " datetime.date(1957, 9, 8),\n",
    " datetime.date(1958, 9, 4),\n",
    " datetime.date(1959, 6, 18),\n",
    " datetime.date(1959, 10, 8),\n",
    " datetime.date(1959, 10, 18),\n",
    " datetime.date(1960, 7, 29),\n",
    " datetime.date(1960, 9, 10),\n",
    " datetime.date(1960, 9, 15),\n",
    " datetime.date(1960, 9, 23),\n",
    " datetime.date(1961, 9, 11),\n",
    " datetime.date(1961, 10, 29),\n",
    " datetime.date(1962, 8, 26),\n",
    " datetime.date(1963, 10, 21),\n",
    " datetime.date(1964, 6, 6),\n",
    " datetime.date(1964, 8, 27),\n",
    " datetime.date(1964, 9, 10),\n",
    " datetime.date(1964, 9, 20),\n",
    " datetime.date(1964, 10, 5),\n",
    " datetime.date(1964, 10, 14),\n",
    " datetime.date(1965, 6, 15),\n",
    " datetime.date(1965, 9, 8),\n",
    " datetime.date(1965, 9, 30),\n",
    " datetime.date(1966, 6, 9),\n",
    " datetime.date(1966, 6, 30),\n",
    " datetime.date(1966, 7, 24),\n",
    " datetime.date(1966, 10, 4),\n",
    " datetime.date(1968, 6, 4),\n",
    " datetime.date(1968, 6, 18),\n",
    " datetime.date(1968, 7, 5),\n",
    " datetime.date(1968, 8, 10),\n",
    " datetime.date(1968, 8, 28),\n",
    " datetime.date(1968, 9, 26),\n",
    " datetime.date(1968, 10, 19),\n",
    " datetime.date(1969, 6, 9),\n",
    " datetime.date(1969, 8, 18),\n",
    " datetime.date(1969, 8, 29),\n",
    " datetime.date(1969, 9, 7),\n",
    " datetime.date(1969, 9, 21),\n",
    " datetime.date(1969, 10, 1),\n",
    " datetime.date(1969, 10, 2),\n",
    " datetime.date(1969, 10, 21),\n",
    " datetime.date(1970, 5, 25),\n",
    " datetime.date(1970, 7, 22),\n",
    " datetime.date(1970, 8, 6),\n",
    " datetime.date(1970, 9, 13),\n",
    " datetime.date(1970, 9, 27),\n",
    " datetime.date(1971, 8, 10),\n",
    " datetime.date(1971, 8, 13),\n",
    " datetime.date(1971, 8, 29),\n",
    " datetime.date(1971, 9, 1),\n",
    " datetime.date(1971, 9, 16),\n",
    " datetime.date(1971, 10, 13),\n",
    " datetime.date(1972, 5, 28),\n",
    " datetime.date(1972, 6, 19),\n",
    " datetime.date(1972, 9, 5),\n",
    " datetime.date(1973, 6, 7),\n",
    " datetime.date(1973, 6, 23),\n",
    " datetime.date(1973, 9, 3),\n",
    " datetime.date(1973, 9, 25),\n",
    " datetime.date(1974, 6, 25),\n",
    " datetime.date(1974, 9, 8),\n",
    " datetime.date(1974, 9, 27),\n",
    " datetime.date(1974, 10, 7),\n",
    " datetime.date(1975, 6, 27),\n",
    " datetime.date(1975, 7, 29),\n",
    " datetime.date(1975, 9, 23),\n",
    " datetime.date(1975, 10, 1),\n",
    " datetime.date(1975, 10, 16),\n",
    " datetime.date(1976, 5, 23),\n",
    " datetime.date(1976, 6, 11),\n",
    " datetime.date(1976, 8, 19),\n",
    " datetime.date(1976, 9, 13),\n",
    " datetime.date(1977, 8, 27),\n",
    " datetime.date(1977, 9, 5),\n",
    " datetime.date(1978, 6, 22),\n",
    " datetime.date(1979, 7, 11),\n",
    " datetime.date(1979, 9, 3),\n",
    " datetime.date(1979, 9, 12),\n",
    " datetime.date(1979, 9, 24),\n",
    " datetime.date(1980, 8, 7),\n",
    " datetime.date(1980, 11, 18),\n",
    " datetime.date(1981, 8, 17),\n",
    " datetime.date(1982, 6, 18),\n",
    " datetime.date(1982, 9, 11),\n",
    " datetime.date(1983, 8, 28),\n",
    " datetime.date(1984, 9, 9),\n",
    " datetime.date(1984, 9, 27),\n",
    " datetime.date(1984, 10, 26),\n",
    " datetime.date(1985, 7, 23),\n",
    " datetime.date(1985, 8, 15),\n",
    " datetime.date(1985, 10, 10),\n",
    " datetime.date(1985, 11, 21),\n",
    " datetime.date(1986, 6, 26),\n",
    " datetime.date(1986, 8, 13),\n",
    " datetime.date(1987, 8, 14),\n",
    " datetime.date(1987, 9, 7),\n",
    " datetime.date(1987, 10, 12),\n",
    " datetime.date(1987, 11, 4),\n",
    " datetime.date(1988, 5, 30),\n",
    " datetime.date(1988, 8, 4),\n",
    " datetime.date(1988, 8, 13),\n",
    " datetime.date(1988, 8, 23),\n",
    " datetime.date(1988, 9, 4),\n",
    " datetime.date(1988, 9, 10),\n",
    " datetime.date(1988, 9, 13),\n",
    " datetime.date(1988, 11, 23),\n",
    " datetime.date(1989, 9, 22),\n",
    " datetime.date(1990, 5, 25),\n",
    " datetime.date(1990, 10, 9),\n",
    " datetime.date(1990, 10, 12),\n",
    " datetime.date(1991, 6, 30),\n",
    " datetime.date(1991, 10, 16),\n",
    " datetime.date(1992, 6, 25),\n",
    " datetime.date(1992, 8, 24),\n",
    " datetime.date(1992, 9, 29),\n",
    " datetime.date(1993, 6, 1),\n",
    " datetime.date(1994, 7, 3),\n",
    " datetime.date(1994, 8, 15),\n",
    " datetime.date(1994, 10, 2),\n",
    " datetime.date(1994, 11, 16),\n",
    " datetime.date(1995, 6, 5),\n",
    " datetime.date(1995, 7, 27),\n",
    " datetime.date(1995, 8, 2),\n",
    " datetime.date(1995, 8, 23),\n",
    " datetime.date(1995, 10, 4),\n",
    " datetime.date(1996, 7, 11),\n",
    " datetime.date(1996, 9, 2),\n",
    " datetime.date(1996, 10, 8),\n",
    " datetime.date(1996, 10, 18),\n",
    " datetime.date(1997, 7, 19),\n",
    " datetime.date(1998, 9, 3),\n",
    " datetime.date(1998, 9, 20),\n",
    " datetime.date(1998, 9, 25),\n",
    " datetime.date(1998, 11, 5),\n",
    " datetime.date(1999, 8, 29),\n",
    " datetime.date(1999, 9, 15),\n",
    " datetime.date(1999, 9, 21),\n",
    " datetime.date(1999, 10, 15),\n",
    " datetime.date(2000, 8, 23),\n",
    " datetime.date(2000, 9, 9),\n",
    " datetime.date(2000, 9, 18),\n",
    " datetime.date(2000, 9, 22),\n",
    " datetime.date(2000, 10, 3),\n",
    " datetime.date(2001, 6, 12),\n",
    " datetime.date(2001, 8, 6),\n",
    " datetime.date(2001, 9, 14),\n",
    " datetime.date(2001, 11, 5),\n",
    " datetime.date(2002, 7, 13),\n",
    " datetime.date(2002, 8, 4),\n",
    " datetime.date(2002, 9, 4),\n",
    " datetime.date(2002, 9, 14),\n",
    " datetime.date(2002, 9, 26),\n",
    " datetime.date(2002, 10, 3),\n",
    " datetime.date(2002, 10, 11),\n",
    " datetime.date(2003, 4, 20),\n",
    " datetime.date(2003, 6, 30),\n",
    " datetime.date(2003, 7, 25),\n",
    " datetime.date(2003, 8, 14),\n",
    " datetime.date(2003, 8, 30),\n",
    " datetime.date(2003, 9, 6),\n",
    " datetime.date(2003, 9, 13),\n",
    " datetime.date(2004, 8, 12),\n",
    " datetime.date(2004, 8, 13),\n",
    " datetime.date(2004, 9, 5),\n",
    " datetime.date(2004, 9, 13),\n",
    " datetime.date(2004, 9, 16),\n",
    " datetime.date(2004, 10, 10),\n",
    " datetime.date(2005, 6, 11),\n",
    " datetime.date(2005, 7, 6),\n",
    " datetime.date(2005, 7, 10),\n",
    " datetime.date(2005, 8, 25),\n",
    " datetime.date(2005, 9, 12),\n",
    " datetime.date(2005, 9, 20),\n",
    " datetime.date(2005, 10, 5),\n",
    " datetime.date(2005, 10, 24),\n",
    " datetime.date(2006, 6, 13),\n",
    " datetime.date(2006, 8, 30),\n",
    " datetime.date(2007, 5, 9),\n",
    " datetime.date(2007, 6, 2),\n",
    " datetime.date(2007, 8, 23),\n",
    " datetime.date(2007, 9, 8),\n",
    " datetime.date(2007, 9, 13),\n",
    " datetime.date(2007, 9, 22),\n",
    " datetime.date(2007, 10, 31),\n",
    " datetime.date(2007, 12, 13),\n",
    " datetime.date(2008, 7, 16),\n",
    " datetime.date(2008, 7, 22),\n",
    " datetime.date(2008, 8, 18),\n",
    " datetime.date(2008, 8, 31),\n",
    " datetime.date(2008, 9, 2),\n",
    " datetime.date(2009, 8, 16),\n",
    " datetime.date(2009, 8, 21),\n",
    " datetime.date(2009, 11, 9),\n",
    " datetime.date(2010, 6, 30),\n",
    " datetime.date(2010, 7, 23),\n",
    " datetime.date(2010, 8, 10),\n",
    " datetime.date(2010, 8, 31),\n",
    " datetime.date(2010, 9, 29),\n",
    " datetime.date(2011, 7, 18),\n",
    " datetime.date(2011, 8, 25),\n",
    " datetime.date(2011, 9, 3),\n",
    " datetime.date(2011, 10, 28),\n",
    " datetime.date(2011, 11, 9),\n",
    " datetime.date(2012, 5, 28),\n",
    " datetime.date(2012, 6, 23),\n",
    " datetime.date(2012, 8, 25),\n",
    " datetime.date(2012, 10, 25),\n",
    " datetime.date(2015, 8, 30),\n",
    " datetime.date(2015, 10, 1),\n",
    " datetime.date(2016, 6, 6),\n",
    " datetime.date(2016, 9, 1),\n",
    " datetime.date(2016, 9, 14),\n",
    " datetime.date(2016, 10, 7),\n",
    " datetime.date(2017, 6, 21),\n",
    " datetime.date(2017, 7, 31),\n",
    " datetime.date(2017, 9, 10),\n",
    " datetime.date(2017, 10, 29)]"
   ]
  },
  {
   "cell_type": "code",
   "execution_count": 48,
   "metadata": {
    "ExecuteTime": {
     "end_time": "2020-07-03T14:06:27.424555Z",
     "start_time": "2020-07-03T14:06:27.418570Z"
    },
    "hidden": true
   },
   "outputs": [],
   "source": [
    "# A dictionary to count hurricanes per calendar month\n",
    "hurricanes_each_month = {1: 0, 2: 0, 3: 0, 4: 0, 5: 0, 6:0,\n",
    "\t\t  \t\t\t\t 7: 0, 8:0, 9:0, 10:0, 11:0, 12:0}"
   ]
  },
  {
   "cell_type": "code",
   "execution_count": 52,
   "metadata": {
    "ExecuteTime": {
     "end_time": "2020-07-03T14:07:38.268199Z",
     "start_time": "2020-07-03T14:07:38.261218Z"
    },
    "hidden": true
   },
   "outputs": [
    {
     "name": "stdout",
     "output_type": "stream",
     "text": [
      "{1: 0, 2: 1, 3: 0, 4: 1, 5: 8, 6: 32, 7: 21, 8: 49, 9: 70, 10: 43, 11: 9, 12: 1}\n"
     ]
    }
   ],
   "source": [
    "# Loop over all hurricanes\n",
    "for hurricane in florida_hurricane_dates:\n",
    "  # Pull out the month\n",
    "  month = hurricane.month\n",
    "  # Increment the count in your dictionary by one\n",
    "  hurricanes_each_month[month] +=1\n",
    "    \n",
    "print(hurricanes_each_month)"
   ]
  },
  {
   "cell_type": "code",
   "execution_count": 59,
   "metadata": {
    "ExecuteTime": {
     "end_time": "2020-07-03T14:09:19.623381Z",
     "start_time": "2020-07-03T14:09:15.542874Z"
    },
    "hidden": true
   },
   "outputs": [],
   "source": [
    "import matplotlib.pyplot as plt\n",
    "plt.bar(hurricanes_each_month.keys(),hurricanes_each_month.values())"
   ]
  },
  {
   "cell_type": "markdown",
   "metadata": {
    "heading_collapsed": true,
    "hidden": true
   },
   "source": [
    "###  Ordering a List of Dates: "
   ]
  },
  {
   "cell_type": "markdown",
   "metadata": {
    "hidden": true
   },
   "source": [
    "- sorted() Method"
   ]
  },
  {
   "cell_type": "code",
   "execution_count": 63,
   "metadata": {
    "ExecuteTime": {
     "end_time": "2020-07-03T14:10:59.975920Z",
     "start_time": "2020-07-03T14:10:59.895007Z"
    },
    "code_folding": [
     0
    ],
    "hidden": true
   },
   "outputs": [],
   "source": [
    "dates_scrambled = [datetime.date(1988, 8, 4),\n",
    " datetime.date(1990, 10, 12),\n",
    " datetime.date(2003, 4, 20),\n",
    " datetime.date(1971, 9, 1),\n",
    " datetime.date(1988, 8, 23),\n",
    " datetime.date(1994, 8, 15),\n",
    " datetime.date(2002, 8, 4),\n",
    " datetime.date(1988, 5, 30),\n",
    " datetime.date(2003, 9, 13),\n",
    " datetime.date(2009, 8, 21),\n",
    " datetime.date(1978, 6, 22),\n",
    " datetime.date(1969, 6, 9),\n",
    " datetime.date(1976, 6, 11),\n",
    " datetime.date(1976, 8, 19),\n",
    " datetime.date(1966, 6, 9),\n",
    " datetime.date(1968, 7, 5),\n",
    " datetime.date(1987, 11, 4),\n",
    " datetime.date(1988, 8, 13),\n",
    " datetime.date(2007, 12, 13),\n",
    " datetime.date(1994, 11, 16),\n",
    " datetime.date(2003, 9, 6),\n",
    " datetime.date(1971, 8, 13),\n",
    " datetime.date(1981, 8, 17),\n",
    " datetime.date(1998, 9, 25),\n",
    " datetime.date(1968, 9, 26),\n",
    " datetime.date(1968, 6, 4),\n",
    " datetime.date(1998, 11, 5),\n",
    " datetime.date(2008, 8, 18),\n",
    " datetime.date(1987, 8, 14),\n",
    " datetime.date(1988, 11, 23),\n",
    " datetime.date(2010, 9, 29),\n",
    " datetime.date(1985, 7, 23),\n",
    " datetime.date(2017, 7, 31),\n",
    " datetime.date(1955, 8, 21),\n",
    " datetime.date(1986, 6, 26),\n",
    " datetime.date(1963, 10, 21),\n",
    " datetime.date(2011, 10, 28),\n",
    " datetime.date(2011, 11, 9),\n",
    " datetime.date(1997, 7, 19),\n",
    " datetime.date(2007, 6, 2),\n",
    " datetime.date(2002, 9, 14),\n",
    " datetime.date(1992, 9, 29),\n",
    " datetime.date(1971, 10, 13),\n",
    " datetime.date(1962, 8, 26),\n",
    " datetime.date(1964, 8, 27),\n",
    " datetime.date(1984, 9, 27),\n",
    " datetime.date(1973, 9, 25),\n",
    " datetime.date(1969, 10, 21),\n",
    " datetime.date(1994, 7, 3),\n",
    " datetime.date(1958, 9, 4),\n",
    " datetime.date(1985, 11, 21),\n",
    " datetime.date(2011, 9, 3),\n",
    " datetime.date(1972, 6, 19),\n",
    " datetime.date(1991, 6, 30),\n",
    " datetime.date(2004, 8, 12),\n",
    " datetime.date(2007, 9, 8),\n",
    " datetime.date(1952, 2, 3),\n",
    " datetime.date(1965, 9, 30),\n",
    " datetime.date(2000, 9, 22),\n",
    " datetime.date(2002, 9, 26),\n",
    " datetime.date(1950, 9, 5),\n",
    " datetime.date(1966, 10, 4),\n",
    " datetime.date(1970, 5, 25),\n",
    " datetime.date(1979, 9, 24),\n",
    " datetime.date(1960, 9, 23),\n",
    " datetime.date(2007, 8, 23),\n",
    " datetime.date(2009, 8, 16),\n",
    " datetime.date(1996, 10, 18),\n",
    " datetime.date(2012, 10, 25),\n",
    " datetime.date(2011, 8, 25),\n",
    " datetime.date(1951, 5, 18),\n",
    " datetime.date(1980, 8, 7),\n",
    " datetime.date(1979, 9, 3),\n",
    " datetime.date(1953, 9, 26),\n",
    " datetime.date(1968, 10, 19),\n",
    " datetime.date(2009, 11, 9),\n",
    " datetime.date(1999, 8, 29),\n",
    " datetime.date(2015, 10, 1),\n",
    " datetime.date(2008, 9, 2),\n",
    " datetime.date(2004, 10, 10),\n",
    " datetime.date(2004, 9, 16),\n",
    " datetime.date(1992, 8, 24),\n",
    " datetime.date(2000, 9, 9),\n",
    " datetime.date(1971, 9, 16),\n",
    " datetime.date(1996, 9, 2),\n",
    " datetime.date(1998, 9, 3),\n",
    " datetime.date(1951, 10, 2),\n",
    " datetime.date(1979, 9, 12),\n",
    " datetime.date(2007, 10, 31),\n",
    " datetime.date(1953, 10, 9),\n",
    " datetime.date(1952, 8, 30),\n",
    " datetime.date(1969, 9, 7),\n",
    " datetime.date(2015, 8, 30),\n",
    " datetime.date(1959, 10, 8),\n",
    " datetime.date(2002, 7, 13),\n",
    " datetime.date(1961, 10, 29),\n",
    " datetime.date(2007, 5, 9),\n",
    " datetime.date(2016, 10, 7),\n",
    " datetime.date(1964, 9, 20),\n",
    " datetime.date(1979, 7, 11),\n",
    " datetime.date(1950, 10, 18),\n",
    " datetime.date(2008, 8, 31),\n",
    " datetime.date(2012, 8, 25),\n",
    " datetime.date(1966, 7, 24),\n",
    " datetime.date(2010, 8, 10),\n",
    " datetime.date(2005, 8, 25),\n",
    " datetime.date(2003, 6, 30),\n",
    " datetime.date(1956, 7, 6),\n",
    " datetime.date(1974, 9, 8),\n",
    " datetime.date(1966, 6, 30),\n",
    " datetime.date(2016, 9, 14),\n",
    " datetime.date(1968, 6, 18),\n",
    " datetime.date(1982, 9, 11),\n",
    " datetime.date(1976, 9, 13),\n",
    " datetime.date(1975, 7, 29),\n",
    " datetime.date(2007, 9, 13),\n",
    " datetime.date(1970, 9, 27),\n",
    " datetime.date(1969, 10, 2),\n",
    " datetime.date(2010, 8, 31),\n",
    " datetime.date(1995, 10, 4),\n",
    " datetime.date(1969, 8, 29),\n",
    " datetime.date(1984, 10, 26),\n",
    " datetime.date(1973, 9, 3),\n",
    " datetime.date(1976, 5, 23),\n",
    " datetime.date(2001, 11, 5),\n",
    " datetime.date(2010, 6, 30),\n",
    " datetime.date(1985, 10, 10),\n",
    " datetime.date(1970, 7, 22),\n",
    " datetime.date(1972, 5, 28),\n",
    " datetime.date(1982, 6, 18),\n",
    " datetime.date(2001, 8, 6),\n",
    " datetime.date(1953, 8, 29),\n",
    " datetime.date(1965, 9, 8),\n",
    " datetime.date(1964, 9, 10),\n",
    " datetime.date(1959, 10, 18),\n",
    " datetime.date(1957, 6, 8),\n",
    " datetime.date(1988, 9, 10),\n",
    " datetime.date(2005, 6, 11),\n",
    " datetime.date(1953, 6, 6),\n",
    " datetime.date(2003, 8, 30),\n",
    " datetime.date(2002, 10, 3),\n",
    " datetime.date(1968, 8, 10),\n",
    " datetime.date(1999, 10, 15),\n",
    " datetime.date(2002, 9, 4),\n",
    " datetime.date(2001, 6, 12),\n",
    " datetime.date(2017, 9, 10),\n",
    " datetime.date(2005, 10, 5),\n",
    " datetime.date(2005, 7, 10),\n",
    " datetime.date(1973, 6, 7),\n",
    " datetime.date(1999, 9, 15),\n",
    " datetime.date(2005, 9, 20),\n",
    " datetime.date(1995, 6, 5),\n",
    " datetime.date(2003, 7, 25),\n",
    " datetime.date(2004, 9, 13),\n",
    " datetime.date(1964, 6, 6),\n",
    " datetime.date(1973, 6, 23),\n",
    " datetime.date(2005, 9, 12),\n",
    " datetime.date(2012, 6, 23),\n",
    " datetime.date(1961, 9, 11),\n",
    " datetime.date(1990, 5, 25),\n",
    " datetime.date(2017, 6, 21),\n",
    " datetime.date(1975, 6, 27),\n",
    " datetime.date(1959, 6, 18),\n",
    " datetime.date(2004, 9, 5),\n",
    " datetime.date(1987, 10, 12),\n",
    " datetime.date(1995, 7, 27),\n",
    " datetime.date(1964, 10, 14),\n",
    " datetime.date(1970, 8, 6),\n",
    " datetime.date(1969, 10, 1),\n",
    " datetime.date(1996, 10, 8),\n",
    " datetime.date(1968, 8, 28),\n",
    " datetime.date(1956, 10, 15),\n",
    " datetime.date(1975, 9, 23),\n",
    " datetime.date(1970, 9, 13),\n",
    " datetime.date(1975, 10, 16),\n",
    " datetime.date(1990, 10, 9),\n",
    " datetime.date(2005, 10, 24),\n",
    " datetime.date(1950, 8, 31),\n",
    " datetime.date(2000, 10, 3),\n",
    " datetime.date(2002, 10, 11),\n",
    " datetime.date(1983, 8, 28),\n",
    " datetime.date(1960, 7, 29),\n",
    " datetime.date(1950, 10, 21),\n",
    " datetime.date(1995, 8, 2),\n",
    " datetime.date(1956, 9, 24),\n",
    " datetime.date(2016, 9, 1),\n",
    " datetime.date(1993, 6, 1),\n",
    " datetime.date(1987, 9, 7),\n",
    " datetime.date(2012, 5, 28),\n",
    " datetime.date(1995, 8, 23),\n",
    " datetime.date(1969, 8, 18),\n",
    " datetime.date(2001, 9, 14),\n",
    " datetime.date(2000, 8, 23),\n",
    " datetime.date(1974, 10, 7),\n",
    " datetime.date(1986, 8, 13),\n",
    " datetime.date(1977, 8, 27),\n",
    " datetime.date(2008, 7, 16),\n",
    " datetime.date(1996, 7, 11),\n",
    " datetime.date(1988, 9, 4),\n",
    " datetime.date(1975, 10, 1),\n",
    " datetime.date(2003, 8, 14),\n",
    " datetime.date(1957, 9, 8),\n",
    " datetime.date(2005, 7, 6),\n",
    " datetime.date(1960, 9, 15),\n",
    " datetime.date(1974, 9, 27),\n",
    " datetime.date(1965, 6, 15),\n",
    " datetime.date(1999, 9, 21),\n",
    " datetime.date(2004, 8, 13),\n",
    " datetime.date(1994, 10, 2),\n",
    " datetime.date(1971, 8, 10),\n",
    " datetime.date(2008, 7, 22),\n",
    " datetime.date(2000, 9, 18),\n",
    " datetime.date(1960, 9, 10),\n",
    " datetime.date(2006, 6, 13),\n",
    " datetime.date(2017, 10, 29),\n",
    " datetime.date(1972, 9, 5),\n",
    " datetime.date(1964, 10, 5),\n",
    " datetime.date(1991, 10, 16),\n",
    " datetime.date(1969, 9, 21),\n",
    " datetime.date(1998, 9, 20),\n",
    " datetime.date(1977, 9, 5),\n",
    " datetime.date(1988, 9, 13),\n",
    " datetime.date(1974, 6, 25),\n",
    " datetime.date(2010, 7, 23),\n",
    " datetime.date(2007, 9, 22),\n",
    " datetime.date(1984, 9, 9),\n",
    " datetime.date(1989, 9, 22),\n",
    " datetime.date(1992, 6, 25),\n",
    " datetime.date(1971, 8, 29),\n",
    " datetime.date(1953, 9, 20),\n",
    " datetime.date(1985, 8, 15),\n",
    " datetime.date(2016, 6, 6),\n",
    " datetime.date(2006, 8, 30),\n",
    " datetime.date(1980, 11, 18),\n",
    " datetime.date(2011, 7, 18)]"
   ]
  },
  {
   "cell_type": "code",
   "execution_count": 65,
   "metadata": {
    "ExecuteTime": {
     "end_time": "2020-07-03T14:12:58.146002Z",
     "start_time": "2020-07-03T14:12:58.141019Z"
    },
    "hidden": true
   },
   "outputs": [],
   "source": [
    "dates_ordered = sorted(dates_scrambled)"
   ]
  },
  {
   "cell_type": "markdown",
   "metadata": {
    "heading_collapsed": true,
    "hidden": true
   },
   "source": [
    "## Dates into Strings"
   ]
  },
  {
   "cell_type": "markdown",
   "metadata": {
    "heading_collapsed": true,
    "hidden": true
   },
   "source": [
    "### ISO Format"
   ]
  },
  {
   "cell_type": "code",
   "execution_count": 91,
   "metadata": {
    "ExecuteTime": {
     "end_time": "2020-07-03T16:09:10.622012Z",
     "start_time": "2020-07-03T16:09:10.616990Z"
    },
    "hidden": true
   },
   "outputs": [
    {
     "name": "stdout",
     "output_type": "stream",
     "text": [
      "1994-07-12\n"
     ]
    }
   ],
   "source": [
    "from datetime import date\n",
    "# Create a date object\n",
    "bday = date(1994, 7, 12)  #year, month , day\n",
    "print(bday)     #ISO Format : YYYY-MM-DD (ISO8601 Format) , always same length"
   ]
  },
  {
   "cell_type": "code",
   "execution_count": 92,
   "metadata": {
    "ExecuteTime": {
     "end_time": "2020-07-03T16:09:11.136133Z",
     "start_time": "2020-07-03T16:09:11.128154Z"
    },
    "hidden": true
   },
   "outputs": [
    {
     "data": {
      "text/plain": [
       "'1994-07-12'"
      ]
     },
     "execution_count": 92,
     "metadata": {},
     "output_type": "execute_result"
    }
   ],
   "source": [
    "bday.isoformat()"
   ]
  },
  {
   "cell_type": "markdown",
   "metadata": {
    "hidden": true
   },
   "source": [
    "<b> ISO8601 Format (YYYY-MM-DD) </b>"
   ]
  },
  {
   "cell_type": "code",
   "execution_count": 93,
   "metadata": {
    "ExecuteTime": {
     "end_time": "2020-07-03T16:09:12.618219Z",
     "start_time": "2020-07-03T16:09:12.611203Z"
    },
    "hidden": true
   },
   "outputs": [
    {
     "data": {
      "text/plain": [
       "['1999-12-04', '2000-01-27']"
      ]
     },
     "execution_count": 93,
     "metadata": {},
     "output_type": "execute_result"
    }
   ],
   "source": [
    "some_dates = ['2000-01-27','1999-12-04']\n",
    "sorted(some_dates)"
   ]
  },
  {
   "cell_type": "markdown",
   "metadata": {
    "heading_collapsed": true,
    "hidden": true
   },
   "source": [
    "### strftime() Method : Custom Formatting of Date Objects"
   ]
  },
  {
   "cell_type": "markdown",
   "metadata": {
    "hidden": true
   },
   "source": [
    "<b> strftime() Method </b>"
   ]
  },
  {
   "cell_type": "markdown",
   "metadata": {
    "hidden": true
   },
   "source": [
    "- DATEOBJECT.strf(\"Year is %Y\")\n",
    "- DATEOBJECT.strf('%m/%d/%Y')\n",
    "- %B  >>>>>>>>>>> Month in Full Format( eg: 8 = August)\n",
    "- %j >>>>>>>>eg:244 (Day Number)\n",
    "- %H >>>>>>> Hour\n",
    "- %M >>>>>>> Minute\n",
    "- %S >>>>>>> Second\n"
   ]
  },
  {
   "cell_type": "code",
   "execution_count": 98,
   "metadata": {
    "ExecuteTime": {
     "end_time": "2020-07-03T16:09:29.146219Z",
     "start_time": "2020-07-03T16:09:29.050510Z"
    },
    "code_folding": [
     0
    ],
    "collapsed": true,
    "hidden": true
   },
   "outputs": [
    {
     "ename": "TypeError",
     "evalue": "descriptor 'date' requires a 'datetime.datetime' object but received a 'int'",
     "output_type": "error",
     "traceback": [
      "\u001b[1;31m---------------------------------------------------------------------------\u001b[0m",
      "\u001b[1;31mTypeError\u001b[0m                                 Traceback (most recent call last)",
      "\u001b[1;32m<ipython-input-98-c653f9d0d2ce>\u001b[0m in \u001b[0;36m<module>\u001b[1;34m\u001b[0m\n\u001b[1;32m----> 1\u001b[1;33m florida_hurricane_dates = [datetime.date(1950, 8, 31),\n\u001b[0m\u001b[0;32m      2\u001b[0m  \u001b[0mdatetime\u001b[0m\u001b[1;33m.\u001b[0m\u001b[0mdate\u001b[0m\u001b[1;33m(\u001b[0m\u001b[1;36m1950\u001b[0m\u001b[1;33m,\u001b[0m \u001b[1;36m9\u001b[0m\u001b[1;33m,\u001b[0m \u001b[1;36m5\u001b[0m\u001b[1;33m)\u001b[0m\u001b[1;33m,\u001b[0m\u001b[1;33m\u001b[0m\u001b[1;33m\u001b[0m\u001b[0m\n\u001b[0;32m      3\u001b[0m  \u001b[0mdatetime\u001b[0m\u001b[1;33m.\u001b[0m\u001b[0mdate\u001b[0m\u001b[1;33m(\u001b[0m\u001b[1;36m1950\u001b[0m\u001b[1;33m,\u001b[0m \u001b[1;36m10\u001b[0m\u001b[1;33m,\u001b[0m \u001b[1;36m18\u001b[0m\u001b[1;33m)\u001b[0m\u001b[1;33m,\u001b[0m\u001b[1;33m\u001b[0m\u001b[1;33m\u001b[0m\u001b[0m\n\u001b[0;32m      4\u001b[0m  \u001b[0mdatetime\u001b[0m\u001b[1;33m.\u001b[0m\u001b[0mdate\u001b[0m\u001b[1;33m(\u001b[0m\u001b[1;36m1950\u001b[0m\u001b[1;33m,\u001b[0m \u001b[1;36m10\u001b[0m\u001b[1;33m,\u001b[0m \u001b[1;36m21\u001b[0m\u001b[1;33m)\u001b[0m\u001b[1;33m,\u001b[0m\u001b[1;33m\u001b[0m\u001b[1;33m\u001b[0m\u001b[0m\n\u001b[0;32m      5\u001b[0m  \u001b[0mdatetime\u001b[0m\u001b[1;33m.\u001b[0m\u001b[0mdate\u001b[0m\u001b[1;33m(\u001b[0m\u001b[1;36m1951\u001b[0m\u001b[1;33m,\u001b[0m \u001b[1;36m5\u001b[0m\u001b[1;33m,\u001b[0m \u001b[1;36m18\u001b[0m\u001b[1;33m)\u001b[0m\u001b[1;33m,\u001b[0m\u001b[1;33m\u001b[0m\u001b[1;33m\u001b[0m\u001b[0m\n",
      "\u001b[1;31mTypeError\u001b[0m: descriptor 'date' requires a 'datetime.datetime' object but received a 'int'"
     ]
    }
   ],
   "source": [
    "florida_hurricane_dates = [datetime.date(1950, 8, 31),\n",
    " datetime.date(1950, 9, 5),\n",
    " datetime.date(1950, 10, 18),\n",
    " datetime.date(1950, 10, 21),\n",
    " datetime.date(1951, 5, 18),\n",
    " datetime.date(1951, 10, 2),\n",
    " datetime.date(1952, 2, 3),\n",
    " datetime.date(1952, 8, 30),\n",
    " datetime.date(1953, 6, 6),\n",
    " datetime.date(1953, 8, 29),\n",
    " datetime.date(1953, 9, 20),\n",
    " datetime.date(1953, 9, 26),\n",
    " datetime.date(1953, 10, 9),\n",
    " datetime.date(1955, 8, 21),\n",
    " datetime.date(1956, 7, 6),\n",
    " datetime.date(1956, 9, 24),\n",
    " datetime.date(1956, 10, 15),\n",
    " datetime.date(1957, 6, 8),\n",
    " datetime.date(1957, 9, 8),\n",
    " datetime.date(1958, 9, 4),\n",
    " datetime.date(1959, 6, 18),\n",
    " datetime.date(1959, 10, 8),\n",
    " datetime.date(1959, 10, 18),\n",
    " datetime.date(1960, 7, 29),\n",
    " datetime.date(1960, 9, 10),\n",
    " datetime.date(1960, 9, 15),\n",
    " datetime.date(1960, 9, 23),\n",
    " datetime.date(1961, 9, 11),\n",
    " datetime.date(1961, 10, 29),\n",
    " datetime.date(1962, 8, 26),\n",
    " datetime.date(1963, 10, 21),\n",
    " datetime.date(1964, 6, 6),\n",
    " datetime.date(1964, 8, 27),\n",
    " datetime.date(1964, 9, 10),\n",
    " datetime.date(1964, 9, 20),\n",
    " datetime.date(1964, 10, 5),\n",
    " datetime.date(1964, 10, 14),\n",
    " datetime.date(1965, 6, 15),\n",
    " datetime.date(1965, 9, 8),\n",
    " datetime.date(1965, 9, 30),\n",
    " datetime.date(1966, 6, 9),\n",
    " datetime.date(1966, 6, 30),\n",
    " datetime.date(1966, 7, 24),\n",
    " datetime.date(1966, 10, 4),\n",
    " datetime.date(1968, 6, 4),\n",
    " datetime.date(1968, 6, 18),\n",
    " datetime.date(1968, 7, 5),\n",
    " datetime.date(1968, 8, 10),\n",
    " datetime.date(1968, 8, 28),\n",
    " datetime.date(1968, 9, 26),\n",
    " datetime.date(1968, 10, 19),\n",
    " datetime.date(1969, 6, 9),\n",
    " datetime.date(1969, 8, 18),\n",
    " datetime.date(1969, 8, 29),\n",
    " datetime.date(1969, 9, 7),\n",
    " datetime.date(1969, 9, 21),\n",
    " datetime.date(1969, 10, 1),\n",
    " datetime.date(1969, 10, 2),\n",
    " datetime.date(1969, 10, 21),\n",
    " datetime.date(1970, 5, 25),\n",
    " datetime.date(1970, 7, 22),\n",
    " datetime.date(1970, 8, 6),\n",
    " datetime.date(1970, 9, 13),\n",
    " datetime.date(1970, 9, 27),\n",
    " datetime.date(1971, 8, 10),\n",
    " datetime.date(1971, 8, 13),\n",
    " datetime.date(1971, 8, 29),\n",
    " datetime.date(1971, 9, 1),\n",
    " datetime.date(1971, 9, 16),\n",
    " datetime.date(1971, 10, 13),\n",
    " datetime.date(1972, 5, 28),\n",
    " datetime.date(1972, 6, 19),\n",
    " datetime.date(1972, 9, 5),\n",
    " datetime.date(1973, 6, 7),\n",
    " datetime.date(1973, 6, 23),\n",
    " datetime.date(1973, 9, 3),\n",
    " datetime.date(1973, 9, 25),\n",
    " datetime.date(1974, 6, 25),\n",
    " datetime.date(1974, 9, 8),\n",
    " datetime.date(1974, 9, 27),\n",
    " datetime.date(1974, 10, 7),\n",
    " datetime.date(1975, 6, 27),\n",
    " datetime.date(1975, 7, 29),\n",
    " datetime.date(1975, 9, 23),\n",
    " datetime.date(1975, 10, 1),\n",
    " datetime.date(1975, 10, 16),\n",
    " datetime.date(1976, 5, 23),\n",
    " datetime.date(1976, 6, 11),\n",
    " datetime.date(1976, 8, 19),\n",
    " datetime.date(1976, 9, 13),\n",
    " datetime.date(1977, 8, 27),\n",
    " datetime.date(1977, 9, 5),\n",
    " datetime.date(1978, 6, 22),\n",
    " datetime.date(1979, 7, 11),\n",
    " datetime.date(1979, 9, 3),\n",
    " datetime.date(1979, 9, 12),\n",
    " datetime.date(1979, 9, 24),\n",
    " datetime.date(1980, 8, 7),\n",
    " datetime.date(1980, 11, 18),\n",
    " datetime.date(1981, 8, 17),\n",
    " datetime.date(1982, 6, 18),\n",
    " datetime.date(1982, 9, 11),\n",
    " datetime.date(1983, 8, 28),\n",
    " datetime.date(1984, 9, 9),\n",
    " datetime.date(1984, 9, 27),\n",
    " datetime.date(1984, 10, 26),\n",
    " datetime.date(1985, 7, 23),\n",
    " datetime.date(1985, 8, 15),\n",
    " datetime.date(1985, 10, 10),\n",
    " datetime.date(1985, 11, 21),\n",
    " datetime.date(1986, 6, 26),\n",
    " datetime.date(1986, 8, 13),\n",
    " datetime.date(1987, 8, 14),\n",
    " datetime.date(1987, 9, 7),\n",
    " datetime.date(1987, 10, 12),\n",
    " datetime.date(1987, 11, 4),\n",
    " datetime.date(1988, 5, 30),\n",
    " datetime.date(1988, 8, 4),\n",
    " datetime.date(1988, 8, 13),\n",
    " datetime.date(1988, 8, 23),\n",
    " datetime.date(1988, 9, 4),\n",
    " datetime.date(1988, 9, 10),\n",
    " datetime.date(1988, 9, 13),\n",
    " datetime.date(1988, 11, 23),\n",
    " datetime.date(1989, 9, 22),\n",
    " datetime.date(1990, 5, 25),\n",
    " datetime.date(1990, 10, 9),\n",
    " datetime.date(1990, 10, 12),\n",
    " datetime.date(1991, 6, 30),\n",
    " datetime.date(1991, 10, 16),\n",
    " datetime.date(1992, 6, 25),\n",
    " datetime.date(1992, 8, 24),\n",
    " datetime.date(1992, 9, 29),\n",
    " datetime.date(1993, 6, 1),\n",
    " datetime.date(1994, 7, 3),\n",
    " datetime.date(1994, 8, 15),\n",
    " datetime.date(1994, 10, 2),\n",
    " datetime.date(1994, 11, 16),\n",
    " datetime.date(1995, 6, 5),\n",
    " datetime.date(1995, 7, 27),\n",
    " datetime.date(1995, 8, 2),\n",
    " datetime.date(1995, 8, 23),\n",
    " datetime.date(1995, 10, 4),\n",
    " datetime.date(1996, 7, 11),\n",
    " datetime.date(1996, 9, 2),\n",
    " datetime.date(1996, 10, 8),\n",
    " datetime.date(1996, 10, 18),\n",
    " datetime.date(1997, 7, 19),\n",
    " datetime.date(1998, 9, 3),\n",
    " datetime.date(1998, 9, 20),\n",
    " datetime.date(1998, 9, 25),\n",
    " datetime.date(1998, 11, 5),\n",
    " datetime.date(1999, 8, 29),\n",
    " datetime.date(1999, 9, 15),\n",
    " datetime.date(1999, 9, 21),\n",
    " datetime.date(1999, 10, 15),\n",
    " datetime.date(2000, 8, 23),\n",
    " datetime.date(2000, 9, 9),\n",
    " datetime.date(2000, 9, 18),\n",
    " datetime.date(2000, 9, 22),\n",
    " datetime.date(2000, 10, 3),\n",
    " datetime.date(2001, 6, 12),\n",
    " datetime.date(2001, 8, 6),\n",
    " datetime.date(2001, 9, 14),\n",
    " datetime.date(2001, 11, 5),\n",
    " datetime.date(2002, 7, 13),\n",
    " datetime.date(2002, 8, 4),\n",
    " datetime.date(2002, 9, 4),\n",
    " datetime.date(2002, 9, 14),\n",
    " datetime.date(2002, 9, 26),\n",
    " datetime.date(2002, 10, 3),\n",
    " datetime.date(2002, 10, 11),\n",
    " datetime.date(2003, 4, 20),\n",
    " datetime.date(2003, 6, 30),\n",
    " datetime.date(2003, 7, 25),\n",
    " datetime.date(2003, 8, 14),\n",
    " datetime.date(2003, 8, 30),\n",
    " datetime.date(2003, 9, 6),\n",
    " datetime.date(2003, 9, 13),\n",
    " datetime.date(2004, 8, 12),\n",
    " datetime.date(2004, 8, 13),\n",
    " datetime.date(2004, 9, 5),\n",
    " datetime.date(2004, 9, 13),\n",
    " datetime.date(2004, 9, 16),\n",
    " datetime.date(2004, 10, 10),\n",
    " datetime.date(2005, 6, 11),\n",
    " datetime.date(2005, 7, 6),\n",
    " datetime.date(2005, 7, 10),\n",
    " datetime.date(2005, 8, 25),\n",
    " datetime.date(2005, 9, 12),\n",
    " datetime.date(2005, 9, 20),\n",
    " datetime.date(2005, 10, 5),\n",
    " datetime.date(2005, 10, 24),\n",
    " datetime.date(2006, 6, 13),\n",
    " datetime.date(2006, 8, 30),\n",
    " datetime.date(2007, 5, 9),\n",
    " datetime.date(2007, 6, 2),\n",
    " datetime.date(2007, 8, 23),\n",
    " datetime.date(2007, 9, 8),\n",
    " datetime.date(2007, 9, 13),\n",
    " datetime.date(2007, 9, 22),\n",
    " datetime.date(2007, 10, 31),\n",
    " datetime.date(2007, 12, 13),\n",
    " datetime.date(2008, 7, 16),\n",
    " datetime.date(2008, 7, 22),\n",
    " datetime.date(2008, 8, 18),\n",
    " datetime.date(2008, 8, 31),\n",
    " datetime.date(2008, 9, 2),\n",
    " datetime.date(2009, 8, 16),\n",
    " datetime.date(2009, 8, 21),\n",
    " datetime.date(2009, 11, 9),\n",
    " datetime.date(2010, 6, 30),\n",
    " datetime.date(2010, 7, 23),\n",
    " datetime.date(2010, 8, 10),\n",
    " datetime.date(2010, 8, 31),\n",
    " datetime.date(2010, 9, 29),\n",
    " datetime.date(2011, 7, 18),\n",
    " datetime.date(2011, 8, 25),\n",
    " datetime.date(2011, 9, 3),\n",
    " datetime.date(2011, 10, 28),\n",
    " datetime.date(2011, 11, 9),\n",
    " datetime.date(2012, 5, 28),\n",
    " datetime.date(2012, 6, 23),\n",
    " datetime.date(2012, 8, 25),\n",
    " datetime.date(2012, 10, 25),\n",
    " datetime.date(2015, 8, 30),\n",
    " datetime.date(2015, 10, 1),\n",
    " datetime.date(2016, 6, 6),\n",
    " datetime.date(2016, 9, 1),\n",
    " datetime.date(2016, 9, 14),\n",
    " datetime.date(2016, 10, 7),\n",
    " datetime.date(2017, 6, 21),\n",
    " datetime.date(2017, 7, 31),\n",
    " datetime.date(2017, 9, 10),\n",
    " datetime.date(2017, 10, 29)]"
   ]
  },
  {
   "cell_type": "code",
   "execution_count": 96,
   "metadata": {
    "ExecuteTime": {
     "end_time": "2020-07-03T16:09:23.368578Z",
     "start_time": "2020-07-03T16:09:23.361603Z"
    },
    "hidden": true
   },
   "outputs": [
    {
     "name": "stdout",
     "output_type": "stream",
     "text": [
      "ISO: Our earliest hurricane date: 1950-08-31\n",
      "US: Our earliest hurricane date: 08/31/1950\n"
     ]
    }
   ],
   "source": [
    "# Assign the earliest date to first_date\n",
    "first_date = min(florida_hurricane_dates)\n",
    "\n",
    "# Convert to ISO and US formats\n",
    "iso = \"Our earliest hurricane date: \" + first_date.isoformat()\n",
    "us = \"Our earliest hurricane date: \" + first_date.strftime(\"%m/%d/%Y\")\n",
    "\n",
    "print(\"ISO: \" + iso)\n",
    "print(\"US: \" + us)"
   ]
  },
  {
   "cell_type": "markdown",
   "metadata": {
    "heading_collapsed": true,
    "hidden": true
   },
   "source": [
    "### Custom Strings -> Date Ojects"
   ]
  },
  {
   "cell_type": "markdown",
   "metadata": {
    "ExecuteTime": {
     "end_time": "2020-07-03T16:28:32.601675Z",
     "start_time": "2020-07-03T16:28:32.594683Z"
    },
    "hidden": true
   },
   "source": [
    "``` python\n",
    "from datetime import datetime\n",
    "\n",
    "dt = datetime.strptime(\"STRING\" , \"DATE-FORMAT\")\n",
    "\n",
    "eg:\n",
    "dt = datetime.strptime(\"12/30/1997 15:19:13\" , \"%m%d%Y %H:%M:%S\") \n",
    "```"
   ]
  },
  {
   "cell_type": "markdown",
   "metadata": {
    "heading_collapsed": true,
    "hidden": true
   },
   "source": [
    "## Unix TimeStamp"
   ]
  },
  {
   "cell_type": "markdown",
   "metadata": {
    "hidden": true
   },
   "source": [
    "- Number of Seconds since January 1 , 1970"
   ]
  },
  {
   "cell_type": "markdown",
   "metadata": {
    "hidden": true
   },
   "source": [
    "``` python\n",
    "ts = 1514665151.0  #Unix time stamp\n",
    "from datetime import datetime\n",
    "datetime.fromtimestamp(ts)\n",
    "```"
   ]
  },
  {
   "cell_type": "code",
   "execution_count": 128,
   "metadata": {
    "ExecuteTime": {
     "end_time": "2020-07-03T16:31:14.902843Z",
     "start_time": "2020-07-03T16:31:14.897859Z"
    },
    "hidden": true
   },
   "outputs": [],
   "source": [
    "ts = 1514665151.0  #Unix time stamp"
   ]
  },
  {
   "cell_type": "code",
   "execution_count": 132,
   "metadata": {
    "ExecuteTime": {
     "end_time": "2020-07-03T16:32:56.344706Z",
     "start_time": "2020-07-03T16:32:56.338722Z"
    },
    "hidden": true
   },
   "outputs": [
    {
     "data": {
      "text/plain": [
       "datetime.datetime(2017, 12, 30, 21, 19, 11)"
      ]
     },
     "execution_count": 132,
     "metadata": {},
     "output_type": "execute_result"
    }
   ],
   "source": [
    "from datetime import datetime\n",
    "datetime.fromtimestamp(ts)"
   ]
  },
  {
   "cell_type": "markdown",
   "metadata": {
    "heading_collapsed": true,
    "hidden": true
   },
   "source": [
    "## Combining Dates and Times"
   ]
  },
  {
   "cell_type": "markdown",
   "metadata": {
    "hidden": true
   },
   "source": [
    "YYYY- MM - DD - Hour(24)- Minutues - Seconds - MicroSeconds"
   ]
  },
  {
   "cell_type": "markdown",
   "metadata": {
    "hidden": true
   },
   "source": [
    "500,000 Microseconds  = 0.5 Seconds"
   ]
  },
  {
   "cell_type": "markdown",
   "metadata": {
    "heading_collapsed": true,
    "hidden": true
   },
   "source": [
    "### Cretaing Date-Time Object with Time"
   ]
  },
  {
   "cell_type": "code",
   "execution_count": 99,
   "metadata": {
    "ExecuteTime": {
     "end_time": "2020-07-03T16:09:44.283544Z",
     "start_time": "2020-07-03T16:09:44.277564Z"
    },
    "hidden": true
   },
   "outputs": [],
   "source": [
    "from datetime import datetime"
   ]
  },
  {
   "cell_type": "code",
   "execution_count": 100,
   "metadata": {
    "ExecuteTime": {
     "end_time": "2020-07-03T16:09:45.127548Z",
     "start_time": "2020-07-03T16:09:45.122561Z"
    },
    "hidden": true
   },
   "outputs": [],
   "source": [
    "dt = datetime(year = 2012,\n",
    "              month=12,\n",
    "              day=5 , \n",
    "              hour=15, \n",
    "              minute=23, \n",
    "              second=25,\n",
    "             microsecond=500000)"
   ]
  },
  {
   "cell_type": "code",
   "execution_count": 101,
   "metadata": {
    "ExecuteTime": {
     "end_time": "2020-07-03T16:09:45.448928Z",
     "start_time": "2020-07-03T16:09:45.443980Z"
    },
    "hidden": true
   },
   "outputs": [],
   "source": [
    "dt = datetime(2012, 12, 5 , 15, 23, 25, 500000)"
   ]
  },
  {
   "cell_type": "code",
   "execution_count": 102,
   "metadata": {
    "ExecuteTime": {
     "end_time": "2020-07-03T16:09:45.831961Z",
     "start_time": "2020-07-03T16:09:45.824943Z"
    },
    "hidden": true
   },
   "outputs": [
    {
     "data": {
      "text/plain": [
       "datetime.datetime(2012, 12, 5, 15, 23, 25, 500000)"
      ]
     },
     "execution_count": 102,
     "metadata": {},
     "output_type": "execute_result"
    }
   ],
   "source": [
    "dt"
   ]
  },
  {
   "cell_type": "markdown",
   "metadata": {
    "heading_collapsed": true,
    "hidden": true
   },
   "source": [
    "###  Replacing Parts of Date Time"
   ]
  },
  {
   "cell_type": "code",
   "execution_count": 103,
   "metadata": {
    "ExecuteTime": {
     "end_time": "2020-07-03T16:09:47.781958Z",
     "start_time": "2020-07-03T16:09:47.774978Z"
    },
    "hidden": true
   },
   "outputs": [
    {
     "data": {
      "text/plain": [
       "datetime.datetime(2012, 12, 5, 15, 0)"
      ]
     },
     "execution_count": 103,
     "metadata": {},
     "output_type": "execute_result"
    }
   ],
   "source": [
    "dt.replace(minute = 0, second = 0 , microsecond = 0)       #Rounding off minutes, sconds, microseconds"
   ]
  },
  {
   "cell_type": "markdown",
   "metadata": {
    "heading_collapsed": true,
    "hidden": true
   },
   "source": [
    "### Counting"
   ]
  },
  {
   "cell_type": "markdown",
   "metadata": {
    "hidden": true
   },
   "source": [
    "<b>  Did more trips start before noon or after noon?</b>"
   ]
  },
  {
   "cell_type": "markdown",
   "metadata": {
    "hidden": true
   },
   "source": [
    "Each element of the list is a dictionary with two entries: start is a datetime object corresponding to the start of a trip (when a bike is removed from the dock) and end is a datetime object corresponding to the end of a trip (when a bike is put back into a dock)."
   ]
  },
  {
   "cell_type": "code",
   "execution_count": 119,
   "metadata": {
    "ExecuteTime": {
     "end_time": "2020-07-03T16:17:29.686611Z",
     "start_time": "2020-07-03T16:17:29.311618Z"
    },
    "code_folding": [
     1
    ],
    "hidden": true
   },
   "outputs": [],
   "source": [
    "import datetime\n",
    "bike_times = [{'end': datetime.datetime(2017, 10, 1, 15, 26, 26),\n",
    "  'start': datetime.datetime(2017, 10, 1, 15, 23, 25)},\n",
    " {'end': datetime.datetime(2017, 10, 1, 17, 49, 59),\n",
    "  'start': datetime.datetime(2017, 10, 1, 15, 42, 57)},\n",
    " {'end': datetime.datetime(2017, 10, 2, 6, 42, 53),\n",
    "  'start': datetime.datetime(2017, 10, 2, 6, 37, 10)},\n",
    " {'end': datetime.datetime(2017, 10, 2, 9, 18, 3),\n",
    "  'start': datetime.datetime(2017, 10, 2, 8, 56, 45)},\n",
    " {'end': datetime.datetime(2017, 10, 2, 18, 45, 5),\n",
    "  'start': datetime.datetime(2017, 10, 2, 18, 23, 48)},\n",
    " {'end': datetime.datetime(2017, 10, 2, 19, 10, 54),\n",
    "  'start': datetime.datetime(2017, 10, 2, 18, 48, 8)},\n",
    " {'end': datetime.datetime(2017, 10, 2, 19, 31, 45),\n",
    "  'start': datetime.datetime(2017, 10, 2, 19, 18, 10)},\n",
    " {'end': datetime.datetime(2017, 10, 2, 19, 46, 37),\n",
    "  'start': datetime.datetime(2017, 10, 2, 19, 37, 32)},\n",
    " {'end': datetime.datetime(2017, 10, 3, 8, 32, 27),\n",
    "  'start': datetime.datetime(2017, 10, 3, 8, 24, 16)},\n",
    " {'end': datetime.datetime(2017, 10, 3, 18, 27, 46),\n",
    "  'start': datetime.datetime(2017, 10, 3, 18, 17, 7)},\n",
    " {'end': datetime.datetime(2017, 10, 3, 19, 52, 8),\n",
    "  'start': datetime.datetime(2017, 10, 3, 19, 24, 10)},\n",
    " {'end': datetime.datetime(2017, 10, 3, 20, 23, 52),\n",
    "  'start': datetime.datetime(2017, 10, 3, 20, 17, 6)},\n",
    " {'end': datetime.datetime(2017, 10, 3, 20, 57, 10),\n",
    "  'start': datetime.datetime(2017, 10, 3, 20, 45, 21)},\n",
    " {'end': datetime.datetime(2017, 10, 4, 7, 13, 31),\n",
    "  'start': datetime.datetime(2017, 10, 4, 7, 4, 57)},\n",
    " {'end': datetime.datetime(2017, 10, 4, 7, 21, 54),\n",
    "  'start': datetime.datetime(2017, 10, 4, 7, 13, 42)},\n",
    " {'end': datetime.datetime(2017, 10, 4, 14, 50),\n",
    "  'start': datetime.datetime(2017, 10, 4, 14, 22, 12)},\n",
    " {'end': datetime.datetime(2017, 10, 4, 15, 44, 49),\n",
    "  'start': datetime.datetime(2017, 10, 4, 15, 7, 27)},\n",
    " {'end': datetime.datetime(2017, 10, 4, 16, 32, 33),\n",
    "  'start': datetime.datetime(2017, 10, 4, 15, 46, 41)},\n",
    " {'end': datetime.datetime(2017, 10, 4, 16, 46, 59),\n",
    "  'start': datetime.datetime(2017, 10, 4, 16, 34, 44)},\n",
    " {'end': datetime.datetime(2017, 10, 4, 17, 31, 36),\n",
    "  'start': datetime.datetime(2017, 10, 4, 17, 26, 6)},\n",
    " {'end': datetime.datetime(2017, 10, 4, 17, 50, 41),\n",
    "  'start': datetime.datetime(2017, 10, 4, 17, 42, 3)},\n",
    " {'end': datetime.datetime(2017, 10, 5, 8, 12, 55),\n",
    "  'start': datetime.datetime(2017, 10, 5, 7, 49, 2)},\n",
    " {'end': datetime.datetime(2017, 10, 5, 8, 29, 45),\n",
    "  'start': datetime.datetime(2017, 10, 5, 8, 26, 21)},\n",
    " {'end': datetime.datetime(2017, 10, 5, 8, 38, 31),\n",
    "  'start': datetime.datetime(2017, 10, 5, 8, 33, 27)},\n",
    " {'end': datetime.datetime(2017, 10, 5, 16, 51, 52),\n",
    "  'start': datetime.datetime(2017, 10, 5, 16, 35, 35)},\n",
    " {'end': datetime.datetime(2017, 10, 5, 18, 16, 50),\n",
    "  'start': datetime.datetime(2017, 10, 5, 17, 53, 31)},\n",
    " {'end': datetime.datetime(2017, 10, 6, 8, 38, 1),\n",
    "  'start': datetime.datetime(2017, 10, 6, 8, 17, 17)},\n",
    " {'end': datetime.datetime(2017, 10, 6, 11, 50, 38),\n",
    "  'start': datetime.datetime(2017, 10, 6, 11, 39, 40)},\n",
    " {'end': datetime.datetime(2017, 10, 6, 13, 13, 14),\n",
    "  'start': datetime.datetime(2017, 10, 6, 12, 59, 54)},\n",
    " {'end': datetime.datetime(2017, 10, 6, 14, 14, 56),\n",
    "  'start': datetime.datetime(2017, 10, 6, 13, 43, 5)},\n",
    " {'end': datetime.datetime(2017, 10, 6, 15, 9, 26),\n",
    "  'start': datetime.datetime(2017, 10, 6, 14, 28, 15)},\n",
    " {'end': datetime.datetime(2017, 10, 6, 16, 12, 34),\n",
    "  'start': datetime.datetime(2017, 10, 6, 15, 50, 10)},\n",
    " {'end': datetime.datetime(2017, 10, 6, 16, 39, 31),\n",
    "  'start': datetime.datetime(2017, 10, 6, 16, 32, 16)},\n",
    " {'end': datetime.datetime(2017, 10, 6, 16, 48, 39),\n",
    "  'start': datetime.datetime(2017, 10, 6, 16, 44, 8)},\n",
    " {'end': datetime.datetime(2017, 10, 6, 17, 9, 3),\n",
    "  'start': datetime.datetime(2017, 10, 6, 16, 53, 43)},\n",
    " {'end': datetime.datetime(2017, 10, 7, 11, 53, 6),\n",
    "  'start': datetime.datetime(2017, 10, 7, 11, 38, 55)},\n",
    " {'end': datetime.datetime(2017, 10, 7, 14, 7, 5),\n",
    "  'start': datetime.datetime(2017, 10, 7, 14, 3, 36)},\n",
    " {'end': datetime.datetime(2017, 10, 7, 14, 27, 36),\n",
    "  'start': datetime.datetime(2017, 10, 7, 14, 20, 3)},\n",
    " {'end': datetime.datetime(2017, 10, 7, 14, 44, 51),\n",
    "  'start': datetime.datetime(2017, 10, 7, 14, 30, 50)},\n",
    " {'end': datetime.datetime(2017, 10, 8, 0, 30, 48),\n",
    "  'start': datetime.datetime(2017, 10, 8, 0, 28, 26)},\n",
    " {'end': datetime.datetime(2017, 10, 8, 11, 33, 24),\n",
    "  'start': datetime.datetime(2017, 10, 8, 11, 16, 21)},\n",
    " {'end': datetime.datetime(2017, 10, 8, 13, 1, 29),\n",
    "  'start': datetime.datetime(2017, 10, 8, 12, 37, 3)},\n",
    " {'end': datetime.datetime(2017, 10, 8, 13, 57, 53),\n",
    "  'start': datetime.datetime(2017, 10, 8, 13, 30, 37)},\n",
    " {'end': datetime.datetime(2017, 10, 8, 15, 7, 19),\n",
    "  'start': datetime.datetime(2017, 10, 8, 14, 16, 40)},\n",
    " {'end': datetime.datetime(2017, 10, 8, 15, 50, 1),\n",
    "  'start': datetime.datetime(2017, 10, 8, 15, 23, 50)},\n",
    " {'end': datetime.datetime(2017, 10, 8, 16, 17, 42),\n",
    "  'start': datetime.datetime(2017, 10, 8, 15, 54, 12)},\n",
    " {'end': datetime.datetime(2017, 10, 8, 16, 35, 18),\n",
    "  'start': datetime.datetime(2017, 10, 8, 16, 28, 52)},\n",
    " {'end': datetime.datetime(2017, 10, 8, 23, 33, 41),\n",
    "  'start': datetime.datetime(2017, 10, 8, 23, 8, 14)},\n",
    " {'end': datetime.datetime(2017, 10, 8, 23, 45, 11),\n",
    "  'start': datetime.datetime(2017, 10, 8, 23, 34, 49)},\n",
    " {'end': datetime.datetime(2017, 10, 9, 0, 10, 57),\n",
    "  'start': datetime.datetime(2017, 10, 8, 23, 46, 47)},\n",
    " {'end': datetime.datetime(2017, 10, 9, 0, 36, 40),\n",
    "  'start': datetime.datetime(2017, 10, 9, 0, 12, 58)},\n",
    " {'end': datetime.datetime(2017, 10, 9, 0, 53, 33),\n",
    "  'start': datetime.datetime(2017, 10, 9, 0, 37, 2)},\n",
    " {'end': datetime.datetime(2017, 10, 9, 1, 48, 13),\n",
    "  'start': datetime.datetime(2017, 10, 9, 1, 23, 29)},\n",
    " {'end': datetime.datetime(2017, 10, 9, 2, 13, 35),\n",
    "  'start': datetime.datetime(2017, 10, 9, 1, 49, 25)},\n",
    " {'end': datetime.datetime(2017, 10, 9, 2, 29, 40),\n",
    "  'start': datetime.datetime(2017, 10, 9, 2, 14, 11)},\n",
    " {'end': datetime.datetime(2017, 10, 9, 13, 13, 25),\n",
    "  'start': datetime.datetime(2017, 10, 9, 13, 4, 32)},\n",
    " {'end': datetime.datetime(2017, 10, 9, 14, 38, 55),\n",
    "  'start': datetime.datetime(2017, 10, 9, 14, 30, 10)},\n",
    " {'end': datetime.datetime(2017, 10, 9, 15, 11, 30),\n",
    "  'start': datetime.datetime(2017, 10, 9, 15, 6, 47)},\n",
    " {'end': datetime.datetime(2017, 10, 9, 16, 45, 38),\n",
    "  'start': datetime.datetime(2017, 10, 9, 16, 43, 25)},\n",
    " {'end': datetime.datetime(2017, 10, 10, 15, 51, 24),\n",
    "  'start': datetime.datetime(2017, 10, 10, 15, 32, 58)},\n",
    " {'end': datetime.datetime(2017, 10, 10, 17, 3, 47),\n",
    "  'start': datetime.datetime(2017, 10, 10, 16, 47, 55)},\n",
    " {'end': datetime.datetime(2017, 10, 10, 18, 0, 18),\n",
    "  'start': datetime.datetime(2017, 10, 10, 17, 51, 5)},\n",
    " {'end': datetime.datetime(2017, 10, 10, 18, 19, 11),\n",
    "  'start': datetime.datetime(2017, 10, 10, 18, 8, 12)},\n",
    " {'end': datetime.datetime(2017, 10, 10, 19, 14, 32),\n",
    "  'start': datetime.datetime(2017, 10, 10, 19, 9, 35)},\n",
    " {'end': datetime.datetime(2017, 10, 10, 19, 23, 8),\n",
    "  'start': datetime.datetime(2017, 10, 10, 19, 17, 11)},\n",
    " {'end': datetime.datetime(2017, 10, 10, 19, 44, 40),\n",
    "  'start': datetime.datetime(2017, 10, 10, 19, 28, 11)},\n",
    " {'end': datetime.datetime(2017, 10, 10, 20, 11, 54),\n",
    "  'start': datetime.datetime(2017, 10, 10, 19, 55, 35)},\n",
    " {'end': datetime.datetime(2017, 10, 10, 22, 33, 23),\n",
    "  'start': datetime.datetime(2017, 10, 10, 22, 20, 43)},\n",
    " {'end': datetime.datetime(2017, 10, 11, 4, 59, 22),\n",
    "  'start': datetime.datetime(2017, 10, 11, 4, 40, 52)},\n",
    " {'end': datetime.datetime(2017, 10, 11, 6, 40, 13),\n",
    "  'start': datetime.datetime(2017, 10, 11, 6, 28, 58)},\n",
    " {'end': datetime.datetime(2017, 10, 11, 17, 1, 14),\n",
    "  'start': datetime.datetime(2017, 10, 11, 16, 41, 7)},\n",
    " {'end': datetime.datetime(2017, 10, 12, 8, 35, 3),\n",
    "  'start': datetime.datetime(2017, 10, 12, 8, 8, 30)},\n",
    " {'end': datetime.datetime(2017, 10, 12, 8, 59, 50),\n",
    "  'start': datetime.datetime(2017, 10, 12, 8, 47, 2)},\n",
    " {'end': datetime.datetime(2017, 10, 12, 13, 37, 45),\n",
    "  'start': datetime.datetime(2017, 10, 12, 13, 13, 39)},\n",
    " {'end': datetime.datetime(2017, 10, 12, 13, 48, 17),\n",
    "  'start': datetime.datetime(2017, 10, 12, 13, 40, 12)},\n",
    " {'end': datetime.datetime(2017, 10, 12, 13, 53, 16),\n",
    "  'start': datetime.datetime(2017, 10, 12, 13, 49, 56)},\n",
    " {'end': datetime.datetime(2017, 10, 12, 14, 39, 57),\n",
    "  'start': datetime.datetime(2017, 10, 12, 14, 33, 18)},\n",
    " {'end': datetime.datetime(2017, 10, 13, 15, 59, 41),\n",
    "  'start': datetime.datetime(2017, 10, 13, 15, 55, 39)},\n",
    " {'end': datetime.datetime(2017, 10, 17, 18, 1, 38),\n",
    "  'start': datetime.datetime(2017, 10, 17, 17, 58, 48)},\n",
    " {'end': datetime.datetime(2017, 10, 19, 20, 29, 15),\n",
    "  'start': datetime.datetime(2017, 10, 19, 20, 21, 45)},\n",
    " {'end': datetime.datetime(2017, 10, 19, 21, 29, 37),\n",
    "  'start': datetime.datetime(2017, 10, 19, 21, 11, 39)},\n",
    " {'end': datetime.datetime(2017, 10, 19, 21, 47, 23),\n",
    "  'start': datetime.datetime(2017, 10, 19, 21, 30, 1)},\n",
    " {'end': datetime.datetime(2017, 10, 19, 21, 57, 7),\n",
    "  'start': datetime.datetime(2017, 10, 19, 21, 47, 34)},\n",
    " {'end': datetime.datetime(2017, 10, 19, 22, 9, 52),\n",
    "  'start': datetime.datetime(2017, 10, 19, 21, 57, 24)},\n",
    " {'end': datetime.datetime(2017, 10, 21, 12, 36, 24),\n",
    "  'start': datetime.datetime(2017, 10, 21, 12, 24, 9)},\n",
    " {'end': datetime.datetime(2017, 10, 21, 12, 42, 13),\n",
    "  'start': datetime.datetime(2017, 10, 21, 12, 36, 37)},\n",
    " {'end': datetime.datetime(2017, 10, 22, 11, 9, 36),\n",
    "  'start': datetime.datetime(2017, 10, 21, 13, 47, 43)},\n",
    " {'end': datetime.datetime(2017, 10, 22, 13, 31, 44),\n",
    "  'start': datetime.datetime(2017, 10, 22, 13, 28, 53)},\n",
    " {'end': datetime.datetime(2017, 10, 22, 13, 56, 33),\n",
    "  'start': datetime.datetime(2017, 10, 22, 13, 47, 5)},\n",
    " {'end': datetime.datetime(2017, 10, 22, 14, 32, 39),\n",
    "  'start': datetime.datetime(2017, 10, 22, 14, 26, 41)},\n",
    " {'end': datetime.datetime(2017, 10, 22, 15, 9, 58),\n",
    "  'start': datetime.datetime(2017, 10, 22, 14, 54, 41)},\n",
    " {'end': datetime.datetime(2017, 10, 22, 16, 51, 40),\n",
    "  'start': datetime.datetime(2017, 10, 22, 16, 40, 29)},\n",
    " {'end': datetime.datetime(2017, 10, 22, 18, 28, 37),\n",
    "  'start': datetime.datetime(2017, 10, 22, 17, 58, 46)},\n",
    " {'end': datetime.datetime(2017, 10, 22, 18, 50, 34),\n",
    "  'start': datetime.datetime(2017, 10, 22, 18, 45, 16)},\n",
    " {'end': datetime.datetime(2017, 10, 22, 19, 11, 10),\n",
    "  'start': datetime.datetime(2017, 10, 22, 18, 56, 22)},\n",
    " {'end': datetime.datetime(2017, 10, 23, 10, 35, 32),\n",
    "  'start': datetime.datetime(2017, 10, 23, 10, 14, 8)},\n",
    " {'end': datetime.datetime(2017, 10, 23, 14, 38, 34),\n",
    "  'start': datetime.datetime(2017, 10, 23, 11, 29, 36)},\n",
    " {'end': datetime.datetime(2017, 10, 23, 15, 32, 58),\n",
    "  'start': datetime.datetime(2017, 10, 23, 15, 4, 52)},\n",
    " {'end': datetime.datetime(2017, 10, 23, 17, 6, 47),\n",
    "  'start': datetime.datetime(2017, 10, 23, 15, 33, 48)},\n",
    " {'end': datetime.datetime(2017, 10, 23, 19, 31, 26),\n",
    "  'start': datetime.datetime(2017, 10, 23, 17, 13, 16)},\n",
    " {'end': datetime.datetime(2017, 10, 23, 20, 25, 53),\n",
    "  'start': datetime.datetime(2017, 10, 23, 19, 55, 3)},\n",
    " {'end': datetime.datetime(2017, 10, 23, 22, 18, 4),\n",
    "  'start': datetime.datetime(2017, 10, 23, 21, 47, 54)},\n",
    " {'end': datetime.datetime(2017, 10, 23, 22, 48, 42),\n",
    "  'start': datetime.datetime(2017, 10, 23, 22, 34, 12)},\n",
    " {'end': datetime.datetime(2017, 10, 24, 7, 2, 17),\n",
    "  'start': datetime.datetime(2017, 10, 24, 6, 55, 1)},\n",
    " {'end': datetime.datetime(2017, 10, 24, 15, 3, 16),\n",
    "  'start': datetime.datetime(2017, 10, 24, 14, 56, 7)},\n",
    " {'end': datetime.datetime(2017, 10, 24, 15, 59, 50),\n",
    "  'start': datetime.datetime(2017, 10, 24, 15, 51, 36)},\n",
    " {'end': datetime.datetime(2017, 10, 24, 16, 55, 9),\n",
    "  'start': datetime.datetime(2017, 10, 24, 16, 31, 10)},\n",
    " {'end': datetime.datetime(2017, 10, 28, 14, 32, 34),\n",
    "  'start': datetime.datetime(2017, 10, 28, 14, 26, 14)},\n",
    " {'end': datetime.datetime(2017, 11, 1, 9, 52, 23),\n",
    "  'start': datetime.datetime(2017, 11, 1, 9, 41, 54)},\n",
    " {'end': datetime.datetime(2017, 11, 1, 20, 32, 13),\n",
    "  'start': datetime.datetime(2017, 11, 1, 20, 16, 11)},\n",
    " {'end': datetime.datetime(2017, 11, 2, 19, 50, 56),\n",
    "  'start': datetime.datetime(2017, 11, 2, 19, 44, 29)},\n",
    " {'end': datetime.datetime(2017, 11, 2, 20, 30, 29),\n",
    "  'start': datetime.datetime(2017, 11, 2, 20, 14, 37)},\n",
    " {'end': datetime.datetime(2017, 11, 2, 21, 38, 57),\n",
    "  'start': datetime.datetime(2017, 11, 2, 21, 35, 47)},\n",
    " {'end': datetime.datetime(2017, 11, 3, 10, 11, 46),\n",
    "  'start': datetime.datetime(2017, 11, 3, 9, 59, 27)},\n",
    " {'end': datetime.datetime(2017, 11, 3, 10, 32, 2),\n",
    "  'start': datetime.datetime(2017, 11, 3, 10, 13, 22)},\n",
    " {'end': datetime.datetime(2017, 11, 3, 10, 50, 34),\n",
    "  'start': datetime.datetime(2017, 11, 3, 10, 44, 25)},\n",
    " {'end': datetime.datetime(2017, 11, 3, 16, 44, 38),\n",
    "  'start': datetime.datetime(2017, 11, 3, 16, 6, 43)},\n",
    " {'end': datetime.datetime(2017, 11, 3, 17, 0, 27),\n",
    "  'start': datetime.datetime(2017, 11, 3, 16, 45, 54)},\n",
    " {'end': datetime.datetime(2017, 11, 3, 17, 35, 5),\n",
    "  'start': datetime.datetime(2017, 11, 3, 17, 7, 15)},\n",
    " {'end': datetime.datetime(2017, 11, 3, 17, 46, 48),\n",
    "  'start': datetime.datetime(2017, 11, 3, 17, 36, 5)},\n",
    " {'end': datetime.datetime(2017, 11, 3, 18, 0, 3),\n",
    "  'start': datetime.datetime(2017, 11, 3, 17, 50, 31)},\n",
    " {'end': datetime.datetime(2017, 11, 3, 19, 45, 51),\n",
    "  'start': datetime.datetime(2017, 11, 3, 19, 22, 56)},\n",
    " {'end': datetime.datetime(2017, 11, 4, 13, 26, 15),\n",
    "  'start': datetime.datetime(2017, 11, 4, 13, 14, 10)},\n",
    " {'end': datetime.datetime(2017, 11, 4, 14, 30, 5),\n",
    "  'start': datetime.datetime(2017, 11, 4, 14, 18, 37)},\n",
    " {'end': datetime.datetime(2017, 11, 4, 15, 3, 20),\n",
    "  'start': datetime.datetime(2017, 11, 4, 14, 45, 59)},\n",
    " {'end': datetime.datetime(2017, 11, 4, 15, 44, 30),\n",
    "  'start': datetime.datetime(2017, 11, 4, 15, 16, 3)},\n",
    " {'end': datetime.datetime(2017, 11, 4, 16, 58, 22),\n",
    "  'start': datetime.datetime(2017, 11, 4, 16, 37, 46)},\n",
    " {'end': datetime.datetime(2017, 11, 4, 17, 34, 50),\n",
    "  'start': datetime.datetime(2017, 11, 4, 17, 13, 19)},\n",
    " {'end': datetime.datetime(2017, 11, 4, 18, 58, 44),\n",
    "  'start': datetime.datetime(2017, 11, 4, 18, 10, 34)},\n",
    " {'end': datetime.datetime(2017, 11, 5, 1, 1, 4),\n",
    "  'start': datetime.datetime(2017, 11, 5, 1, 56, 50)},\n",
    " {'end': datetime.datetime(2017, 11, 5, 8, 53, 46),\n",
    "  'start': datetime.datetime(2017, 11, 5, 8, 33, 33)},\n",
    " {'end': datetime.datetime(2017, 11, 5, 9, 3, 39),\n",
    "  'start': datetime.datetime(2017, 11, 5, 8, 58, 8)},\n",
    " {'end': datetime.datetime(2017, 11, 5, 11, 30, 5),\n",
    "  'start': datetime.datetime(2017, 11, 5, 11, 5, 8)},\n",
    " {'end': datetime.datetime(2017, 11, 6, 8, 59, 5),\n",
    "  'start': datetime.datetime(2017, 11, 6, 8, 50, 18)},\n",
    " {'end': datetime.datetime(2017, 11, 6, 9, 13, 47),\n",
    "  'start': datetime.datetime(2017, 11, 6, 9, 4, 3)},\n",
    " {'end': datetime.datetime(2017, 11, 6, 17, 2, 55),\n",
    "  'start': datetime.datetime(2017, 11, 6, 16, 19, 36)},\n",
    " {'end': datetime.datetime(2017, 11, 6, 17, 34, 6),\n",
    "  'start': datetime.datetime(2017, 11, 6, 17, 21, 27)},\n",
    " {'end': datetime.datetime(2017, 11, 6, 17, 57, 32),\n",
    "  'start': datetime.datetime(2017, 11, 6, 17, 36, 1)},\n",
    " {'end': datetime.datetime(2017, 11, 6, 18, 15, 8),\n",
    "  'start': datetime.datetime(2017, 11, 6, 17, 59, 52)},\n",
    " {'end': datetime.datetime(2017, 11, 6, 18, 21, 17),\n",
    "  'start': datetime.datetime(2017, 11, 6, 18, 18, 36)},\n",
    " {'end': datetime.datetime(2017, 11, 6, 19, 37, 57),\n",
    "  'start': datetime.datetime(2017, 11, 6, 19, 24, 31)},\n",
    " {'end': datetime.datetime(2017, 11, 6, 20, 3, 14),\n",
    "  'start': datetime.datetime(2017, 11, 6, 19, 49, 16)},\n",
    " {'end': datetime.datetime(2017, 11, 7, 8, 1, 32),\n",
    "  'start': datetime.datetime(2017, 11, 7, 7, 50, 48)},\n",
    " {'end': datetime.datetime(2017, 11, 8, 13, 18, 5),\n",
    "  'start': datetime.datetime(2017, 11, 8, 13, 11, 51)},\n",
    " {'end': datetime.datetime(2017, 11, 8, 21, 46, 5),\n",
    "  'start': datetime.datetime(2017, 11, 8, 21, 34, 47)},\n",
    " {'end': datetime.datetime(2017, 11, 8, 22, 4, 47),\n",
    "  'start': datetime.datetime(2017, 11, 8, 22, 2, 30)},\n",
    " {'end': datetime.datetime(2017, 11, 9, 7, 12, 10),\n",
    "  'start': datetime.datetime(2017, 11, 9, 7, 1, 11)},\n",
    " {'end': datetime.datetime(2017, 11, 9, 8, 8, 28),\n",
    "  'start': datetime.datetime(2017, 11, 9, 8, 2, 2)},\n",
    " {'end': datetime.datetime(2017, 11, 9, 8, 32, 24),\n",
    "  'start': datetime.datetime(2017, 11, 9, 8, 19, 59)},\n",
    " {'end': datetime.datetime(2017, 11, 9, 8, 48, 59),\n",
    "  'start': datetime.datetime(2017, 11, 9, 8, 41, 31)},\n",
    " {'end': datetime.datetime(2017, 11, 9, 9, 9, 24),\n",
    "  'start': datetime.datetime(2017, 11, 9, 9, 0, 6)},\n",
    " {'end': datetime.datetime(2017, 11, 9, 9, 24, 25),\n",
    "  'start': datetime.datetime(2017, 11, 9, 9, 9, 37)},\n",
    " {'end': datetime.datetime(2017, 11, 9, 13, 25, 39),\n",
    "  'start': datetime.datetime(2017, 11, 9, 13, 14, 37)},\n",
    " {'end': datetime.datetime(2017, 11, 9, 15, 31, 10),\n",
    "  'start': datetime.datetime(2017, 11, 9, 15, 20, 7)},\n",
    " {'end': datetime.datetime(2017, 11, 9, 18, 53, 10),\n",
    "  'start': datetime.datetime(2017, 11, 9, 18, 47, 8)},\n",
    " {'end': datetime.datetime(2017, 11, 9, 23, 43, 35),\n",
    "  'start': datetime.datetime(2017, 11, 9, 23, 35, 2)},\n",
    " {'end': datetime.datetime(2017, 11, 10, 8, 2, 28),\n",
    "  'start': datetime.datetime(2017, 11, 10, 7, 51, 33)},\n",
    " {'end': datetime.datetime(2017, 11, 10, 8, 42, 9),\n",
    "  'start': datetime.datetime(2017, 11, 10, 8, 38, 28)},\n",
    " {'end': datetime.datetime(2017, 11, 11, 18, 13, 14),\n",
    "  'start': datetime.datetime(2017, 11, 11, 18, 5, 25)},\n",
    " {'end': datetime.datetime(2017, 11, 11, 19, 46, 22),\n",
    "  'start': datetime.datetime(2017, 11, 11, 19, 39, 12)},\n",
    " {'end': datetime.datetime(2017, 11, 11, 21, 16, 31),\n",
    "  'start': datetime.datetime(2017, 11, 11, 21, 13, 19)},\n",
    " {'end': datetime.datetime(2017, 11, 12, 9, 51, 43),\n",
    "  'start': datetime.datetime(2017, 11, 12, 9, 46, 19)},\n",
    " {'end': datetime.datetime(2017, 11, 13, 13, 54, 15),\n",
    "  'start': datetime.datetime(2017, 11, 13, 13, 33, 42)},\n",
    " {'end': datetime.datetime(2017, 11, 14, 8, 55, 52),\n",
    "  'start': datetime.datetime(2017, 11, 14, 8, 40, 29)},\n",
    " {'end': datetime.datetime(2017, 11, 15, 6, 30, 6),\n",
    "  'start': datetime.datetime(2017, 11, 15, 6, 14, 5)},\n",
    " {'end': datetime.datetime(2017, 11, 15, 8, 23, 44),\n",
    "  'start': datetime.datetime(2017, 11, 15, 8, 14, 59)},\n",
    " {'end': datetime.datetime(2017, 11, 15, 10, 33, 41),\n",
    "  'start': datetime.datetime(2017, 11, 15, 10, 16, 44)},\n",
    " {'end': datetime.datetime(2017, 11, 15, 10, 54, 14),\n",
    "  'start': datetime.datetime(2017, 11, 15, 10, 33, 58)},\n",
    " {'end': datetime.datetime(2017, 11, 15, 11, 14, 42),\n",
    "  'start': datetime.datetime(2017, 11, 15, 11, 2, 15)},\n",
    " {'end': datetime.datetime(2017, 11, 16, 9, 38, 49),\n",
    "  'start': datetime.datetime(2017, 11, 16, 9, 27, 41)},\n",
    " {'end': datetime.datetime(2017, 11, 16, 10, 18),\n",
    "  'start': datetime.datetime(2017, 11, 16, 9, 57, 41)},\n",
    " {'end': datetime.datetime(2017, 11, 16, 17, 44, 47),\n",
    "  'start': datetime.datetime(2017, 11, 16, 17, 25, 5)},\n",
    " {'end': datetime.datetime(2017, 11, 17, 16, 36, 56),\n",
    "  'start': datetime.datetime(2017, 11, 17, 13, 45, 54)},\n",
    " {'end': datetime.datetime(2017, 11, 17, 19, 31, 15),\n",
    "  'start': datetime.datetime(2017, 11, 17, 19, 12, 49)},\n",
    " {'end': datetime.datetime(2017, 11, 18, 10, 55, 45),\n",
    "  'start': datetime.datetime(2017, 11, 18, 10, 49, 6)},\n",
    " {'end': datetime.datetime(2017, 11, 18, 11, 44, 16),\n",
    "  'start': datetime.datetime(2017, 11, 18, 11, 32, 12)},\n",
    " {'end': datetime.datetime(2017, 11, 18, 18, 14, 31),\n",
    "  'start': datetime.datetime(2017, 11, 18, 18, 9, 1)},\n",
    " {'end': datetime.datetime(2017, 11, 18, 19, 1, 29),\n",
    "  'start': datetime.datetime(2017, 11, 18, 18, 53, 10)},\n",
    " {'end': datetime.datetime(2017, 11, 19, 14, 31, 49),\n",
    "  'start': datetime.datetime(2017, 11, 19, 14, 15, 41)},\n",
    " {'end': datetime.datetime(2017, 11, 20, 21, 41, 9),\n",
    "  'start': datetime.datetime(2017, 11, 20, 21, 19, 19)},\n",
    " {'end': datetime.datetime(2017, 11, 20, 23, 23, 37),\n",
    "  'start': datetime.datetime(2017, 11, 20, 22, 39, 48)},\n",
    " {'end': datetime.datetime(2017, 11, 21, 17, 51, 32),\n",
    "  'start': datetime.datetime(2017, 11, 21, 17, 44, 25)},\n",
    " {'end': datetime.datetime(2017, 11, 21, 18, 34, 51),\n",
    "  'start': datetime.datetime(2017, 11, 21, 18, 20, 52)},\n",
    " {'end': datetime.datetime(2017, 11, 21, 18, 51, 50),\n",
    "  'start': datetime.datetime(2017, 11, 21, 18, 47, 32)},\n",
    " {'end': datetime.datetime(2017, 11, 21, 19, 14, 33),\n",
    "  'start': datetime.datetime(2017, 11, 21, 19, 7, 57)},\n",
    " {'end': datetime.datetime(2017, 11, 21, 20, 8, 54),\n",
    "  'start': datetime.datetime(2017, 11, 21, 20, 4, 56)},\n",
    " {'end': datetime.datetime(2017, 11, 21, 22, 8, 12),\n",
    "  'start': datetime.datetime(2017, 11, 21, 21, 55, 47)},\n",
    " {'end': datetime.datetime(2017, 11, 23, 23, 57, 56),\n",
    "  'start': datetime.datetime(2017, 11, 23, 23, 47, 43)},\n",
    " {'end': datetime.datetime(2017, 11, 24, 6, 53, 15),\n",
    "  'start': datetime.datetime(2017, 11, 24, 6, 41, 25)},\n",
    " {'end': datetime.datetime(2017, 11, 24, 7, 33, 24),\n",
    "  'start': datetime.datetime(2017, 11, 24, 6, 58, 56)},\n",
    " {'end': datetime.datetime(2017, 11, 26, 12, 41, 36),\n",
    "  'start': datetime.datetime(2017, 11, 26, 12, 25, 49)},\n",
    " {'end': datetime.datetime(2017, 11, 27, 5, 54, 13),\n",
    "  'start': datetime.datetime(2017, 11, 27, 5, 29, 4)},\n",
    " {'end': datetime.datetime(2017, 11, 27, 6, 11, 1),\n",
    "  'start': datetime.datetime(2017, 11, 27, 6, 6, 47)},\n",
    " {'end': datetime.datetime(2017, 11, 27, 6, 55, 39),\n",
    "  'start': datetime.datetime(2017, 11, 27, 6, 45, 14)},\n",
    " {'end': datetime.datetime(2017, 11, 27, 9, 47, 43),\n",
    "  'start': datetime.datetime(2017, 11, 27, 9, 39, 44)},\n",
    " {'end': datetime.datetime(2017, 11, 27, 11, 20, 46),\n",
    "  'start': datetime.datetime(2017, 11, 27, 11, 9, 18)},\n",
    " {'end': datetime.datetime(2017, 11, 27, 11, 35, 44),\n",
    "  'start': datetime.datetime(2017, 11, 27, 11, 31, 46)},\n",
    " {'end': datetime.datetime(2017, 11, 27, 12, 12, 36),\n",
    "  'start': datetime.datetime(2017, 11, 27, 12, 7, 14)},\n",
    " {'end': datetime.datetime(2017, 11, 27, 12, 26, 44),\n",
    "  'start': datetime.datetime(2017, 11, 27, 12, 21, 40)},\n",
    " {'end': datetime.datetime(2017, 11, 27, 17, 36, 7),\n",
    "  'start': datetime.datetime(2017, 11, 27, 17, 26, 31)},\n",
    " {'end': datetime.datetime(2017, 11, 27, 18, 29, 4),\n",
    "  'start': datetime.datetime(2017, 11, 27, 18, 11, 49)},\n",
    " {'end': datetime.datetime(2017, 11, 27, 19, 47, 17),\n",
    "  'start': datetime.datetime(2017, 11, 27, 19, 36, 16)},\n",
    " {'end': datetime.datetime(2017, 11, 27, 20, 17, 33),\n",
    "  'start': datetime.datetime(2017, 11, 27, 20, 12, 57)},\n",
    " {'end': datetime.datetime(2017, 11, 28, 8, 41, 53),\n",
    "  'start': datetime.datetime(2017, 11, 28, 8, 18, 6)},\n",
    " {'end': datetime.datetime(2017, 11, 28, 19, 34, 1),\n",
    "  'start': datetime.datetime(2017, 11, 28, 19, 17, 23)},\n",
    " {'end': datetime.datetime(2017, 11, 28, 19, 46, 24),\n",
    "  'start': datetime.datetime(2017, 11, 28, 19, 34, 15)},\n",
    " {'end': datetime.datetime(2017, 11, 28, 21, 39, 32),\n",
    "  'start': datetime.datetime(2017, 11, 28, 21, 27, 29)},\n",
    " {'end': datetime.datetime(2017, 11, 29, 7, 51, 18),\n",
    "  'start': datetime.datetime(2017, 11, 29, 7, 47, 38)},\n",
    " {'end': datetime.datetime(2017, 11, 29, 9, 53, 44),\n",
    "  'start': datetime.datetime(2017, 11, 29, 9, 50, 12)},\n",
    " {'end': datetime.datetime(2017, 11, 29, 17, 16, 21),\n",
    "  'start': datetime.datetime(2017, 11, 29, 17, 3, 42)},\n",
    " {'end': datetime.datetime(2017, 11, 29, 18, 23, 43),\n",
    "  'start': datetime.datetime(2017, 11, 29, 18, 19, 15)},\n",
    " {'end': datetime.datetime(2017, 12, 1, 17, 10, 12),\n",
    "  'start': datetime.datetime(2017, 12, 1, 17, 3, 58)},\n",
    " {'end': datetime.datetime(2017, 12, 2, 8, 1, 1),\n",
    "  'start': datetime.datetime(2017, 12, 2, 7, 55, 56)},\n",
    " {'end': datetime.datetime(2017, 12, 2, 9, 21, 18),\n",
    "  'start': datetime.datetime(2017, 12, 2, 9, 16, 14)},\n",
    " {'end': datetime.datetime(2017, 12, 2, 19, 53, 18),\n",
    "  'start': datetime.datetime(2017, 12, 2, 19, 48, 29)},\n",
    " {'end': datetime.datetime(2017, 12, 3, 15, 20, 9),\n",
    "  'start': datetime.datetime(2017, 12, 3, 14, 36, 29)},\n",
    " {'end': datetime.datetime(2017, 12, 3, 16, 25, 30),\n",
    "  'start': datetime.datetime(2017, 12, 3, 16, 4, 2)},\n",
    " {'end': datetime.datetime(2017, 12, 3, 16, 43, 58),\n",
    "  'start': datetime.datetime(2017, 12, 3, 16, 40, 26)},\n",
    " {'end': datetime.datetime(2017, 12, 3, 18, 4, 33),\n",
    "  'start': datetime.datetime(2017, 12, 3, 17, 20, 17)},\n",
    " {'end': datetime.datetime(2017, 12, 4, 8, 51),\n",
    "  'start': datetime.datetime(2017, 12, 4, 8, 34, 24)},\n",
    " {'end': datetime.datetime(2017, 12, 4, 17, 53, 57),\n",
    "  'start': datetime.datetime(2017, 12, 4, 17, 49, 26)},\n",
    " {'end': datetime.datetime(2017, 12, 4, 18, 50, 33),\n",
    "  'start': datetime.datetime(2017, 12, 4, 18, 38, 52)},\n",
    " {'end': datetime.datetime(2017, 12, 4, 21, 46, 58),\n",
    "  'start': datetime.datetime(2017, 12, 4, 21, 39, 20)},\n",
    " {'end': datetime.datetime(2017, 12, 4, 21, 56, 17),\n",
    "  'start': datetime.datetime(2017, 12, 4, 21, 54, 21)},\n",
    " {'end': datetime.datetime(2017, 12, 5, 8, 52, 54),\n",
    "  'start': datetime.datetime(2017, 12, 5, 8, 50, 50)},\n",
    " {'end': datetime.datetime(2017, 12, 6, 8, 24, 14),\n",
    "  'start': datetime.datetime(2017, 12, 6, 8, 19, 38)},\n",
    " {'end': datetime.datetime(2017, 12, 6, 18, 28, 11),\n",
    "  'start': datetime.datetime(2017, 12, 6, 18, 19, 19)},\n",
    " {'end': datetime.datetime(2017, 12, 6, 18, 33, 12),\n",
    "  'start': datetime.datetime(2017, 12, 6, 18, 28, 55)},\n",
    " {'end': datetime.datetime(2017, 12, 6, 20, 21, 38),\n",
    "  'start': datetime.datetime(2017, 12, 6, 20, 3, 29)},\n",
    " {'end': datetime.datetime(2017, 12, 6, 20, 39, 57),\n",
    "  'start': datetime.datetime(2017, 12, 6, 20, 36, 42)},\n",
    " {'end': datetime.datetime(2017, 12, 7, 6, 1, 15),\n",
    "  'start': datetime.datetime(2017, 12, 7, 5, 54, 51)},\n",
    " {'end': datetime.datetime(2017, 12, 8, 16, 55, 49),\n",
    "  'start': datetime.datetime(2017, 12, 8, 16, 47, 18)},\n",
    " {'end': datetime.datetime(2017, 12, 8, 19, 29, 12),\n",
    "  'start': datetime.datetime(2017, 12, 8, 19, 15, 2)},\n",
    " {'end': datetime.datetime(2017, 12, 9, 22, 47, 19),\n",
    "  'start': datetime.datetime(2017, 12, 9, 22, 39, 37)},\n",
    " {'end': datetime.datetime(2017, 12, 9, 23, 5, 32),\n",
    "  'start': datetime.datetime(2017, 12, 9, 23, 0, 10)},\n",
    " {'end': datetime.datetime(2017, 12, 10, 0, 56, 2),\n",
    "  'start': datetime.datetime(2017, 12, 10, 0, 39, 24)},\n",
    " {'end': datetime.datetime(2017, 12, 10, 1, 8, 9),\n",
    "  'start': datetime.datetime(2017, 12, 10, 1, 2, 42)},\n",
    " {'end': datetime.datetime(2017, 12, 10, 1, 11, 30),\n",
    "  'start': datetime.datetime(2017, 12, 10, 1, 8, 57)},\n",
    " {'end': datetime.datetime(2017, 12, 10, 13, 51, 41),\n",
    "  'start': datetime.datetime(2017, 12, 10, 13, 49, 9)},\n",
    " {'end': datetime.datetime(2017, 12, 10, 15, 18, 19),\n",
    "  'start': datetime.datetime(2017, 12, 10, 15, 14, 29)},\n",
    " {'end': datetime.datetime(2017, 12, 10, 15, 36, 28),\n",
    "  'start': datetime.datetime(2017, 12, 10, 15, 31, 7)},\n",
    " {'end': datetime.datetime(2017, 12, 10, 16, 30, 31),\n",
    "  'start': datetime.datetime(2017, 12, 10, 16, 20, 6)},\n",
    " {'end': datetime.datetime(2017, 12, 10, 17, 14, 25),\n",
    "  'start': datetime.datetime(2017, 12, 10, 17, 7, 54)},\n",
    " {'end': datetime.datetime(2017, 12, 10, 17, 45, 25),\n",
    "  'start': datetime.datetime(2017, 12, 10, 17, 23, 47)},\n",
    " {'end': datetime.datetime(2017, 12, 11, 6, 34, 4),\n",
    "  'start': datetime.datetime(2017, 12, 11, 6, 17, 6)},\n",
    " {'end': datetime.datetime(2017, 12, 11, 9, 12, 21),\n",
    "  'start': datetime.datetime(2017, 12, 11, 9, 8, 41)},\n",
    " {'end': datetime.datetime(2017, 12, 11, 9, 20, 18),\n",
    "  'start': datetime.datetime(2017, 12, 11, 9, 15, 41)},\n",
    " {'end': datetime.datetime(2017, 12, 12, 8, 59, 34),\n",
    "  'start': datetime.datetime(2017, 12, 12, 8, 55, 53)},\n",
    " {'end': datetime.datetime(2017, 12, 13, 17, 18, 32),\n",
    "  'start': datetime.datetime(2017, 12, 13, 17, 14, 56)},\n",
    " {'end': datetime.datetime(2017, 12, 13, 19, 0, 45),\n",
    "  'start': datetime.datetime(2017, 12, 13, 18, 52, 16)},\n",
    " {'end': datetime.datetime(2017, 12, 14, 9, 11, 6),\n",
    "  'start': datetime.datetime(2017, 12, 14, 9, 1, 10)},\n",
    " {'end': datetime.datetime(2017, 12, 14, 9, 19, 6),\n",
    "  'start': datetime.datetime(2017, 12, 14, 9, 12, 59)},\n",
    " {'end': datetime.datetime(2017, 12, 14, 12, 2),\n",
    "  'start': datetime.datetime(2017, 12, 14, 11, 54, 33)},\n",
    " {'end': datetime.datetime(2017, 12, 14, 14, 44, 40),\n",
    "  'start': datetime.datetime(2017, 12, 14, 14, 40, 23)},\n",
    " {'end': datetime.datetime(2017, 12, 14, 15, 26, 24),\n",
    "  'start': datetime.datetime(2017, 12, 14, 15, 8, 55)},\n",
    " {'end': datetime.datetime(2017, 12, 14, 18, 9, 4),\n",
    "  'start': datetime.datetime(2017, 12, 14, 17, 46, 17)},\n",
    " {'end': datetime.datetime(2017, 12, 15, 9, 23, 45),\n",
    "  'start': datetime.datetime(2017, 12, 15, 9, 8, 12)},\n",
    " {'end': datetime.datetime(2017, 12, 16, 9, 36, 17),\n",
    "  'start': datetime.datetime(2017, 12, 16, 9, 33, 46)},\n",
    " {'end': datetime.datetime(2017, 12, 16, 11, 5, 4),\n",
    "  'start': datetime.datetime(2017, 12, 16, 11, 2, 31)},\n",
    " {'end': datetime.datetime(2017, 12, 17, 10, 32, 3),\n",
    "  'start': datetime.datetime(2017, 12, 17, 10, 9, 47)},\n",
    " {'end': datetime.datetime(2017, 12, 18, 8, 7, 34),\n",
    "  'start': datetime.datetime(2017, 12, 18, 8, 2, 36)},\n",
    " {'end': datetime.datetime(2017, 12, 18, 16, 9, 20),\n",
    "  'start': datetime.datetime(2017, 12, 18, 16, 3)},\n",
    " {'end': datetime.datetime(2017, 12, 18, 16, 53, 12),\n",
    "  'start': datetime.datetime(2017, 12, 18, 16, 30, 7)},\n",
    " {'end': datetime.datetime(2017, 12, 18, 19, 22, 8),\n",
    "  'start': datetime.datetime(2017, 12, 18, 19, 18, 23)},\n",
    " {'end': datetime.datetime(2017, 12, 18, 20, 17, 47),\n",
    "  'start': datetime.datetime(2017, 12, 18, 20, 14, 46)},\n",
    " {'end': datetime.datetime(2017, 12, 19, 19, 23, 49),\n",
    "  'start': datetime.datetime(2017, 12, 19, 19, 14, 8)},\n",
    " {'end': datetime.datetime(2017, 12, 19, 19, 43, 46),\n",
    "  'start': datetime.datetime(2017, 12, 19, 19, 39, 36)},\n",
    " {'end': datetime.datetime(2017, 12, 20, 8, 10, 46),\n",
    "  'start': datetime.datetime(2017, 12, 20, 8, 5, 14)},\n",
    " {'end': datetime.datetime(2017, 12, 20, 8, 29, 50),\n",
    "  'start': datetime.datetime(2017, 12, 20, 8, 15, 45)},\n",
    " {'end': datetime.datetime(2017, 12, 20, 8, 38, 9),\n",
    "  'start': datetime.datetime(2017, 12, 20, 8, 33, 32)},\n",
    " {'end': datetime.datetime(2017, 12, 20, 13, 54, 39),\n",
    "  'start': datetime.datetime(2017, 12, 20, 13, 43, 36)},\n",
    " {'end': datetime.datetime(2017, 12, 20, 19, 6, 54),\n",
    "  'start': datetime.datetime(2017, 12, 20, 18, 57, 53)},\n",
    " {'end': datetime.datetime(2017, 12, 21, 7, 32, 3),\n",
    "  'start': datetime.datetime(2017, 12, 21, 7, 21, 11)},\n",
    " {'end': datetime.datetime(2017, 12, 21, 8, 6, 15),\n",
    "  'start': datetime.datetime(2017, 12, 21, 8, 1, 58)},\n",
    " {'end': datetime.datetime(2017, 12, 21, 13, 33, 49),\n",
    "  'start': datetime.datetime(2017, 12, 21, 13, 20, 54)},\n",
    " {'end': datetime.datetime(2017, 12, 21, 15, 34, 27),\n",
    "  'start': datetime.datetime(2017, 12, 21, 15, 26, 8)},\n",
    " {'end': datetime.datetime(2017, 12, 21, 18, 38, 50),\n",
    "  'start': datetime.datetime(2017, 12, 21, 18, 9, 46)},\n",
    " {'end': datetime.datetime(2017, 12, 22, 16, 21, 46),\n",
    "  'start': datetime.datetime(2017, 12, 22, 16, 14, 21)},\n",
    " {'end': datetime.datetime(2017, 12, 22, 16, 34, 14),\n",
    "  'start': datetime.datetime(2017, 12, 22, 16, 29, 17)},\n",
    " {'end': datetime.datetime(2017, 12, 25, 13, 18, 27),\n",
    "  'start': datetime.datetime(2017, 12, 25, 12, 49, 51)},\n",
    " {'end': datetime.datetime(2017, 12, 25, 14, 20, 50),\n",
    "  'start': datetime.datetime(2017, 12, 25, 13, 46, 44)},\n",
    " {'end': datetime.datetime(2017, 12, 26, 10, 53, 45),\n",
    "  'start': datetime.datetime(2017, 12, 26, 10, 40, 16)},\n",
    " {'end': datetime.datetime(2017, 12, 27, 17, 17, 39),\n",
    "  'start': datetime.datetime(2017, 12, 27, 16, 56, 12)},\n",
    " {'end': datetime.datetime(2017, 12, 29, 6, 12, 30),\n",
    "  'start': datetime.datetime(2017, 12, 29, 6, 2, 34)},\n",
    " {'end': datetime.datetime(2017, 12, 29, 12, 46, 16),\n",
    "  'start': datetime.datetime(2017, 12, 29, 12, 21, 3)},\n",
    " {'end': datetime.datetime(2017, 12, 29, 14, 43, 46),\n",
    "  'start': datetime.datetime(2017, 12, 29, 14, 32, 55)},\n",
    " {'end': datetime.datetime(2017, 12, 29, 15, 18, 51),\n",
    "  'start': datetime.datetime(2017, 12, 29, 15, 8, 26)},\n",
    " {'end': datetime.datetime(2017, 12, 29, 20, 38, 13),\n",
    "  'start': datetime.datetime(2017, 12, 29, 20, 33, 34)},\n",
    " {'end': datetime.datetime(2017, 12, 30, 13, 54, 33),\n",
    "  'start': datetime.datetime(2017, 12, 30, 13, 51, 3)},\n",
    " {'end': datetime.datetime(2017, 12, 30, 15, 19, 13),\n",
    "  'start': datetime.datetime(2017, 12, 30, 15, 9, 3)}]"
   ]
  },
  {
   "cell_type": "code",
   "execution_count": 126,
   "metadata": {
    "ExecuteTime": {
     "end_time": "2020-07-03T16:19:55.512464Z",
     "start_time": "2020-07-03T16:19:55.504488Z"
    },
    "hidden": true
   },
   "outputs": [
    {
     "name": "stdout",
     "output_type": "stream",
     "text": [
      "{'AM': 94, 'PM': 196}\n"
     ]
    }
   ],
   "source": [
    "# Create dictionary to hold results\n",
    "trip_counts = {'AM': 0, 'PM': 0}\n",
    "  \n",
    "# Loop over all trips\n",
    "for trip in bike_times:\n",
    "  # Check to see if the trip starts before noon\n",
    "    if trip['start'].hour < 12:\n",
    "    # Increment the counter for before noon\n",
    "        trip_counts['AM'] += 1\n",
    "    else:\n",
    "    # Increment the counter for after noon\n",
    "        trip_counts['PM'] += 1\n",
    "        \n",
    "print(trip_counts)"
   ]
  },
  {
   "cell_type": "markdown",
   "metadata": {
    "heading_collapsed": true,
    "hidden": true
   },
   "source": [
    "### Duration"
   ]
  },
  {
   "cell_type": "markdown",
   "metadata": {
    "hidden": true
   },
   "source": [
    "timedelta = differentce b/w 2 date-time objects"
   ]
  },
  {
   "cell_type": "markdown",
   "metadata": {
    "hidden": true
   },
   "source": [
    "``` python\n",
    "time_delta = time_object_1 - time_object_1\n",
    "time_delta.total_seconds()                  # Get Total seconds b/w these 2 events\n",
    "```"
   ]
  },
  {
   "cell_type": "markdown",
   "metadata": {
    "hidden": true
   },
   "source": [
    "<b> Length of Bike Trips </b> :"
   ]
  },
  {
   "cell_type": "code",
   "execution_count": 149,
   "metadata": {
    "ExecuteTime": {
     "end_time": "2020-07-03T16:52:11.364629Z",
     "start_time": "2020-07-03T16:52:10.995347Z"
    },
    "code_folding": [
     1,
     3
    ],
    "hidden": true
   },
   "outputs": [],
   "source": [
    "import datetime\n",
    "bike_times = [{'end': datetime.datetime(2017, 10, 1, 15, 26, 26),\n",
    "  'start': datetime.datetime(2017, 10, 1, 15, 23, 25)},\n",
    " {'end': datetime.datetime(2017, 10, 1, 17, 49, 59),\n",
    "  'start': datetime.datetime(2017, 10, 1, 15, 42, 57)},\n",
    " {'end': datetime.datetime(2017, 10, 2, 6, 42, 53),\n",
    "  'start': datetime.datetime(2017, 10, 2, 6, 37, 10)},\n",
    " {'end': datetime.datetime(2017, 10, 2, 9, 18, 3),\n",
    "  'start': datetime.datetime(2017, 10, 2, 8, 56, 45)},\n",
    " {'end': datetime.datetime(2017, 10, 2, 18, 45, 5),\n",
    "  'start': datetime.datetime(2017, 10, 2, 18, 23, 48)},\n",
    " {'end': datetime.datetime(2017, 10, 2, 19, 10, 54),\n",
    "  'start': datetime.datetime(2017, 10, 2, 18, 48, 8)},\n",
    " {'end': datetime.datetime(2017, 10, 2, 19, 31, 45),\n",
    "  'start': datetime.datetime(2017, 10, 2, 19, 18, 10)},\n",
    " {'end': datetime.datetime(2017, 10, 2, 19, 46, 37),\n",
    "  'start': datetime.datetime(2017, 10, 2, 19, 37, 32)},\n",
    " {'end': datetime.datetime(2017, 10, 3, 8, 32, 27),\n",
    "  'start': datetime.datetime(2017, 10, 3, 8, 24, 16)},\n",
    " {'end': datetime.datetime(2017, 10, 3, 18, 27, 46),\n",
    "  'start': datetime.datetime(2017, 10, 3, 18, 17, 7)},\n",
    " {'end': datetime.datetime(2017, 10, 3, 19, 52, 8),\n",
    "  'start': datetime.datetime(2017, 10, 3, 19, 24, 10)},\n",
    " {'end': datetime.datetime(2017, 10, 3, 20, 23, 52),\n",
    "  'start': datetime.datetime(2017, 10, 3, 20, 17, 6)},\n",
    " {'end': datetime.datetime(2017, 10, 3, 20, 57, 10),\n",
    "  'start': datetime.datetime(2017, 10, 3, 20, 45, 21)},\n",
    " {'end': datetime.datetime(2017, 10, 4, 7, 13, 31),\n",
    "  'start': datetime.datetime(2017, 10, 4, 7, 4, 57)},\n",
    " {'end': datetime.datetime(2017, 10, 4, 7, 21, 54),\n",
    "  'start': datetime.datetime(2017, 10, 4, 7, 13, 42)},\n",
    " {'end': datetime.datetime(2017, 10, 4, 14, 50),\n",
    "  'start': datetime.datetime(2017, 10, 4, 14, 22, 12)},\n",
    " {'end': datetime.datetime(2017, 10, 4, 15, 44, 49),\n",
    "  'start': datetime.datetime(2017, 10, 4, 15, 7, 27)},\n",
    " {'end': datetime.datetime(2017, 10, 4, 16, 32, 33),\n",
    "  'start': datetime.datetime(2017, 10, 4, 15, 46, 41)},\n",
    " {'end': datetime.datetime(2017, 10, 4, 16, 46, 59),\n",
    "  'start': datetime.datetime(2017, 10, 4, 16, 34, 44)},\n",
    " {'end': datetime.datetime(2017, 10, 4, 17, 31, 36),\n",
    "  'start': datetime.datetime(2017, 10, 4, 17, 26, 6)},\n",
    " {'end': datetime.datetime(2017, 10, 4, 17, 50, 41),\n",
    "  'start': datetime.datetime(2017, 10, 4, 17, 42, 3)},\n",
    " {'end': datetime.datetime(2017, 10, 5, 8, 12, 55),\n",
    "  'start': datetime.datetime(2017, 10, 5, 7, 49, 2)},\n",
    " {'end': datetime.datetime(2017, 10, 5, 8, 29, 45),\n",
    "  'start': datetime.datetime(2017, 10, 5, 8, 26, 21)},\n",
    " {'end': datetime.datetime(2017, 10, 5, 8, 38, 31),\n",
    "  'start': datetime.datetime(2017, 10, 5, 8, 33, 27)},\n",
    " {'end': datetime.datetime(2017, 10, 5, 16, 51, 52),\n",
    "  'start': datetime.datetime(2017, 10, 5, 16, 35, 35)},\n",
    " {'end': datetime.datetime(2017, 10, 5, 18, 16, 50),\n",
    "  'start': datetime.datetime(2017, 10, 5, 17, 53, 31)},\n",
    " {'end': datetime.datetime(2017, 10, 6, 8, 38, 1),\n",
    "  'start': datetime.datetime(2017, 10, 6, 8, 17, 17)},\n",
    " {'end': datetime.datetime(2017, 10, 6, 11, 50, 38),\n",
    "  'start': datetime.datetime(2017, 10, 6, 11, 39, 40)},\n",
    " {'end': datetime.datetime(2017, 10, 6, 13, 13, 14),\n",
    "  'start': datetime.datetime(2017, 10, 6, 12, 59, 54)},\n",
    " {'end': datetime.datetime(2017, 10, 6, 14, 14, 56),\n",
    "  'start': datetime.datetime(2017, 10, 6, 13, 43, 5)},\n",
    " {'end': datetime.datetime(2017, 10, 6, 15, 9, 26),\n",
    "  'start': datetime.datetime(2017, 10, 6, 14, 28, 15)},\n",
    " {'end': datetime.datetime(2017, 10, 6, 16, 12, 34),\n",
    "  'start': datetime.datetime(2017, 10, 6, 15, 50, 10)},\n",
    " {'end': datetime.datetime(2017, 10, 6, 16, 39, 31),\n",
    "  'start': datetime.datetime(2017, 10, 6, 16, 32, 16)},\n",
    " {'end': datetime.datetime(2017, 10, 6, 16, 48, 39),\n",
    "  'start': datetime.datetime(2017, 10, 6, 16, 44, 8)},\n",
    " {'end': datetime.datetime(2017, 10, 6, 17, 9, 3),\n",
    "  'start': datetime.datetime(2017, 10, 6, 16, 53, 43)},\n",
    " {'end': datetime.datetime(2017, 10, 7, 11, 53, 6),\n",
    "  'start': datetime.datetime(2017, 10, 7, 11, 38, 55)},\n",
    " {'end': datetime.datetime(2017, 10, 7, 14, 7, 5),\n",
    "  'start': datetime.datetime(2017, 10, 7, 14, 3, 36)},\n",
    " {'end': datetime.datetime(2017, 10, 7, 14, 27, 36),\n",
    "  'start': datetime.datetime(2017, 10, 7, 14, 20, 3)},\n",
    " {'end': datetime.datetime(2017, 10, 7, 14, 44, 51),\n",
    "  'start': datetime.datetime(2017, 10, 7, 14, 30, 50)},\n",
    " {'end': datetime.datetime(2017, 10, 8, 0, 30, 48),\n",
    "  'start': datetime.datetime(2017, 10, 8, 0, 28, 26)},\n",
    " {'end': datetime.datetime(2017, 10, 8, 11, 33, 24),\n",
    "  'start': datetime.datetime(2017, 10, 8, 11, 16, 21)},\n",
    " {'end': datetime.datetime(2017, 10, 8, 13, 1, 29),\n",
    "  'start': datetime.datetime(2017, 10, 8, 12, 37, 3)},\n",
    " {'end': datetime.datetime(2017, 10, 8, 13, 57, 53),\n",
    "  'start': datetime.datetime(2017, 10, 8, 13, 30, 37)},\n",
    " {'end': datetime.datetime(2017, 10, 8, 15, 7, 19),\n",
    "  'start': datetime.datetime(2017, 10, 8, 14, 16, 40)},\n",
    " {'end': datetime.datetime(2017, 10, 8, 15, 50, 1),\n",
    "  'start': datetime.datetime(2017, 10, 8, 15, 23, 50)},\n",
    " {'end': datetime.datetime(2017, 10, 8, 16, 17, 42),\n",
    "  'start': datetime.datetime(2017, 10, 8, 15, 54, 12)},\n",
    " {'end': datetime.datetime(2017, 10, 8, 16, 35, 18),\n",
    "  'start': datetime.datetime(2017, 10, 8, 16, 28, 52)},\n",
    " {'end': datetime.datetime(2017, 10, 8, 23, 33, 41),\n",
    "  'start': datetime.datetime(2017, 10, 8, 23, 8, 14)},\n",
    " {'end': datetime.datetime(2017, 10, 8, 23, 45, 11),\n",
    "  'start': datetime.datetime(2017, 10, 8, 23, 34, 49)},\n",
    " {'end': datetime.datetime(2017, 10, 9, 0, 10, 57),\n",
    "  'start': datetime.datetime(2017, 10, 8, 23, 46, 47)},\n",
    " {'end': datetime.datetime(2017, 10, 9, 0, 36, 40),\n",
    "  'start': datetime.datetime(2017, 10, 9, 0, 12, 58)},\n",
    " {'end': datetime.datetime(2017, 10, 9, 0, 53, 33),\n",
    "  'start': datetime.datetime(2017, 10, 9, 0, 37, 2)},\n",
    " {'end': datetime.datetime(2017, 10, 9, 1, 48, 13),\n",
    "  'start': datetime.datetime(2017, 10, 9, 1, 23, 29)},\n",
    " {'end': datetime.datetime(2017, 10, 9, 2, 13, 35),\n",
    "  'start': datetime.datetime(2017, 10, 9, 1, 49, 25)},\n",
    " {'end': datetime.datetime(2017, 10, 9, 2, 29, 40),\n",
    "  'start': datetime.datetime(2017, 10, 9, 2, 14, 11)},\n",
    " {'end': datetime.datetime(2017, 10, 9, 13, 13, 25),\n",
    "  'start': datetime.datetime(2017, 10, 9, 13, 4, 32)},\n",
    " {'end': datetime.datetime(2017, 10, 9, 14, 38, 55),\n",
    "  'start': datetime.datetime(2017, 10, 9, 14, 30, 10)},\n",
    " {'end': datetime.datetime(2017, 10, 9, 15, 11, 30),\n",
    "  'start': datetime.datetime(2017, 10, 9, 15, 6, 47)},\n",
    " {'end': datetime.datetime(2017, 10, 9, 16, 45, 38),\n",
    "  'start': datetime.datetime(2017, 10, 9, 16, 43, 25)},\n",
    " {'end': datetime.datetime(2017, 10, 10, 15, 51, 24),\n",
    "  'start': datetime.datetime(2017, 10, 10, 15, 32, 58)},\n",
    " {'end': datetime.datetime(2017, 10, 10, 17, 3, 47),\n",
    "  'start': datetime.datetime(2017, 10, 10, 16, 47, 55)},\n",
    " {'end': datetime.datetime(2017, 10, 10, 18, 0, 18),\n",
    "  'start': datetime.datetime(2017, 10, 10, 17, 51, 5)},\n",
    " {'end': datetime.datetime(2017, 10, 10, 18, 19, 11),\n",
    "  'start': datetime.datetime(2017, 10, 10, 18, 8, 12)},\n",
    " {'end': datetime.datetime(2017, 10, 10, 19, 14, 32),\n",
    "  'start': datetime.datetime(2017, 10, 10, 19, 9, 35)},\n",
    " {'end': datetime.datetime(2017, 10, 10, 19, 23, 8),\n",
    "  'start': datetime.datetime(2017, 10, 10, 19, 17, 11)},\n",
    " {'end': datetime.datetime(2017, 10, 10, 19, 44, 40),\n",
    "  'start': datetime.datetime(2017, 10, 10, 19, 28, 11)},\n",
    " {'end': datetime.datetime(2017, 10, 10, 20, 11, 54),\n",
    "  'start': datetime.datetime(2017, 10, 10, 19, 55, 35)},\n",
    " {'end': datetime.datetime(2017, 10, 10, 22, 33, 23),\n",
    "  'start': datetime.datetime(2017, 10, 10, 22, 20, 43)},\n",
    " {'end': datetime.datetime(2017, 10, 11, 4, 59, 22),\n",
    "  'start': datetime.datetime(2017, 10, 11, 4, 40, 52)},\n",
    " {'end': datetime.datetime(2017, 10, 11, 6, 40, 13),\n",
    "  'start': datetime.datetime(2017, 10, 11, 6, 28, 58)},\n",
    " {'end': datetime.datetime(2017, 10, 11, 17, 1, 14),\n",
    "  'start': datetime.datetime(2017, 10, 11, 16, 41, 7)},\n",
    " {'end': datetime.datetime(2017, 10, 12, 8, 35, 3),\n",
    "  'start': datetime.datetime(2017, 10, 12, 8, 8, 30)},\n",
    " {'end': datetime.datetime(2017, 10, 12, 8, 59, 50),\n",
    "  'start': datetime.datetime(2017, 10, 12, 8, 47, 2)},\n",
    " {'end': datetime.datetime(2017, 10, 12, 13, 37, 45),\n",
    "  'start': datetime.datetime(2017, 10, 12, 13, 13, 39)},\n",
    " {'end': datetime.datetime(2017, 10, 12, 13, 48, 17),\n",
    "  'start': datetime.datetime(2017, 10, 12, 13, 40, 12)},\n",
    " {'end': datetime.datetime(2017, 10, 12, 13, 53, 16),\n",
    "  'start': datetime.datetime(2017, 10, 12, 13, 49, 56)},\n",
    " {'end': datetime.datetime(2017, 10, 12, 14, 39, 57),\n",
    "  'start': datetime.datetime(2017, 10, 12, 14, 33, 18)},\n",
    " {'end': datetime.datetime(2017, 10, 13, 15, 59, 41),\n",
    "  'start': datetime.datetime(2017, 10, 13, 15, 55, 39)},\n",
    " {'end': datetime.datetime(2017, 10, 17, 18, 1, 38),\n",
    "  'start': datetime.datetime(2017, 10, 17, 17, 58, 48)},\n",
    " {'end': datetime.datetime(2017, 10, 19, 20, 29, 15),\n",
    "  'start': datetime.datetime(2017, 10, 19, 20, 21, 45)},\n",
    " {'end': datetime.datetime(2017, 10, 19, 21, 29, 37),\n",
    "  'start': datetime.datetime(2017, 10, 19, 21, 11, 39)},\n",
    " {'end': datetime.datetime(2017, 10, 19, 21, 47, 23),\n",
    "  'start': datetime.datetime(2017, 10, 19, 21, 30, 1)},\n",
    " {'end': datetime.datetime(2017, 10, 19, 21, 57, 7),\n",
    "  'start': datetime.datetime(2017, 10, 19, 21, 47, 34)},\n",
    " {'end': datetime.datetime(2017, 10, 19, 22, 9, 52),\n",
    "  'start': datetime.datetime(2017, 10, 19, 21, 57, 24)},\n",
    " {'end': datetime.datetime(2017, 10, 21, 12, 36, 24),\n",
    "  'start': datetime.datetime(2017, 10, 21, 12, 24, 9)},\n",
    " {'end': datetime.datetime(2017, 10, 21, 12, 42, 13),\n",
    "  'start': datetime.datetime(2017, 10, 21, 12, 36, 37)},\n",
    " {'end': datetime.datetime(2017, 10, 22, 11, 9, 36),\n",
    "  'start': datetime.datetime(2017, 10, 21, 13, 47, 43)},\n",
    " {'end': datetime.datetime(2017, 10, 22, 13, 31, 44),\n",
    "  'start': datetime.datetime(2017, 10, 22, 13, 28, 53)},\n",
    " {'end': datetime.datetime(2017, 10, 22, 13, 56, 33),\n",
    "  'start': datetime.datetime(2017, 10, 22, 13, 47, 5)},\n",
    " {'end': datetime.datetime(2017, 10, 22, 14, 32, 39),\n",
    "  'start': datetime.datetime(2017, 10, 22, 14, 26, 41)},\n",
    " {'end': datetime.datetime(2017, 10, 22, 15, 9, 58),\n",
    "  'start': datetime.datetime(2017, 10, 22, 14, 54, 41)},\n",
    " {'end': datetime.datetime(2017, 10, 22, 16, 51, 40),\n",
    "  'start': datetime.datetime(2017, 10, 22, 16, 40, 29)},\n",
    " {'end': datetime.datetime(2017, 10, 22, 18, 28, 37),\n",
    "  'start': datetime.datetime(2017, 10, 22, 17, 58, 46)},\n",
    " {'end': datetime.datetime(2017, 10, 22, 18, 50, 34),\n",
    "  'start': datetime.datetime(2017, 10, 22, 18, 45, 16)},\n",
    " {'end': datetime.datetime(2017, 10, 22, 19, 11, 10),\n",
    "  'start': datetime.datetime(2017, 10, 22, 18, 56, 22)},\n",
    " {'end': datetime.datetime(2017, 10, 23, 10, 35, 32),\n",
    "  'start': datetime.datetime(2017, 10, 23, 10, 14, 8)},\n",
    " {'end': datetime.datetime(2017, 10, 23, 14, 38, 34),\n",
    "  'start': datetime.datetime(2017, 10, 23, 11, 29, 36)},\n",
    " {'end': datetime.datetime(2017, 10, 23, 15, 32, 58),\n",
    "  'start': datetime.datetime(2017, 10, 23, 15, 4, 52)},\n",
    " {'end': datetime.datetime(2017, 10, 23, 17, 6, 47),\n",
    "  'start': datetime.datetime(2017, 10, 23, 15, 33, 48)},\n",
    " {'end': datetime.datetime(2017, 10, 23, 19, 31, 26),\n",
    "  'start': datetime.datetime(2017, 10, 23, 17, 13, 16)},\n",
    " {'end': datetime.datetime(2017, 10, 23, 20, 25, 53),\n",
    "  'start': datetime.datetime(2017, 10, 23, 19, 55, 3)},\n",
    " {'end': datetime.datetime(2017, 10, 23, 22, 18, 4),\n",
    "  'start': datetime.datetime(2017, 10, 23, 21, 47, 54)},\n",
    " {'end': datetime.datetime(2017, 10, 23, 22, 48, 42),\n",
    "  'start': datetime.datetime(2017, 10, 23, 22, 34, 12)},\n",
    " {'end': datetime.datetime(2017, 10, 24, 7, 2, 17),\n",
    "  'start': datetime.datetime(2017, 10, 24, 6, 55, 1)},\n",
    " {'end': datetime.datetime(2017, 10, 24, 15, 3, 16),\n",
    "  'start': datetime.datetime(2017, 10, 24, 14, 56, 7)},\n",
    " {'end': datetime.datetime(2017, 10, 24, 15, 59, 50),\n",
    "  'start': datetime.datetime(2017, 10, 24, 15, 51, 36)},\n",
    " {'end': datetime.datetime(2017, 10, 24, 16, 55, 9),\n",
    "  'start': datetime.datetime(2017, 10, 24, 16, 31, 10)},\n",
    " {'end': datetime.datetime(2017, 10, 28, 14, 32, 34),\n",
    "  'start': datetime.datetime(2017, 10, 28, 14, 26, 14)},\n",
    " {'end': datetime.datetime(2017, 11, 1, 9, 52, 23),\n",
    "  'start': datetime.datetime(2017, 11, 1, 9, 41, 54)},\n",
    " {'end': datetime.datetime(2017, 11, 1, 20, 32, 13),\n",
    "  'start': datetime.datetime(2017, 11, 1, 20, 16, 11)},\n",
    " {'end': datetime.datetime(2017, 11, 2, 19, 50, 56),\n",
    "  'start': datetime.datetime(2017, 11, 2, 19, 44, 29)},\n",
    " {'end': datetime.datetime(2017, 11, 2, 20, 30, 29),\n",
    "  'start': datetime.datetime(2017, 11, 2, 20, 14, 37)},\n",
    " {'end': datetime.datetime(2017, 11, 2, 21, 38, 57),\n",
    "  'start': datetime.datetime(2017, 11, 2, 21, 35, 47)},\n",
    " {'end': datetime.datetime(2017, 11, 3, 10, 11, 46),\n",
    "  'start': datetime.datetime(2017, 11, 3, 9, 59, 27)},\n",
    " {'end': datetime.datetime(2017, 11, 3, 10, 32, 2),\n",
    "  'start': datetime.datetime(2017, 11, 3, 10, 13, 22)},\n",
    " {'end': datetime.datetime(2017, 11, 3, 10, 50, 34),\n",
    "  'start': datetime.datetime(2017, 11, 3, 10, 44, 25)},\n",
    " {'end': datetime.datetime(2017, 11, 3, 16, 44, 38),\n",
    "  'start': datetime.datetime(2017, 11, 3, 16, 6, 43)},\n",
    " {'end': datetime.datetime(2017, 11, 3, 17, 0, 27),\n",
    "  'start': datetime.datetime(2017, 11, 3, 16, 45, 54)},\n",
    " {'end': datetime.datetime(2017, 11, 3, 17, 35, 5),\n",
    "  'start': datetime.datetime(2017, 11, 3, 17, 7, 15)},\n",
    " {'end': datetime.datetime(2017, 11, 3, 17, 46, 48),\n",
    "  'start': datetime.datetime(2017, 11, 3, 17, 36, 5)},\n",
    " {'end': datetime.datetime(2017, 11, 3, 18, 0, 3),\n",
    "  'start': datetime.datetime(2017, 11, 3, 17, 50, 31)},\n",
    " {'end': datetime.datetime(2017, 11, 3, 19, 45, 51),\n",
    "  'start': datetime.datetime(2017, 11, 3, 19, 22, 56)},\n",
    " {'end': datetime.datetime(2017, 11, 4, 13, 26, 15),\n",
    "  'start': datetime.datetime(2017, 11, 4, 13, 14, 10)},\n",
    " {'end': datetime.datetime(2017, 11, 4, 14, 30, 5),\n",
    "  'start': datetime.datetime(2017, 11, 4, 14, 18, 37)},\n",
    " {'end': datetime.datetime(2017, 11, 4, 15, 3, 20),\n",
    "  'start': datetime.datetime(2017, 11, 4, 14, 45, 59)},\n",
    " {'end': datetime.datetime(2017, 11, 4, 15, 44, 30),\n",
    "  'start': datetime.datetime(2017, 11, 4, 15, 16, 3)},\n",
    " {'end': datetime.datetime(2017, 11, 4, 16, 58, 22),\n",
    "  'start': datetime.datetime(2017, 11, 4, 16, 37, 46)},\n",
    " {'end': datetime.datetime(2017, 11, 4, 17, 34, 50),\n",
    "  'start': datetime.datetime(2017, 11, 4, 17, 13, 19)},\n",
    " {'end': datetime.datetime(2017, 11, 4, 18, 58, 44),\n",
    "  'start': datetime.datetime(2017, 11, 4, 18, 10, 34)},\n",
    " {'end': datetime.datetime(2017, 11, 5, 1, 1, 4),\n",
    "  'start': datetime.datetime(2017, 11, 5, 1, 56, 50)},\n",
    " {'end': datetime.datetime(2017, 11, 5, 8, 53, 46),\n",
    "  'start': datetime.datetime(2017, 11, 5, 8, 33, 33)},\n",
    " {'end': datetime.datetime(2017, 11, 5, 9, 3, 39),\n",
    "  'start': datetime.datetime(2017, 11, 5, 8, 58, 8)},\n",
    " {'end': datetime.datetime(2017, 11, 5, 11, 30, 5),\n",
    "  'start': datetime.datetime(2017, 11, 5, 11, 5, 8)},\n",
    " {'end': datetime.datetime(2017, 11, 6, 8, 59, 5),\n",
    "  'start': datetime.datetime(2017, 11, 6, 8, 50, 18)},\n",
    " {'end': datetime.datetime(2017, 11, 6, 9, 13, 47),\n",
    "  'start': datetime.datetime(2017, 11, 6, 9, 4, 3)},\n",
    " {'end': datetime.datetime(2017, 11, 6, 17, 2, 55),\n",
    "  'start': datetime.datetime(2017, 11, 6, 16, 19, 36)},\n",
    " {'end': datetime.datetime(2017, 11, 6, 17, 34, 6),\n",
    "  'start': datetime.datetime(2017, 11, 6, 17, 21, 27)},\n",
    " {'end': datetime.datetime(2017, 11, 6, 17, 57, 32),\n",
    "  'start': datetime.datetime(2017, 11, 6, 17, 36, 1)},\n",
    " {'end': datetime.datetime(2017, 11, 6, 18, 15, 8),\n",
    "  'start': datetime.datetime(2017, 11, 6, 17, 59, 52)},\n",
    " {'end': datetime.datetime(2017, 11, 6, 18, 21, 17),\n",
    "  'start': datetime.datetime(2017, 11, 6, 18, 18, 36)},\n",
    " {'end': datetime.datetime(2017, 11, 6, 19, 37, 57),\n",
    "  'start': datetime.datetime(2017, 11, 6, 19, 24, 31)},\n",
    " {'end': datetime.datetime(2017, 11, 6, 20, 3, 14),\n",
    "  'start': datetime.datetime(2017, 11, 6, 19, 49, 16)},\n",
    " {'end': datetime.datetime(2017, 11, 7, 8, 1, 32),\n",
    "  'start': datetime.datetime(2017, 11, 7, 7, 50, 48)},\n",
    " {'end': datetime.datetime(2017, 11, 8, 13, 18, 5),\n",
    "  'start': datetime.datetime(2017, 11, 8, 13, 11, 51)},\n",
    " {'end': datetime.datetime(2017, 11, 8, 21, 46, 5),\n",
    "  'start': datetime.datetime(2017, 11, 8, 21, 34, 47)},\n",
    " {'end': datetime.datetime(2017, 11, 8, 22, 4, 47),\n",
    "  'start': datetime.datetime(2017, 11, 8, 22, 2, 30)},\n",
    " {'end': datetime.datetime(2017, 11, 9, 7, 12, 10),\n",
    "  'start': datetime.datetime(2017, 11, 9, 7, 1, 11)},\n",
    " {'end': datetime.datetime(2017, 11, 9, 8, 8, 28),\n",
    "  'start': datetime.datetime(2017, 11, 9, 8, 2, 2)},\n",
    " {'end': datetime.datetime(2017, 11, 9, 8, 32, 24),\n",
    "  'start': datetime.datetime(2017, 11, 9, 8, 19, 59)},\n",
    " {'end': datetime.datetime(2017, 11, 9, 8, 48, 59),\n",
    "  'start': datetime.datetime(2017, 11, 9, 8, 41, 31)},\n",
    " {'end': datetime.datetime(2017, 11, 9, 9, 9, 24),\n",
    "  'start': datetime.datetime(2017, 11, 9, 9, 0, 6)},\n",
    " {'end': datetime.datetime(2017, 11, 9, 9, 24, 25),\n",
    "  'start': datetime.datetime(2017, 11, 9, 9, 9, 37)},\n",
    " {'end': datetime.datetime(2017, 11, 9, 13, 25, 39),\n",
    "  'start': datetime.datetime(2017, 11, 9, 13, 14, 37)},\n",
    " {'end': datetime.datetime(2017, 11, 9, 15, 31, 10),\n",
    "  'start': datetime.datetime(2017, 11, 9, 15, 20, 7)},\n",
    " {'end': datetime.datetime(2017, 11, 9, 18, 53, 10),\n",
    "  'start': datetime.datetime(2017, 11, 9, 18, 47, 8)},\n",
    " {'end': datetime.datetime(2017, 11, 9, 23, 43, 35),\n",
    "  'start': datetime.datetime(2017, 11, 9, 23, 35, 2)},\n",
    " {'end': datetime.datetime(2017, 11, 10, 8, 2, 28),\n",
    "  'start': datetime.datetime(2017, 11, 10, 7, 51, 33)},\n",
    " {'end': datetime.datetime(2017, 11, 10, 8, 42, 9),\n",
    "  'start': datetime.datetime(2017, 11, 10, 8, 38, 28)},\n",
    " {'end': datetime.datetime(2017, 11, 11, 18, 13, 14),\n",
    "  'start': datetime.datetime(2017, 11, 11, 18, 5, 25)},\n",
    " {'end': datetime.datetime(2017, 11, 11, 19, 46, 22),\n",
    "  'start': datetime.datetime(2017, 11, 11, 19, 39, 12)},\n",
    " {'end': datetime.datetime(2017, 11, 11, 21, 16, 31),\n",
    "  'start': datetime.datetime(2017, 11, 11, 21, 13, 19)},\n",
    " {'end': datetime.datetime(2017, 11, 12, 9, 51, 43),\n",
    "  'start': datetime.datetime(2017, 11, 12, 9, 46, 19)},\n",
    " {'end': datetime.datetime(2017, 11, 13, 13, 54, 15),\n",
    "  'start': datetime.datetime(2017, 11, 13, 13, 33, 42)},\n",
    " {'end': datetime.datetime(2017, 11, 14, 8, 55, 52),\n",
    "  'start': datetime.datetime(2017, 11, 14, 8, 40, 29)},\n",
    " {'end': datetime.datetime(2017, 11, 15, 6, 30, 6),\n",
    "  'start': datetime.datetime(2017, 11, 15, 6, 14, 5)},\n",
    " {'end': datetime.datetime(2017, 11, 15, 8, 23, 44),\n",
    "  'start': datetime.datetime(2017, 11, 15, 8, 14, 59)},\n",
    " {'end': datetime.datetime(2017, 11, 15, 10, 33, 41),\n",
    "  'start': datetime.datetime(2017, 11, 15, 10, 16, 44)},\n",
    " {'end': datetime.datetime(2017, 11, 15, 10, 54, 14),\n",
    "  'start': datetime.datetime(2017, 11, 15, 10, 33, 58)},\n",
    " {'end': datetime.datetime(2017, 11, 15, 11, 14, 42),\n",
    "  'start': datetime.datetime(2017, 11, 15, 11, 2, 15)},\n",
    " {'end': datetime.datetime(2017, 11, 16, 9, 38, 49),\n",
    "  'start': datetime.datetime(2017, 11, 16, 9, 27, 41)},\n",
    " {'end': datetime.datetime(2017, 11, 16, 10, 18),\n",
    "  'start': datetime.datetime(2017, 11, 16, 9, 57, 41)},\n",
    " {'end': datetime.datetime(2017, 11, 16, 17, 44, 47),\n",
    "  'start': datetime.datetime(2017, 11, 16, 17, 25, 5)},\n",
    " {'end': datetime.datetime(2017, 11, 17, 16, 36, 56),\n",
    "  'start': datetime.datetime(2017, 11, 17, 13, 45, 54)},\n",
    " {'end': datetime.datetime(2017, 11, 17, 19, 31, 15),\n",
    "  'start': datetime.datetime(2017, 11, 17, 19, 12, 49)},\n",
    " {'end': datetime.datetime(2017, 11, 18, 10, 55, 45),\n",
    "  'start': datetime.datetime(2017, 11, 18, 10, 49, 6)},\n",
    " {'end': datetime.datetime(2017, 11, 18, 11, 44, 16),\n",
    "  'start': datetime.datetime(2017, 11, 18, 11, 32, 12)},\n",
    " {'end': datetime.datetime(2017, 11, 18, 18, 14, 31),\n",
    "  'start': datetime.datetime(2017, 11, 18, 18, 9, 1)},\n",
    " {'end': datetime.datetime(2017, 11, 18, 19, 1, 29),\n",
    "  'start': datetime.datetime(2017, 11, 18, 18, 53, 10)},\n",
    " {'end': datetime.datetime(2017, 11, 19, 14, 31, 49),\n",
    "  'start': datetime.datetime(2017, 11, 19, 14, 15, 41)},\n",
    " {'end': datetime.datetime(2017, 11, 20, 21, 41, 9),\n",
    "  'start': datetime.datetime(2017, 11, 20, 21, 19, 19)},\n",
    " {'end': datetime.datetime(2017, 11, 20, 23, 23, 37),\n",
    "  'start': datetime.datetime(2017, 11, 20, 22, 39, 48)},\n",
    " {'end': datetime.datetime(2017, 11, 21, 17, 51, 32),\n",
    "  'start': datetime.datetime(2017, 11, 21, 17, 44, 25)},\n",
    " {'end': datetime.datetime(2017, 11, 21, 18, 34, 51),\n",
    "  'start': datetime.datetime(2017, 11, 21, 18, 20, 52)},\n",
    " {'end': datetime.datetime(2017, 11, 21, 18, 51, 50),\n",
    "  'start': datetime.datetime(2017, 11, 21, 18, 47, 32)},\n",
    " {'end': datetime.datetime(2017, 11, 21, 19, 14, 33),\n",
    "  'start': datetime.datetime(2017, 11, 21, 19, 7, 57)},\n",
    " {'end': datetime.datetime(2017, 11, 21, 20, 8, 54),\n",
    "  'start': datetime.datetime(2017, 11, 21, 20, 4, 56)},\n",
    " {'end': datetime.datetime(2017, 11, 21, 22, 8, 12),\n",
    "  'start': datetime.datetime(2017, 11, 21, 21, 55, 47)},\n",
    " {'end': datetime.datetime(2017, 11, 23, 23, 57, 56),\n",
    "  'start': datetime.datetime(2017, 11, 23, 23, 47, 43)},\n",
    " {'end': datetime.datetime(2017, 11, 24, 6, 53, 15),\n",
    "  'start': datetime.datetime(2017, 11, 24, 6, 41, 25)},\n",
    " {'end': datetime.datetime(2017, 11, 24, 7, 33, 24),\n",
    "  'start': datetime.datetime(2017, 11, 24, 6, 58, 56)},\n",
    " {'end': datetime.datetime(2017, 11, 26, 12, 41, 36),\n",
    "  'start': datetime.datetime(2017, 11, 26, 12, 25, 49)},\n",
    " {'end': datetime.datetime(2017, 11, 27, 5, 54, 13),\n",
    "  'start': datetime.datetime(2017, 11, 27, 5, 29, 4)},\n",
    " {'end': datetime.datetime(2017, 11, 27, 6, 11, 1),\n",
    "  'start': datetime.datetime(2017, 11, 27, 6, 6, 47)},\n",
    " {'end': datetime.datetime(2017, 11, 27, 6, 55, 39),\n",
    "  'start': datetime.datetime(2017, 11, 27, 6, 45, 14)},\n",
    " {'end': datetime.datetime(2017, 11, 27, 9, 47, 43),\n",
    "  'start': datetime.datetime(2017, 11, 27, 9, 39, 44)},\n",
    " {'end': datetime.datetime(2017, 11, 27, 11, 20, 46),\n",
    "  'start': datetime.datetime(2017, 11, 27, 11, 9, 18)},\n",
    " {'end': datetime.datetime(2017, 11, 27, 11, 35, 44),\n",
    "  'start': datetime.datetime(2017, 11, 27, 11, 31, 46)},\n",
    " {'end': datetime.datetime(2017, 11, 27, 12, 12, 36),\n",
    "  'start': datetime.datetime(2017, 11, 27, 12, 7, 14)},\n",
    " {'end': datetime.datetime(2017, 11, 27, 12, 26, 44),\n",
    "  'start': datetime.datetime(2017, 11, 27, 12, 21, 40)},\n",
    " {'end': datetime.datetime(2017, 11, 27, 17, 36, 7),\n",
    "  'start': datetime.datetime(2017, 11, 27, 17, 26, 31)},\n",
    " {'end': datetime.datetime(2017, 11, 27, 18, 29, 4),\n",
    "  'start': datetime.datetime(2017, 11, 27, 18, 11, 49)},\n",
    " {'end': datetime.datetime(2017, 11, 27, 19, 47, 17),\n",
    "  'start': datetime.datetime(2017, 11, 27, 19, 36, 16)},\n",
    " {'end': datetime.datetime(2017, 11, 27, 20, 17, 33),\n",
    "  'start': datetime.datetime(2017, 11, 27, 20, 12, 57)},\n",
    " {'end': datetime.datetime(2017, 11, 28, 8, 41, 53),\n",
    "  'start': datetime.datetime(2017, 11, 28, 8, 18, 6)},\n",
    " {'end': datetime.datetime(2017, 11, 28, 19, 34, 1),\n",
    "  'start': datetime.datetime(2017, 11, 28, 19, 17, 23)},\n",
    " {'end': datetime.datetime(2017, 11, 28, 19, 46, 24),\n",
    "  'start': datetime.datetime(2017, 11, 28, 19, 34, 15)},\n",
    " {'end': datetime.datetime(2017, 11, 28, 21, 39, 32),\n",
    "  'start': datetime.datetime(2017, 11, 28, 21, 27, 29)},\n",
    " {'end': datetime.datetime(2017, 11, 29, 7, 51, 18),\n",
    "  'start': datetime.datetime(2017, 11, 29, 7, 47, 38)},\n",
    " {'end': datetime.datetime(2017, 11, 29, 9, 53, 44),\n",
    "  'start': datetime.datetime(2017, 11, 29, 9, 50, 12)},\n",
    " {'end': datetime.datetime(2017, 11, 29, 17, 16, 21),\n",
    "  'start': datetime.datetime(2017, 11, 29, 17, 3, 42)},\n",
    " {'end': datetime.datetime(2017, 11, 29, 18, 23, 43),\n",
    "  'start': datetime.datetime(2017, 11, 29, 18, 19, 15)},\n",
    " {'end': datetime.datetime(2017, 12, 1, 17, 10, 12),\n",
    "  'start': datetime.datetime(2017, 12, 1, 17, 3, 58)},\n",
    " {'end': datetime.datetime(2017, 12, 2, 8, 1, 1),\n",
    "  'start': datetime.datetime(2017, 12, 2, 7, 55, 56)},\n",
    " {'end': datetime.datetime(2017, 12, 2, 9, 21, 18),\n",
    "  'start': datetime.datetime(2017, 12, 2, 9, 16, 14)},\n",
    " {'end': datetime.datetime(2017, 12, 2, 19, 53, 18),\n",
    "  'start': datetime.datetime(2017, 12, 2, 19, 48, 29)},\n",
    " {'end': datetime.datetime(2017, 12, 3, 15, 20, 9),\n",
    "  'start': datetime.datetime(2017, 12, 3, 14, 36, 29)},\n",
    " {'end': datetime.datetime(2017, 12, 3, 16, 25, 30),\n",
    "  'start': datetime.datetime(2017, 12, 3, 16, 4, 2)},\n",
    " {'end': datetime.datetime(2017, 12, 3, 16, 43, 58),\n",
    "  'start': datetime.datetime(2017, 12, 3, 16, 40, 26)},\n",
    " {'end': datetime.datetime(2017, 12, 3, 18, 4, 33),\n",
    "  'start': datetime.datetime(2017, 12, 3, 17, 20, 17)},\n",
    " {'end': datetime.datetime(2017, 12, 4, 8, 51),\n",
    "  'start': datetime.datetime(2017, 12, 4, 8, 34, 24)},\n",
    " {'end': datetime.datetime(2017, 12, 4, 17, 53, 57),\n",
    "  'start': datetime.datetime(2017, 12, 4, 17, 49, 26)},\n",
    " {'end': datetime.datetime(2017, 12, 4, 18, 50, 33),\n",
    "  'start': datetime.datetime(2017, 12, 4, 18, 38, 52)},\n",
    " {'end': datetime.datetime(2017, 12, 4, 21, 46, 58),\n",
    "  'start': datetime.datetime(2017, 12, 4, 21, 39, 20)},\n",
    " {'end': datetime.datetime(2017, 12, 4, 21, 56, 17),\n",
    "  'start': datetime.datetime(2017, 12, 4, 21, 54, 21)},\n",
    " {'end': datetime.datetime(2017, 12, 5, 8, 52, 54),\n",
    "  'start': datetime.datetime(2017, 12, 5, 8, 50, 50)},\n",
    " {'end': datetime.datetime(2017, 12, 6, 8, 24, 14),\n",
    "  'start': datetime.datetime(2017, 12, 6, 8, 19, 38)},\n",
    " {'end': datetime.datetime(2017, 12, 6, 18, 28, 11),\n",
    "  'start': datetime.datetime(2017, 12, 6, 18, 19, 19)},\n",
    " {'end': datetime.datetime(2017, 12, 6, 18, 33, 12),\n",
    "  'start': datetime.datetime(2017, 12, 6, 18, 28, 55)},\n",
    " {'end': datetime.datetime(2017, 12, 6, 20, 21, 38),\n",
    "  'start': datetime.datetime(2017, 12, 6, 20, 3, 29)},\n",
    " {'end': datetime.datetime(2017, 12, 6, 20, 39, 57),\n",
    "  'start': datetime.datetime(2017, 12, 6, 20, 36, 42)},\n",
    " {'end': datetime.datetime(2017, 12, 7, 6, 1, 15),\n",
    "  'start': datetime.datetime(2017, 12, 7, 5, 54, 51)},\n",
    " {'end': datetime.datetime(2017, 12, 8, 16, 55, 49),\n",
    "  'start': datetime.datetime(2017, 12, 8, 16, 47, 18)},\n",
    " {'end': datetime.datetime(2017, 12, 8, 19, 29, 12),\n",
    "  'start': datetime.datetime(2017, 12, 8, 19, 15, 2)},\n",
    " {'end': datetime.datetime(2017, 12, 9, 22, 47, 19),\n",
    "  'start': datetime.datetime(2017, 12, 9, 22, 39, 37)},\n",
    " {'end': datetime.datetime(2017, 12, 9, 23, 5, 32),\n",
    "  'start': datetime.datetime(2017, 12, 9, 23, 0, 10)},\n",
    " {'end': datetime.datetime(2017, 12, 10, 0, 56, 2),\n",
    "  'start': datetime.datetime(2017, 12, 10, 0, 39, 24)},\n",
    " {'end': datetime.datetime(2017, 12, 10, 1, 8, 9),\n",
    "  'start': datetime.datetime(2017, 12, 10, 1, 2, 42)},\n",
    " {'end': datetime.datetime(2017, 12, 10, 1, 11, 30),\n",
    "  'start': datetime.datetime(2017, 12, 10, 1, 8, 57)},\n",
    " {'end': datetime.datetime(2017, 12, 10, 13, 51, 41),\n",
    "  'start': datetime.datetime(2017, 12, 10, 13, 49, 9)},\n",
    " {'end': datetime.datetime(2017, 12, 10, 15, 18, 19),\n",
    "  'start': datetime.datetime(2017, 12, 10, 15, 14, 29)},\n",
    " {'end': datetime.datetime(2017, 12, 10, 15, 36, 28),\n",
    "  'start': datetime.datetime(2017, 12, 10, 15, 31, 7)},\n",
    " {'end': datetime.datetime(2017, 12, 10, 16, 30, 31),\n",
    "  'start': datetime.datetime(2017, 12, 10, 16, 20, 6)},\n",
    " {'end': datetime.datetime(2017, 12, 10, 17, 14, 25),\n",
    "  'start': datetime.datetime(2017, 12, 10, 17, 7, 54)},\n",
    " {'end': datetime.datetime(2017, 12, 10, 17, 45, 25),\n",
    "  'start': datetime.datetime(2017, 12, 10, 17, 23, 47)},\n",
    " {'end': datetime.datetime(2017, 12, 11, 6, 34, 4),\n",
    "  'start': datetime.datetime(2017, 12, 11, 6, 17, 6)},\n",
    " {'end': datetime.datetime(2017, 12, 11, 9, 12, 21),\n",
    "  'start': datetime.datetime(2017, 12, 11, 9, 8, 41)},\n",
    " {'end': datetime.datetime(2017, 12, 11, 9, 20, 18),\n",
    "  'start': datetime.datetime(2017, 12, 11, 9, 15, 41)},\n",
    " {'end': datetime.datetime(2017, 12, 12, 8, 59, 34),\n",
    "  'start': datetime.datetime(2017, 12, 12, 8, 55, 53)},\n",
    " {'end': datetime.datetime(2017, 12, 13, 17, 18, 32),\n",
    "  'start': datetime.datetime(2017, 12, 13, 17, 14, 56)},\n",
    " {'end': datetime.datetime(2017, 12, 13, 19, 0, 45),\n",
    "  'start': datetime.datetime(2017, 12, 13, 18, 52, 16)},\n",
    " {'end': datetime.datetime(2017, 12, 14, 9, 11, 6),\n",
    "  'start': datetime.datetime(2017, 12, 14, 9, 1, 10)},\n",
    " {'end': datetime.datetime(2017, 12, 14, 9, 19, 6),\n",
    "  'start': datetime.datetime(2017, 12, 14, 9, 12, 59)},\n",
    " {'end': datetime.datetime(2017, 12, 14, 12, 2),\n",
    "  'start': datetime.datetime(2017, 12, 14, 11, 54, 33)},\n",
    " {'end': datetime.datetime(2017, 12, 14, 14, 44, 40),\n",
    "  'start': datetime.datetime(2017, 12, 14, 14, 40, 23)},\n",
    " {'end': datetime.datetime(2017, 12, 14, 15, 26, 24),\n",
    "  'start': datetime.datetime(2017, 12, 14, 15, 8, 55)},\n",
    " {'end': datetime.datetime(2017, 12, 14, 18, 9, 4),\n",
    "  'start': datetime.datetime(2017, 12, 14, 17, 46, 17)},\n",
    " {'end': datetime.datetime(2017, 12, 15, 9, 23, 45),\n",
    "  'start': datetime.datetime(2017, 12, 15, 9, 8, 12)},\n",
    " {'end': datetime.datetime(2017, 12, 16, 9, 36, 17),\n",
    "  'start': datetime.datetime(2017, 12, 16, 9, 33, 46)},\n",
    " {'end': datetime.datetime(2017, 12, 16, 11, 5, 4),\n",
    "  'start': datetime.datetime(2017, 12, 16, 11, 2, 31)},\n",
    " {'end': datetime.datetime(2017, 12, 17, 10, 32, 3),\n",
    "  'start': datetime.datetime(2017, 12, 17, 10, 9, 47)},\n",
    " {'end': datetime.datetime(2017, 12, 18, 8, 7, 34),\n",
    "  'start': datetime.datetime(2017, 12, 18, 8, 2, 36)},\n",
    " {'end': datetime.datetime(2017, 12, 18, 16, 9, 20),\n",
    "  'start': datetime.datetime(2017, 12, 18, 16, 3)},\n",
    " {'end': datetime.datetime(2017, 12, 18, 16, 53, 12),\n",
    "  'start': datetime.datetime(2017, 12, 18, 16, 30, 7)},\n",
    " {'end': datetime.datetime(2017, 12, 18, 19, 22, 8),\n",
    "  'start': datetime.datetime(2017, 12, 18, 19, 18, 23)},\n",
    " {'end': datetime.datetime(2017, 12, 18, 20, 17, 47),\n",
    "  'start': datetime.datetime(2017, 12, 18, 20, 14, 46)},\n",
    " {'end': datetime.datetime(2017, 12, 19, 19, 23, 49),\n",
    "  'start': datetime.datetime(2017, 12, 19, 19, 14, 8)},\n",
    " {'end': datetime.datetime(2017, 12, 19, 19, 43, 46),\n",
    "  'start': datetime.datetime(2017, 12, 19, 19, 39, 36)},\n",
    " {'end': datetime.datetime(2017, 12, 20, 8, 10, 46),\n",
    "  'start': datetime.datetime(2017, 12, 20, 8, 5, 14)},\n",
    " {'end': datetime.datetime(2017, 12, 20, 8, 29, 50),\n",
    "  'start': datetime.datetime(2017, 12, 20, 8, 15, 45)},\n",
    " {'end': datetime.datetime(2017, 12, 20, 8, 38, 9),\n",
    "  'start': datetime.datetime(2017, 12, 20, 8, 33, 32)},\n",
    " {'end': datetime.datetime(2017, 12, 20, 13, 54, 39),\n",
    "  'start': datetime.datetime(2017, 12, 20, 13, 43, 36)},\n",
    " {'end': datetime.datetime(2017, 12, 20, 19, 6, 54),\n",
    "  'start': datetime.datetime(2017, 12, 20, 18, 57, 53)},\n",
    " {'end': datetime.datetime(2017, 12, 21, 7, 32, 3),\n",
    "  'start': datetime.datetime(2017, 12, 21, 7, 21, 11)},\n",
    " {'end': datetime.datetime(2017, 12, 21, 8, 6, 15),\n",
    "  'start': datetime.datetime(2017, 12, 21, 8, 1, 58)},\n",
    " {'end': datetime.datetime(2017, 12, 21, 13, 33, 49),\n",
    "  'start': datetime.datetime(2017, 12, 21, 13, 20, 54)},\n",
    " {'end': datetime.datetime(2017, 12, 21, 15, 34, 27),\n",
    "  'start': datetime.datetime(2017, 12, 21, 15, 26, 8)},\n",
    " {'end': datetime.datetime(2017, 12, 21, 18, 38, 50),\n",
    "  'start': datetime.datetime(2017, 12, 21, 18, 9, 46)},\n",
    " {'end': datetime.datetime(2017, 12, 22, 16, 21, 46),\n",
    "  'start': datetime.datetime(2017, 12, 22, 16, 14, 21)},\n",
    " {'end': datetime.datetime(2017, 12, 22, 16, 34, 14),\n",
    "  'start': datetime.datetime(2017, 12, 22, 16, 29, 17)},\n",
    " {'end': datetime.datetime(2017, 12, 25, 13, 18, 27),\n",
    "  'start': datetime.datetime(2017, 12, 25, 12, 49, 51)},\n",
    " {'end': datetime.datetime(2017, 12, 25, 14, 20, 50),\n",
    "  'start': datetime.datetime(2017, 12, 25, 13, 46, 44)},\n",
    " {'end': datetime.datetime(2017, 12, 26, 10, 53, 45),\n",
    "  'start': datetime.datetime(2017, 12, 26, 10, 40, 16)},\n",
    " {'end': datetime.datetime(2017, 12, 27, 17, 17, 39),\n",
    "  'start': datetime.datetime(2017, 12, 27, 16, 56, 12)},\n",
    " {'end': datetime.datetime(2017, 12, 29, 6, 12, 30),\n",
    "  'start': datetime.datetime(2017, 12, 29, 6, 2, 34)},\n",
    " {'end': datetime.datetime(2017, 12, 29, 12, 46, 16),\n",
    "  'start': datetime.datetime(2017, 12, 29, 12, 21, 3)},\n",
    " {'end': datetime.datetime(2017, 12, 29, 14, 43, 46),\n",
    "  'start': datetime.datetime(2017, 12, 29, 14, 32, 55)},\n",
    " {'end': datetime.datetime(2017, 12, 29, 15, 18, 51),\n",
    "  'start': datetime.datetime(2017, 12, 29, 15, 8, 26)},\n",
    " {'end': datetime.datetime(2017, 12, 29, 20, 38, 13),\n",
    "  'start': datetime.datetime(2017, 12, 29, 20, 33, 34)},\n",
    " {'end': datetime.datetime(2017, 12, 30, 13, 54, 33),\n",
    "  'start': datetime.datetime(2017, 12, 30, 13, 51, 3)},\n",
    " {'end': datetime.datetime(2017, 12, 30, 15, 19, 13),\n",
    "  'start': datetime.datetime(2017, 12, 30, 15, 9, 3)}]"
   ]
  },
  {
   "cell_type": "code",
   "execution_count": 136,
   "metadata": {
    "ExecuteTime": {
     "end_time": "2020-07-03T16:49:38.798828Z",
     "start_time": "2020-07-03T16:49:38.793843Z"
    },
    "hidden": true
   },
   "outputs": [],
   "source": [
    "durations = []\n",
    "\n",
    "for trip in bike_times:\n",
    "  # Create a timedelta object corresponding to the length of the trip\n",
    "    trip_duration = trip['end'] -trip['start']\n",
    "  \n",
    "    # Get the total elapsed seconds in trip_duration\n",
    "    trip_length_seconds = trip_duration.total_seconds()\n",
    "  \n",
    "     # Append the results to our list\n",
    "    durations.append(trip_length_seconds)"
   ]
  },
  {
   "cell_type": "markdown",
   "metadata": {
    "heading_collapsed": true,
    "hidden": true
   },
   "source": [
    "## Time Zones and Daylight Saving"
   ]
  },
  {
   "cell_type": "markdown",
   "metadata": {
    "heading_collapsed": true,
    "hidden": true
   },
   "source": [
    "### UTC Offsets"
   ]
  },
  {
   "cell_type": "markdown",
   "metadata": {
    "hidden": true
   },
   "source": [
    "Coordinated Universal Time <br>\n",
    "Clocks West of UK = -UTC <br>\n",
    "Clocks East of UTC = +UTC\n"
   ]
  },
  {
   "cell_type": "code",
   "execution_count": 396,
   "metadata": {
    "ExecuteTime": {
     "end_time": "2020-07-04T11:17:49.396035Z",
     "start_time": "2020-07-04T11:17:49.389046Z"
    },
    "hidden": true
   },
   "outputs": [],
   "source": [
    "from datetime import datetime, timedelta, timezone"
   ]
  },
  {
   "cell_type": "markdown",
   "metadata": {
    "ExecuteTime": {
     "end_time": "2020-07-04T11:35:49.791435Z",
     "start_time": "2020-07-04T11:35:49.787447Z"
    },
    "heading_collapsed": true,
    "hidden": true
   },
   "source": [
    "#### Specifying What time Zone when data was recorded :"
   ]
  },
  {
   "cell_type": "markdown",
   "metadata": {
    "hidden": true
   },
   "source": [
    "eg: UTC - 5 hours  (eastern time)"
   ]
  },
  {
   "cell_type": "code",
   "execution_count": 414,
   "metadata": {
    "ExecuteTime": {
     "end_time": "2020-07-04T11:25:22.186073Z",
     "start_time": "2020-07-04T11:25:22.181087Z"
    },
    "hidden": true
   },
   "outputs": [
    {
     "name": "stdout",
     "output_type": "stream",
     "text": [
      "2017-12-30 15:09:03-05:00\n"
     ]
    }
   ],
   "source": [
    "#US Eastern TimeZone\n",
    "ET = timezone(timedelta(hours=-5))\n",
    "dt = datetime(2017, 12, 30, 15 , 9 , 3, tzinfo = ET)\n",
    "print(dt)"
   ]
  },
  {
   "cell_type": "markdown",
   "metadata": {
    "heading_collapsed": true,
    "hidden": true
   },
   "source": [
    "#### Converting to Different TimeZones:"
   ]
  },
  {
   "cell_type": "code",
   "execution_count": 415,
   "metadata": {
    "ExecuteTime": {
     "end_time": "2020-07-04T11:25:22.966932Z",
     "start_time": "2020-07-04T11:25:22.959947Z"
    },
    "hidden": true
   },
   "outputs": [
    {
     "name": "stdout",
     "output_type": "stream",
     "text": [
      "2017-12-31 01:39:03+05:30\n"
     ]
    }
   ],
   "source": [
    "#Indian Standard Time\n",
    "IST = timezone(timedelta(hours=5 , minutes = 30))\n",
    "#Convert to IST\n",
    "print(dt.astimezone(IST))"
   ]
  },
  {
   "cell_type": "markdown",
   "metadata": {
    "heading_collapsed": true,
    "hidden": true
   },
   "source": [
    "#### Setting 0 UTC Offset"
   ]
  },
  {
   "cell_type": "markdown",
   "metadata": {
    "hidden": true
   },
   "source": [
    "<b> timezone.utc = 0 UTC Offset </b>"
   ]
  },
  {
   "cell_type": "code",
   "execution_count": 417,
   "metadata": {
    "ExecuteTime": {
     "end_time": "2020-07-04T11:28:01.249694Z",
     "start_time": "2020-07-04T11:28:01.244706Z"
    },
    "hidden": true
   },
   "outputs": [
    {
     "name": "stdout",
     "output_type": "stream",
     "text": [
      "2017-12-30 15:09:03-05:00\n"
     ]
    }
   ],
   "source": [
    "print(dt)"
   ]
  },
  {
   "cell_type": "markdown",
   "metadata": {
    "hidden": true
   },
   "source": [
    "<b> Changing Only UTC Offset :</b>"
   ]
  },
  {
   "cell_type": "code",
   "execution_count": 424,
   "metadata": {
    "ExecuteTime": {
     "end_time": "2020-07-04T11:39:29.144357Z",
     "start_time": "2020-07-04T11:39:29.138370Z"
    },
    "hidden": true
   },
   "outputs": [
    {
     "name": "stdout",
     "output_type": "stream",
     "text": [
      "2017-12-30 15:09:03+00:00\n"
     ]
    }
   ],
   "source": [
    "print(dt.replace(tzinfo = timezone.utc))"
   ]
  },
  {
   "cell_type": "markdown",
   "metadata": {
    "hidden": true
   },
   "source": [
    "<b> Changing Both Time and UTC Offset :</b>"
   ]
  },
  {
   "cell_type": "code",
   "execution_count": 420,
   "metadata": {
    "ExecuteTime": {
     "end_time": "2020-07-04T11:29:41.045289Z",
     "start_time": "2020-07-04T11:29:41.038309Z"
    },
    "hidden": true
   },
   "outputs": [
    {
     "name": "stdout",
     "output_type": "stream",
     "text": [
      "2017-12-30 20:09:03+00:00\n"
     ]
    }
   ],
   "source": [
    "print(dt.astimezone(timezone.utc))"
   ]
  },
  {
   "cell_type": "markdown",
   "metadata": {
    "heading_collapsed": true,
    "hidden": true
   },
   "source": [
    "#### Changing UTC of a Column of a DATAFRAME"
   ]
  },
  {
   "cell_type": "code",
   "execution_count": 422,
   "metadata": {
    "ExecuteTime": {
     "end_time": "2020-07-04T11:38:33.706784Z",
     "start_time": "2020-07-04T11:38:33.677862Z"
    },
    "hidden": true
   },
   "outputs": [
    {
     "data": {
      "text/html": [
       "<div>\n",
       "<style scoped>\n",
       "    .dataframe tbody tr th:only-of-type {\n",
       "        vertical-align: middle;\n",
       "    }\n",
       "\n",
       "    .dataframe tbody tr th {\n",
       "        vertical-align: top;\n",
       "    }\n",
       "\n",
       "    .dataframe thead th {\n",
       "        text-align: right;\n",
       "    }\n",
       "</style>\n",
       "<table border=\"1\" class=\"dataframe\">\n",
       "  <thead>\n",
       "    <tr style=\"text-align: right;\">\n",
       "      <th></th>\n",
       "      <th>Start date</th>\n",
       "      <th>End date</th>\n",
       "      <th>Start station number</th>\n",
       "      <th>Start station</th>\n",
       "      <th>End station number</th>\n",
       "      <th>End station</th>\n",
       "      <th>Bike number</th>\n",
       "      <th>Member type</th>\n",
       "      <th>Duration</th>\n",
       "      <th>week_days</th>\n",
       "      <th>Duration_seconds</th>\n",
       "    </tr>\n",
       "  </thead>\n",
       "  <tbody>\n",
       "    <tr>\n",
       "      <th>0</th>\n",
       "      <td>2017-10-01 15:23:25-04:00</td>\n",
       "      <td>2017-10-01 15:26:26</td>\n",
       "      <td>31038</td>\n",
       "      <td>Glebe Rd &amp; 11th St N</td>\n",
       "      <td>31036</td>\n",
       "      <td>George Mason Dr &amp; Wilson Blvd</td>\n",
       "      <td>W20529</td>\n",
       "      <td>Member</td>\n",
       "      <td>00:03:01</td>\n",
       "      <td>6</td>\n",
       "      <td>181.0</td>\n",
       "    </tr>\n",
       "    <tr>\n",
       "      <th>1</th>\n",
       "      <td>2017-10-01 15:42:57-04:00</td>\n",
       "      <td>2017-10-01 17:49:59</td>\n",
       "      <td>31036</td>\n",
       "      <td>George Mason Dr &amp; Wilson Blvd</td>\n",
       "      <td>31036</td>\n",
       "      <td>George Mason Dr &amp; Wilson Blvd</td>\n",
       "      <td>W20529</td>\n",
       "      <td>Casual</td>\n",
       "      <td>02:07:02</td>\n",
       "      <td>6</td>\n",
       "      <td>7622.0</td>\n",
       "    </tr>\n",
       "  </tbody>\n",
       "</table>\n",
       "</div>"
      ],
      "text/plain": [
       "                 Start date            End date  Start station number  \\\n",
       "0 2017-10-01 15:23:25-04:00 2017-10-01 15:26:26                 31038   \n",
       "1 2017-10-01 15:42:57-04:00 2017-10-01 17:49:59                 31036   \n",
       "\n",
       "                   Start station  End station number  \\\n",
       "0           Glebe Rd & 11th St N               31036   \n",
       "1  George Mason Dr & Wilson Blvd               31036   \n",
       "\n",
       "                     End station Bike number Member type Duration  week_days  \\\n",
       "0  George Mason Dr & Wilson Blvd      W20529      Member 00:03:01          6   \n",
       "1  George Mason Dr & Wilson Blvd      W20529      Casual 02:07:02          6   \n",
       "\n",
       "   Duration_seconds  \n",
       "0             181.0  \n",
       "1            7622.0  "
      ]
     },
     "execution_count": 422,
     "metadata": {},
     "output_type": "execute_result"
    }
   ],
   "source": [
    "df.head(2)"
   ]
  },
  {
   "cell_type": "code",
   "execution_count": 434,
   "metadata": {
    "ExecuteTime": {
     "end_time": "2020-07-04T11:42:23.230337Z",
     "start_time": "2020-07-04T11:42:23.195430Z"
    },
    "hidden": true
   },
   "outputs": [
    {
     "data": {
      "text/plain": [
       "0   2017-10-01 15:23:25-05:00\n",
       "1   2017-10-01 15:42:57-05:00\n",
       "2   2017-10-02 06:37:10-05:00\n",
       "3   2017-10-02 08:56:45-05:00\n",
       "Name: Start date, dtype: datetime64[ns, UTC-05:00]"
      ]
     },
     "execution_count": 434,
     "metadata": {},
     "output_type": "execute_result"
    }
   ],
   "source": [
    "# Create a timezone object corresponding to UTC-4\n",
    "edt = timezone(timedelta(hours=-5))\n",
    "df['Start date'] = df['Start date'].apply(lambda x:x.replace(tzinfo = edt))\n",
    "df['Start date'].head(4)"
   ]
  },
  {
   "cell_type": "markdown",
   "metadata": {
    "heading_collapsed": true,
    "hidden": true
   },
   "source": [
    "### TimeZone DataBase"
   ]
  },
  {
   "cell_type": "code",
   "execution_count": 436,
   "metadata": {
    "ExecuteTime": {
     "end_time": "2020-07-04T11:45:03.893884Z",
     "start_time": "2020-07-04T11:45:03.889895Z"
    },
    "hidden": true
   },
   "outputs": [],
   "source": [
    "from datetime import datetime\n",
    "from dateutil import tz   #tz database"
   ]
  },
  {
   "cell_type": "markdown",
   "metadata": {
    "hidden": true
   },
   "source": [
    "<b> FORMAT :</b> 'Continent/City' <br>\n",
    "eg: 'Europe/London'"
   ]
  },
  {
   "cell_type": "code",
   "execution_count": 438,
   "metadata": {
    "ExecuteTime": {
     "end_time": "2020-07-04T11:45:45.800043Z",
     "start_time": "2020-07-04T11:45:45.794055Z"
    },
    "hidden": true
   },
   "outputs": [],
   "source": [
    "#Eastern Time\n",
    "et = tz.gettz('America/New_York')"
   ]
  },
  {
   "cell_type": "code",
   "execution_count": 441,
   "metadata": {
    "ExecuteTime": {
     "end_time": "2020-07-04T11:47:25.547249Z",
     "start_time": "2020-07-04T11:47:25.542256Z"
    },
    "hidden": true
   },
   "outputs": [
    {
     "name": "stdout",
     "output_type": "stream",
     "text": [
      "2017-12-30 15:09:03-05:00\n"
     ]
    }
   ],
   "source": [
    "dt = datetime(2017, 12, 30, 15 , 9 , 3, tzinfo = et)\n",
    "print(dt)"
   ]
  },
  {
   "cell_type": "markdown",
   "metadata": {
    "heading_collapsed": true,
    "hidden": true
   },
   "source": [
    "### DayLight Saving Time"
   ]
  },
  {
   "cell_type": "markdown",
   "metadata": {
    "hidden": true
   },
   "source": [
    "from dateutil import tz <b> AUTOMATICALLY TAKES CARE OF DST </b>"
   ]
  },
  {
   "cell_type": "markdown",
   "metadata": {
    "heading_collapsed": true,
    "hidden": true
   },
   "source": [
    "#### Using dateutil"
   ]
  },
  {
   "cell_type": "markdown",
   "metadata": {
    "hidden": true
   },
   "source": [
    "<b> NOTE: </b>  if you want to get absolute time differences, always move to UTC!"
   ]
  },
  {
   "cell_type": "code",
   "execution_count": 442,
   "metadata": {
    "ExecuteTime": {
     "end_time": "2020-07-04T11:56:32.447851Z",
     "start_time": "2020-07-04T11:56:32.442866Z"
    },
    "hidden": true
   },
   "outputs": [],
   "source": [
    "from datetime import datetime, timedelta, timezone\n",
    "from dateutil import tz"
   ]
  },
  {
   "cell_type": "markdown",
   "metadata": {
    "hidden": true
   },
   "source": [
    "<b> NOTE : </b> At March 12, 2017, in the Eastern United States, when Daylight Saving kicked in at 2 AM. "
   ]
  },
  {
   "cell_type": "code",
   "execution_count": 443,
   "metadata": {
    "ExecuteTime": {
     "end_time": "2020-07-04T11:56:38.544995Z",
     "start_time": "2020-07-04T11:56:38.538970Z"
    },
    "hidden": true
   },
   "outputs": [
    {
     "name": "stdout",
     "output_type": "stream",
     "text": [
      "2017-03-12T00:00:00-05:00 to 2017-03-12T06:00:00-04:00\n"
     ]
    }
   ],
   "source": [
    "# Start on March 12, 2017, midnight, then add 6 hours\n",
    "start = datetime(2017, 3, 12, tzinfo = tz.gettz('America/New_York'))\n",
    "end = start + timedelta(hours=6)\n",
    "print(start.isoformat() + \" to \" + end.isoformat())"
   ]
  },
  {
   "cell_type": "code",
   "execution_count": 444,
   "metadata": {
    "ExecuteTime": {
     "end_time": "2020-07-04T11:58:56.851309Z",
     "start_time": "2020-07-04T11:58:56.829368Z"
    },
    "hidden": true
   },
   "outputs": [
    {
     "name": "stdout",
     "output_type": "stream",
     "text": [
      "6.0\n"
     ]
    }
   ],
   "source": [
    "# How many hours have elapsed?\n",
    "print((end - start).total_seconds()/(60*60))"
   ]
  },
  {
   "cell_type": "code",
   "execution_count": 445,
   "metadata": {
    "ExecuteTime": {
     "end_time": "2020-07-04T11:59:19.999313Z",
     "start_time": "2020-07-04T11:59:19.994329Z"
    },
    "hidden": true
   },
   "outputs": [
    {
     "name": "stdout",
     "output_type": "stream",
     "text": [
      "5.0\n"
     ]
    }
   ],
   "source": [
    "# What if we move to UTC?\n",
    "print((end.astimezone(timezone.utc) - start.astimezone(timezone.utc))\\\n",
    "      .total_seconds()/(60*60))"
   ]
  },
  {
   "cell_type": "markdown",
   "metadata": {
    "heading_collapsed": true,
    "hidden": true
   },
   "source": [
    "#### Finding ambiguous datetimes:"
   ]
  },
  {
   "cell_type": "markdown",
   "metadata": {
    "hidden": true
   },
   "source": [
    "<b> NOTE </b> If you're collecting data, store it in UTC or with a fixed UTC offset!"
   ]
  },
  {
   "cell_type": "markdown",
   "metadata": {
    "hidden": true
   },
   "source": [
    "Catching ambiguous datetimes from Daylight Saving changes::::"
   ]
  },
  {
   "cell_type": "markdown",
   "metadata": {
    "hidden": true
   },
   "source": [
    "``` python \n",
    "tz.datetime_ambiguous(DATE_OBJECT)\n",
    ">>TRUE/FALSE\n",
    "```"
   ]
  },
  {
   "cell_type": "code",
   "execution_count": 555,
   "metadata": {
    "ExecuteTime": {
     "end_time": "2020-07-04T12:38:31.812130Z",
     "start_time": "2020-07-04T12:38:31.803153Z"
    },
    "hidden": true
   },
   "outputs": [],
   "source": [
    "df = df.dropna()"
   ]
  },
  {
   "cell_type": "code",
   "execution_count": 535,
   "metadata": {
    "ExecuteTime": {
     "end_time": "2020-07-04T12:33:55.886091Z",
     "start_time": "2020-07-04T12:33:55.742476Z"
    },
    "collapsed": true,
    "hidden": true
   },
   "outputs": [
    {
     "name": "stderr",
     "output_type": "stream",
     "text": [
      "C:\\Users\\Ashwin\\Miniconda3\\lib\\site-packages\\ipykernel_launcher.py:1: SettingWithCopyWarning: \n",
      "A value is trying to be set on a copy of a slice from a DataFrame.\n",
      "Try using .loc[row_indexer,col_indexer] = value instead\n",
      "\n",
      "See the caveats in the documentation: https://pandas.pydata.org/pandas-docs/stable/user_guide/indexing.html#returning-a-view-versus-a-copy\n",
      "  \"\"\"Entry point for launching an IPython kernel.\n",
      "C:\\Users\\Ashwin\\Miniconda3\\lib\\site-packages\\ipykernel_launcher.py:2: SettingWithCopyWarning: \n",
      "A value is trying to be set on a copy of a slice from a DataFrame.\n",
      "Try using .loc[row_indexer,col_indexer] = value instead\n",
      "\n",
      "See the caveats in the documentation: https://pandas.pydata.org/pandas-docs/stable/user_guide/indexing.html#returning-a-view-versus-a-copy\n",
      "  \n"
     ]
    }
   ],
   "source": [
    "df['Start date'] = df['Start date'].apply(lambda x:x.replace(tzinfo =tz.gettz('US/Eastern')))\n",
    "df['End date'] = df['End date'].apply(lambda x:x.replace(tzinfo =tz.gettz('US/Eastern')))"
   ]
  },
  {
   "cell_type": "code",
   "execution_count": 566,
   "metadata": {
    "ExecuteTime": {
     "end_time": "2020-07-04T12:41:21.112701Z",
     "start_time": "2020-07-04T12:41:21.106679Z"
    },
    "hidden": true
   },
   "outputs": [
    {
     "data": {
      "text/plain": [
       "True"
      ]
     },
     "execution_count": 566,
     "metadata": {},
     "output_type": "execute_result"
    }
   ],
   "source": [
    "date = datetime(2017, 11, 5,1,56,50,tzinfo =tz.gettz('US/Eastern')) \n",
    "tz.datetime_ambiguous(date)"
   ]
  },
  {
   "cell_type": "code",
   "execution_count": 567,
   "metadata": {
    "ExecuteTime": {
     "end_time": "2020-07-04T12:41:23.093084Z",
     "start_time": "2020-07-04T12:41:23.006042Z"
    },
    "hidden": true
   },
   "outputs": [],
   "source": [
    "for i in df['Start date']:\n",
    "      if tz.datetime_ambiguous(i)==True:\n",
    "            print(\"Ambiguous start at \" + str(i))   "
   ]
  },
  {
   "cell_type": "code",
   "execution_count": 568,
   "metadata": {
    "ExecuteTime": {
     "end_time": "2020-07-04T12:41:23.634287Z",
     "start_time": "2020-07-04T12:41:23.524588Z"
    },
    "hidden": true
   },
   "outputs": [],
   "source": [
    "for i in df['End date']:\n",
    "    if tz.datetime_ambiguous(i)==True:\n",
    "        print(\"Ambiguous start at \" + str(i))   "
   ]
  },
  {
   "cell_type": "markdown",
   "metadata": {
    "hidden": true
   },
   "source": [
    "<b> Cleaning daylight saving data with fold :</b>"
   ]
  },
  {
   "cell_type": "markdown",
   "metadata": {
    "hidden": true
   },
   "source": [
    "Since Python does not handle tz.enfold() when doing arithmetic, we must put our datetime objects into UTC, where ambiguities have been resolved."
   ]
  },
  {
   "cell_type": "code",
   "execution_count": null,
   "metadata": {
    "hidden": true
   },
   "outputs": [],
   "source": [
    "trip_durations = []\n",
    "for trip in onebike_datetimes:\n",
    "  # When the start is later than the end, set the fold to be 1\n",
    "    if trip['start'] > trip['end']:\n",
    "        trip['end'] = tz.enfold(trip['end'])\n",
    "  # Convert to UTC\n",
    "    start = trip['start'].astimezone(tz.UTC)\n",
    "    end = trip['end'].astimezone(tz.UTC)\n",
    "\n",
    "  # Subtract the difference\n",
    "    trip_length_seconds = (end-start).total_seconds()\n",
    "    trip_durations.append(trip_length_seconds)\n",
    "\n",
    "# Take the shortest trip duration\n",
    "print(\"Shortest trip: \" + str(min(trip_durations)))"
   ]
  },
  {
   "cell_type": "markdown",
   "metadata": {
    "heading_collapsed": true
   },
   "source": [
    "# PANDAS"
   ]
  },
  {
   "cell_type": "markdown",
   "metadata": {
    "heading_collapsed": true,
    "hidden": true
   },
   "source": [
    "## Parsing Date-Time Columns"
   ]
  },
  {
   "cell_type": "markdown",
   "metadata": {
    "heading_collapsed": true,
    "hidden": true
   },
   "source": [
    "### Automatic Method"
   ]
  },
  {
   "cell_type": "markdown",
   "metadata": {
    "hidden": true
   },
   "source": [
    "``` python\n",
    "df = pd.read_csv('....csv' , parse_dates = ['Start date', 'End date'])  #Setting these columns as Date Types\n",
    "\n",
    "##Setting Date Indices\n",
    "df = pd.read_csv('....csv' , index_col = 'Date_Col' , parse_dates = True) \n",
    "```"
   ]
  },
  {
   "cell_type": "code",
   "execution_count": 571,
   "metadata": {
    "ExecuteTime": {
     "end_time": "2020-07-04T14:10:45.559293Z",
     "start_time": "2020-07-04T14:10:45.247460Z"
    },
    "hidden": true
   },
   "outputs": [
    {
     "data": {
      "text/html": [
       "<div>\n",
       "<style scoped>\n",
       "    .dataframe tbody tr th:only-of-type {\n",
       "        vertical-align: middle;\n",
       "    }\n",
       "\n",
       "    .dataframe tbody tr th {\n",
       "        vertical-align: top;\n",
       "    }\n",
       "\n",
       "    .dataframe thead th {\n",
       "        text-align: right;\n",
       "    }\n",
       "</style>\n",
       "<table border=\"1\" class=\"dataframe\">\n",
       "  <thead>\n",
       "    <tr style=\"text-align: right;\">\n",
       "      <th></th>\n",
       "      <th>Start date</th>\n",
       "      <th>End date</th>\n",
       "      <th>Start station number</th>\n",
       "      <th>Start station</th>\n",
       "      <th>End station number</th>\n",
       "      <th>End station</th>\n",
       "      <th>Bike number</th>\n",
       "      <th>Member type</th>\n",
       "    </tr>\n",
       "  </thead>\n",
       "  <tbody>\n",
       "    <tr>\n",
       "      <th>0</th>\n",
       "      <td>2017-10-01 15:23:25</td>\n",
       "      <td>2017-10-01 15:26:26</td>\n",
       "      <td>31038</td>\n",
       "      <td>Glebe Rd &amp; 11th St N</td>\n",
       "      <td>31036</td>\n",
       "      <td>George Mason Dr &amp; Wilson Blvd</td>\n",
       "      <td>W20529</td>\n",
       "      <td>Member</td>\n",
       "    </tr>\n",
       "    <tr>\n",
       "      <th>1</th>\n",
       "      <td>2017-10-01 15:42:57</td>\n",
       "      <td>2017-10-01 17:49:59</td>\n",
       "      <td>31036</td>\n",
       "      <td>George Mason Dr &amp; Wilson Blvd</td>\n",
       "      <td>31036</td>\n",
       "      <td>George Mason Dr &amp; Wilson Blvd</td>\n",
       "      <td>W20529</td>\n",
       "      <td>Casual</td>\n",
       "    </tr>\n",
       "    <tr>\n",
       "      <th>2</th>\n",
       "      <td>2017-10-02 06:37:10</td>\n",
       "      <td>2017-10-02 06:42:53</td>\n",
       "      <td>31036</td>\n",
       "      <td>George Mason Dr &amp; Wilson Blvd</td>\n",
       "      <td>31037</td>\n",
       "      <td>Ballston Metro / N Stuart &amp; 9th St N</td>\n",
       "      <td>W20529</td>\n",
       "      <td>Member</td>\n",
       "    </tr>\n",
       "  </tbody>\n",
       "</table>\n",
       "</div>"
      ],
      "text/plain": [
       "           Start date            End date  Start station number  \\\n",
       "0 2017-10-01 15:23:25 2017-10-01 15:26:26                 31038   \n",
       "1 2017-10-01 15:42:57 2017-10-01 17:49:59                 31036   \n",
       "2 2017-10-02 06:37:10 2017-10-02 06:42:53                 31036   \n",
       "\n",
       "                   Start station  End station number  \\\n",
       "0           Glebe Rd & 11th St N               31036   \n",
       "1  George Mason Dr & Wilson Blvd               31036   \n",
       "2  George Mason Dr & Wilson Blvd               31037   \n",
       "\n",
       "                            End station Bike number Member type  \n",
       "0         George Mason Dr & Wilson Blvd      W20529      Member  \n",
       "1         George Mason Dr & Wilson Blvd      W20529      Casual  \n",
       "2  Ballston Metro / N Stuart & 9th St N      W20529      Member  "
      ]
     },
     "execution_count": 571,
     "metadata": {},
     "output_type": "execute_result"
    }
   ],
   "source": [
    "#Autoomaticcal Detect pattern and convert to date-time-object\n",
    "df = pd.read_csv('datasets/capital-onebike.csv' , parse_dates = ['Start date', 'End date'])\n",
    "df.head(3)"
   ]
  },
  {
   "cell_type": "markdown",
   "metadata": {
    "heading_collapsed": true,
    "hidden": true
   },
   "source": [
    "### Manual Method"
   ]
  },
  {
   "cell_type": "code",
   "execution_count": 159,
   "metadata": {
    "ExecuteTime": {
     "end_time": "2020-07-03T18:22:29.424536Z",
     "start_time": "2020-07-03T18:22:29.414524Z"
    },
    "collapsed": true,
    "hidden": true
   },
   "outputs": [
    {
     "data": {
      "text/plain": [
       "0     2017-10-01 15:23:25\n",
       "1     2017-10-01 15:42:57\n",
       "2     2017-10-02 06:37:10\n",
       "3     2017-10-02 08:56:45\n",
       "4     2017-10-02 18:23:48\n",
       "              ...        \n",
       "285   2017-12-29 14:32:55\n",
       "286   2017-12-29 15:08:26\n",
       "287   2017-12-29 20:33:34\n",
       "288   2017-12-30 13:51:03\n",
       "289   2017-12-30 15:09:03\n",
       "Name: Start date, Length: 290, dtype: datetime64[ns]"
      ]
     },
     "execution_count": 159,
     "metadata": {},
     "output_type": "execute_result"
    }
   ],
   "source": [
    "#Manual Methods\n",
    "df['Start date'] = pd.to_datetime(df['Start date'] , format = \"%Y-%m-%d %H:%M:%S\")"
   ]
  },
  {
   "cell_type": "markdown",
   "metadata": {
    "heading_collapsed": true,
    "hidden": true
   },
   "source": [
    "## Slicing Date Indices"
   ]
  },
  {
   "cell_type": "markdown",
   "metadata": {
    "hidden": true
   },
   "source": [
    "- NOTE ::Date Column is set as index"
   ]
  },
  {
   "cell_type": "markdown",
   "metadata": {
    "hidden": true
   },
   "source": [
    "``` python\n",
    "df.loc['2013-7-13' : '2014-5-6' ,  'Sensor_Value_Column']\n",
    "```"
   ]
  },
  {
   "cell_type": "markdown",
   "metadata": {
    "heading_collapsed": true,
    "hidden": true
   },
   "source": [
    "## Duration Columns (Arithmetic on Dates)"
   ]
  },
  {
   "cell_type": "markdown",
   "metadata": {
    "hidden": true
   },
   "source": [
    "<b> Duration Columns </b>"
   ]
  },
  {
   "cell_type": "code",
   "execution_count": 350,
   "metadata": {
    "ExecuteTime": {
     "end_time": "2020-07-03T19:18:25.410899Z",
     "start_time": "2020-07-03T19:18:25.393947Z"
    },
    "hidden": true
   },
   "outputs": [
    {
     "data": {
      "text/html": [
       "<div>\n",
       "<style scoped>\n",
       "    .dataframe tbody tr th:only-of-type {\n",
       "        vertical-align: middle;\n",
       "    }\n",
       "\n",
       "    .dataframe tbody tr th {\n",
       "        vertical-align: top;\n",
       "    }\n",
       "\n",
       "    .dataframe thead th {\n",
       "        text-align: right;\n",
       "    }\n",
       "</style>\n",
       "<table border=\"1\" class=\"dataframe\">\n",
       "  <thead>\n",
       "    <tr style=\"text-align: right;\">\n",
       "      <th></th>\n",
       "      <th>Start date</th>\n",
       "      <th>End date</th>\n",
       "      <th>Start station number</th>\n",
       "      <th>Start station</th>\n",
       "      <th>End station number</th>\n",
       "      <th>End station</th>\n",
       "      <th>Bike number</th>\n",
       "      <th>Member type</th>\n",
       "      <th>Duration</th>\n",
       "    </tr>\n",
       "  </thead>\n",
       "  <tbody>\n",
       "    <tr>\n",
       "      <th>0</th>\n",
       "      <td>2017-10-01 15:23:25</td>\n",
       "      <td>2017-10-01 15:26:26</td>\n",
       "      <td>31038</td>\n",
       "      <td>Glebe Rd &amp; 11th St N</td>\n",
       "      <td>31036</td>\n",
       "      <td>George Mason Dr &amp; Wilson Blvd</td>\n",
       "      <td>W20529</td>\n",
       "      <td>Member</td>\n",
       "      <td>00:03:01</td>\n",
       "    </tr>\n",
       "    <tr>\n",
       "      <th>1</th>\n",
       "      <td>2017-10-01 15:42:57</td>\n",
       "      <td>2017-10-01 17:49:59</td>\n",
       "      <td>31036</td>\n",
       "      <td>George Mason Dr &amp; Wilson Blvd</td>\n",
       "      <td>31036</td>\n",
       "      <td>George Mason Dr &amp; Wilson Blvd</td>\n",
       "      <td>W20529</td>\n",
       "      <td>Casual</td>\n",
       "      <td>02:07:02</td>\n",
       "    </tr>\n",
       "  </tbody>\n",
       "</table>\n",
       "</div>"
      ],
      "text/plain": [
       "           Start date            End date  Start station number  \\\n",
       "0 2017-10-01 15:23:25 2017-10-01 15:26:26                 31038   \n",
       "1 2017-10-01 15:42:57 2017-10-01 17:49:59                 31036   \n",
       "\n",
       "                   Start station  End station number  \\\n",
       "0           Glebe Rd & 11th St N               31036   \n",
       "1  George Mason Dr & Wilson Blvd               31036   \n",
       "\n",
       "                     End station Bike number Member type Duration  \n",
       "0  George Mason Dr & Wilson Blvd      W20529      Member 00:03:01  \n",
       "1  George Mason Dr & Wilson Blvd      W20529      Casual 02:07:02  "
      ]
     },
     "execution_count": 350,
     "metadata": {},
     "output_type": "execute_result"
    }
   ],
   "source": [
    "df['Duration'] = df['End date'] - df['Start date']\n",
    "df.head(2)"
   ]
  },
  {
   "cell_type": "markdown",
   "metadata": {
    "hidden": true
   },
   "source": [
    "<b> Duration -> SECONDS </b>"
   ]
  },
  {
   "cell_type": "code",
   "execution_count": 164,
   "metadata": {
    "ExecuteTime": {
     "end_time": "2020-07-03T18:25:12.925328Z",
     "start_time": "2020-07-03T18:25:12.916318Z"
    },
    "hidden": true,
    "scrolled": true
   },
   "outputs": [
    {
     "data": {
      "text/plain": [
       "0       181.0\n",
       "1      7622.0\n",
       "2       343.0\n",
       "3      1278.0\n",
       "4      1277.0\n",
       "        ...  \n",
       "285     651.0\n",
       "286     625.0\n",
       "287     279.0\n",
       "288     210.0\n",
       "289     610.0\n",
       "Name: Duration, Length: 290, dtype: float64"
      ]
     },
     "execution_count": 164,
     "metadata": {},
     "output_type": "execute_result"
    }
   ],
   "source": [
    "df['Duration'].dt.total_seconds()"
   ]
  },
  {
   "cell_type": "markdown",
   "metadata": {
    "heading_collapsed": true,
    "hidden": true
   },
   "source": [
    "## Extracting Years/Months/Weekdays"
   ]
  },
  {
   "cell_type": "code",
   "execution_count": 370,
   "metadata": {
    "ExecuteTime": {
     "end_time": "2020-07-03T19:23:14.726142Z",
     "start_time": "2020-07-03T19:23:14.718165Z"
    },
    "hidden": true
   },
   "outputs": [
    {
     "data": {
      "text/plain": [
       "0      2017\n",
       "1      2017\n",
       "2      2017\n",
       "3      2017\n",
       "4      2017\n",
       "       ... \n",
       "285    2017\n",
       "286    2017\n",
       "287    2017\n",
       "288    2017\n",
       "289    2017\n",
       "Name: Start date, Length: 290, dtype: int64"
      ]
     },
     "execution_count": 370,
     "metadata": {},
     "output_type": "execute_result"
    }
   ],
   "source": [
    "df['Start date'].dt.year"
   ]
  },
  {
   "cell_type": "code",
   "execution_count": 371,
   "metadata": {
    "ExecuteTime": {
     "end_time": "2020-07-03T19:23:21.080597Z",
     "start_time": "2020-07-03T19:23:21.070624Z"
    },
    "hidden": true
   },
   "outputs": [
    {
     "data": {
      "text/plain": [
       "0      10\n",
       "1      10\n",
       "2      10\n",
       "3      10\n",
       "4      10\n",
       "       ..\n",
       "285    12\n",
       "286    12\n",
       "287    12\n",
       "288    12\n",
       "289    12\n",
       "Name: Start date, Length: 290, dtype: int64"
      ]
     },
     "execution_count": 371,
     "metadata": {},
     "output_type": "execute_result"
    }
   ],
   "source": [
    "df['Start date'].dt.month"
   ]
  },
  {
   "cell_type": "code",
   "execution_count": 372,
   "metadata": {
    "ExecuteTime": {
     "end_time": "2020-07-03T19:23:29.984609Z",
     "start_time": "2020-07-03T19:23:29.975670Z"
    },
    "hidden": true
   },
   "outputs": [
    {
     "data": {
      "text/plain": [
       "0      6\n",
       "1      6\n",
       "2      0\n",
       "3      0\n",
       "4      0\n",
       "      ..\n",
       "285    4\n",
       "286    4\n",
       "287    4\n",
       "288    5\n",
       "289    5\n",
       "Name: Start date, Length: 290, dtype: int64"
      ]
     },
     "execution_count": 372,
     "metadata": {},
     "output_type": "execute_result"
    }
   ],
   "source": [
    "df['Start date'].dt.weekday"
   ]
  },
  {
   "cell_type": "markdown",
   "metadata": {
    "heading_collapsed": true,
    "hidden": true
   },
   "source": [
    "## Resample time-series data"
   ]
  },
  {
   "cell_type": "markdown",
   "metadata": {
    "hidden": true
   },
   "source": [
    "- Object must have a datetime-like index"
   ]
  },
  {
   "cell_type": "markdown",
   "metadata": {
    "hidden": true
   },
   "source": [
    "<b> DOWNSAMPLING : </b> Reindexing with equally spaced times of lower frequency (eg DAILY -> WEEKLY)\n",
    "\n",
    "<b> UPSAMPLING : </b> eg: DAILY - > HOURLY"
   ]
  },
  {
   "cell_type": "markdown",
   "metadata": {
    "hidden": true
   },
   "source": [
    "<p style=\"border-radius: 30px;\n",
    "          border:2px; \n",
    "          border-style:solid; \n",
    "          border-color:#000000;\n",
    "          padding: 2em;\n",
    "          box-shadow: 5px 10px;\n",
    "          text-align: justify;\n",
    "          background-color:lightgreen;\">\n",
    "DATAFRAME/SERIES.resample(arguments).AGGREGATE_FUNCTION\n",
    "\n",
    "</p>"
   ]
  },
  {
   "cell_type": "markdown",
   "metadata": {
    "hidden": true
   },
   "source": [
    "Arguments:\n",
    " - 'A' = Annual Frequency\n",
    " - 'M'\n",
    " - 'D'"
   ]
  },
  {
   "cell_type": "markdown",
   "metadata": {
    "hidden": true
   },
   "source": [
    "https://pandas.pydata.org/pandas-docs/stable/user_guide/timeseries.html#offset-aliases"
   ]
  },
  {
   "cell_type": "code",
   "execution_count": 606,
   "metadata": {
    "ExecuteTime": {
     "end_time": "2020-07-06T09:26:48.173634Z",
     "start_time": "2020-07-06T09:26:47.588906Z"
    },
    "hidden": true
   },
   "outputs": [],
   "source": [
    "usa = pd.read_csv('datasets/GDP/gdp_usa.csv' ,  index_col='DATE' , parse_dates=True)\n",
    "# Slice all the gdp data from 2008 onward: post2008\n",
    "post2008  = usa.loc['2008':]"
   ]
  },
  {
   "cell_type": "code",
   "execution_count": 607,
   "metadata": {
    "ExecuteTime": {
     "end_time": "2020-07-06T09:26:59.292395Z",
     "start_time": "2020-07-06T09:26:59.128833Z"
    },
    "hidden": true
   },
   "outputs": [
    {
     "data": {
      "text/html": [
       "<div>\n",
       "<style scoped>\n",
       "    .dataframe tbody tr th:only-of-type {\n",
       "        vertical-align: middle;\n",
       "    }\n",
       "\n",
       "    .dataframe tbody tr th {\n",
       "        vertical-align: top;\n",
       "    }\n",
       "\n",
       "    .dataframe thead th {\n",
       "        text-align: right;\n",
       "    }\n",
       "</style>\n",
       "<table border=\"1\" class=\"dataframe\">\n",
       "  <thead>\n",
       "    <tr style=\"text-align: right;\">\n",
       "      <th></th>\n",
       "      <th>VALUE</th>\n",
       "    </tr>\n",
       "    <tr>\n",
       "      <th>DATE</th>\n",
       "      <th></th>\n",
       "    </tr>\n",
       "  </thead>\n",
       "  <tbody>\n",
       "    <tr>\n",
       "      <th>2008-01-01</th>\n",
       "      <td>14668.4</td>\n",
       "    </tr>\n",
       "    <tr>\n",
       "      <th>2008-04-01</th>\n",
       "      <td>14813.0</td>\n",
       "    </tr>\n",
       "    <tr>\n",
       "      <th>2008-07-01</th>\n",
       "      <td>14843.0</td>\n",
       "    </tr>\n",
       "    <tr>\n",
       "      <th>2008-10-01</th>\n",
       "      <td>14549.9</td>\n",
       "    </tr>\n",
       "    <tr>\n",
       "      <th>2009-01-01</th>\n",
       "      <td>14383.9</td>\n",
       "    </tr>\n",
       "    <tr>\n",
       "      <th>2009-04-01</th>\n",
       "      <td>14340.4</td>\n",
       "    </tr>\n",
       "    <tr>\n",
       "      <th>2009-07-01</th>\n",
       "      <td>14384.1</td>\n",
       "    </tr>\n",
       "    <tr>\n",
       "      <th>2009-10-01</th>\n",
       "      <td>14566.5</td>\n",
       "    </tr>\n",
       "    <tr>\n",
       "      <th>2010-01-01</th>\n",
       "      <td>14681.1</td>\n",
       "    </tr>\n",
       "    <tr>\n",
       "      <th>2010-04-01</th>\n",
       "      <td>14888.6</td>\n",
       "    </tr>\n",
       "    <tr>\n",
       "      <th>2010-07-01</th>\n",
       "      <td>15057.7</td>\n",
       "    </tr>\n",
       "    <tr>\n",
       "      <th>2010-10-01</th>\n",
       "      <td>15230.2</td>\n",
       "    </tr>\n",
       "    <tr>\n",
       "      <th>2011-01-01</th>\n",
       "      <td>15238.4</td>\n",
       "    </tr>\n",
       "    <tr>\n",
       "      <th>2011-04-01</th>\n",
       "      <td>15460.9</td>\n",
       "    </tr>\n",
       "    <tr>\n",
       "      <th>2011-07-01</th>\n",
       "      <td>15587.1</td>\n",
       "    </tr>\n",
       "    <tr>\n",
       "      <th>2011-10-01</th>\n",
       "      <td>15785.3</td>\n",
       "    </tr>\n",
       "    <tr>\n",
       "      <th>2012-01-01</th>\n",
       "      <td>15973.9</td>\n",
       "    </tr>\n",
       "    <tr>\n",
       "      <th>2012-04-01</th>\n",
       "      <td>16121.9</td>\n",
       "    </tr>\n",
       "    <tr>\n",
       "      <th>2012-07-01</th>\n",
       "      <td>16227.9</td>\n",
       "    </tr>\n",
       "    <tr>\n",
       "      <th>2012-10-01</th>\n",
       "      <td>16297.3</td>\n",
       "    </tr>\n",
       "    <tr>\n",
       "      <th>2013-01-01</th>\n",
       "      <td>16475.4</td>\n",
       "    </tr>\n",
       "    <tr>\n",
       "      <th>2013-04-01</th>\n",
       "      <td>16541.4</td>\n",
       "    </tr>\n",
       "    <tr>\n",
       "      <th>2013-07-01</th>\n",
       "      <td>16749.3</td>\n",
       "    </tr>\n",
       "    <tr>\n",
       "      <th>2013-10-01</th>\n",
       "      <td>16999.9</td>\n",
       "    </tr>\n",
       "    <tr>\n",
       "      <th>2014-01-01</th>\n",
       "      <td>17025.2</td>\n",
       "    </tr>\n",
       "    <tr>\n",
       "      <th>2014-04-01</th>\n",
       "      <td>17285.6</td>\n",
       "    </tr>\n",
       "    <tr>\n",
       "      <th>2014-07-01</th>\n",
       "      <td>17569.4</td>\n",
       "    </tr>\n",
       "    <tr>\n",
       "      <th>2014-10-01</th>\n",
       "      <td>17692.2</td>\n",
       "    </tr>\n",
       "    <tr>\n",
       "      <th>2015-01-01</th>\n",
       "      <td>17783.6</td>\n",
       "    </tr>\n",
       "    <tr>\n",
       "      <th>2015-04-01</th>\n",
       "      <td>17998.3</td>\n",
       "    </tr>\n",
       "    <tr>\n",
       "      <th>2015-07-01</th>\n",
       "      <td>18141.9</td>\n",
       "    </tr>\n",
       "    <tr>\n",
       "      <th>2015-10-01</th>\n",
       "      <td>18222.8</td>\n",
       "    </tr>\n",
       "    <tr>\n",
       "      <th>2016-01-01</th>\n",
       "      <td>18281.6</td>\n",
       "    </tr>\n",
       "    <tr>\n",
       "      <th>2016-04-01</th>\n",
       "      <td>18436.5</td>\n",
       "    </tr>\n",
       "  </tbody>\n",
       "</table>\n",
       "</div>"
      ],
      "text/plain": [
       "              VALUE\n",
       "DATE               \n",
       "2008-01-01  14668.4\n",
       "2008-04-01  14813.0\n",
       "2008-07-01  14843.0\n",
       "2008-10-01  14549.9\n",
       "2009-01-01  14383.9\n",
       "2009-04-01  14340.4\n",
       "2009-07-01  14384.1\n",
       "2009-10-01  14566.5\n",
       "2010-01-01  14681.1\n",
       "2010-04-01  14888.6\n",
       "2010-07-01  15057.7\n",
       "2010-10-01  15230.2\n",
       "2011-01-01  15238.4\n",
       "2011-04-01  15460.9\n",
       "2011-07-01  15587.1\n",
       "2011-10-01  15785.3\n",
       "2012-01-01  15973.9\n",
       "2012-04-01  16121.9\n",
       "2012-07-01  16227.9\n",
       "2012-10-01  16297.3\n",
       "2013-01-01  16475.4\n",
       "2013-04-01  16541.4\n",
       "2013-07-01  16749.3\n",
       "2013-10-01  16999.9\n",
       "2014-01-01  17025.2\n",
       "2014-04-01  17285.6\n",
       "2014-07-01  17569.4\n",
       "2014-10-01  17692.2\n",
       "2015-01-01  17783.6\n",
       "2015-04-01  17998.3\n",
       "2015-07-01  18141.9\n",
       "2015-10-01  18222.8\n",
       "2016-01-01  18281.6\n",
       "2016-04-01  18436.5"
      ]
     },
     "execution_count": 607,
     "metadata": {},
     "output_type": "execute_result"
    }
   ],
   "source": [
    "post2008"
   ]
  },
  {
   "cell_type": "code",
   "execution_count": 622,
   "metadata": {
    "ExecuteTime": {
     "end_time": "2020-07-06T09:37:56.549077Z",
     "start_time": "2020-07-06T09:37:56.515170Z"
    },
    "hidden": true
   },
   "outputs": [
    {
     "data": {
      "text/html": [
       "<div>\n",
       "<style scoped>\n",
       "    .dataframe tbody tr th:only-of-type {\n",
       "        vertical-align: middle;\n",
       "    }\n",
       "\n",
       "    .dataframe tbody tr th {\n",
       "        vertical-align: top;\n",
       "    }\n",
       "\n",
       "    .dataframe thead th {\n",
       "        text-align: right;\n",
       "    }\n",
       "</style>\n",
       "<table border=\"1\" class=\"dataframe\">\n",
       "  <thead>\n",
       "    <tr style=\"text-align: right;\">\n",
       "      <th></th>\n",
       "      <th>VALUE</th>\n",
       "    </tr>\n",
       "    <tr>\n",
       "      <th>DATE</th>\n",
       "      <th></th>\n",
       "    </tr>\n",
       "  </thead>\n",
       "  <tbody>\n",
       "    <tr>\n",
       "      <th>2008-12-31</th>\n",
       "      <td>NaN</td>\n",
       "    </tr>\n",
       "    <tr>\n",
       "      <th>2009-12-31</th>\n",
       "      <td>14568.6500</td>\n",
       "    </tr>\n",
       "    <tr>\n",
       "      <th>2010-12-31</th>\n",
       "      <td>14691.5625</td>\n",
       "    </tr>\n",
       "    <tr>\n",
       "      <th>2011-12-31</th>\n",
       "      <td>15241.1625</td>\n",
       "    </tr>\n",
       "    <tr>\n",
       "      <th>2012-12-31</th>\n",
       "      <td>15836.5875</td>\n",
       "    </tr>\n",
       "    <tr>\n",
       "      <th>2013-12-31</th>\n",
       "      <td>16423.3750</td>\n",
       "    </tr>\n",
       "    <tr>\n",
       "      <th>2014-12-31</th>\n",
       "      <td>17042.3000</td>\n",
       "    </tr>\n",
       "    <tr>\n",
       "      <th>2015-12-31</th>\n",
       "      <td>17714.8750</td>\n",
       "    </tr>\n",
       "    <tr>\n",
       "      <th>2016-12-31</th>\n",
       "      <td>18197.8500</td>\n",
       "    </tr>\n",
       "  </tbody>\n",
       "</table>\n",
       "</div>"
      ],
      "text/plain": [
       "                 VALUE\n",
       "DATE                  \n",
       "2008-12-31         NaN\n",
       "2009-12-31  14568.6500\n",
       "2010-12-31  14691.5625\n",
       "2011-12-31  15241.1625\n",
       "2012-12-31  15836.5875\n",
       "2013-12-31  16423.3750\n",
       "2014-12-31  17042.3000\n",
       "2015-12-31  17714.8750\n",
       "2016-12-31  18197.8500"
      ]
     },
     "execution_count": 622,
     "metadata": {},
     "output_type": "execute_result"
    }
   ],
   "source": [
    "post2008.resample('A').mean().rolling(window=2).mean()"
   ]
  },
  {
   "cell_type": "markdown",
   "metadata": {
    "heading_collapsed": true,
    "hidden": true
   },
   "source": [
    "## Summarizing Time Data"
   ]
  },
  {
   "cell_type": "markdown",
   "metadata": {
    "hidden": true
   },
   "source": [
    "<b> Summarizing Date Time Data :</b>"
   ]
  },
  {
   "cell_type": "code",
   "execution_count": 351,
   "metadata": {
    "ExecuteTime": {
     "end_time": "2020-07-03T19:18:30.261064Z",
     "start_time": "2020-07-03T19:18:30.254081Z"
    },
    "hidden": true
   },
   "outputs": [
    {
     "name": "stdout",
     "output_type": "stream",
     "text": [
      "0 days 00:19:38.931034\n",
      "3 days 22:58:10\n"
     ]
    }
   ],
   "source": [
    "print(df['Duration'].mean())\n",
    "print(df['Duration'].sum())"
   ]
  },
  {
   "cell_type": "code",
   "execution_count": 352,
   "metadata": {
    "ExecuteTime": {
     "end_time": "2020-07-03T19:18:32.502816Z",
     "start_time": "2020-07-03T19:18:32.494838Z"
    },
    "hidden": true
   },
   "outputs": [
    {
     "name": "stdout",
     "output_type": "stream",
     "text": [
      "Active Days: 89\n"
     ]
    }
   ],
   "source": [
    "bike_rental_active_months = (df['Start date'].max() - df['End date'].min()).days\n",
    "print(\"Active Days: {}\".format(bike_rental_active_months))"
   ]
  },
  {
   "cell_type": "code",
   "execution_count": 362,
   "metadata": {
    "ExecuteTime": {
     "end_time": "2020-07-03T19:19:30.142511Z",
     "start_time": "2020-07-03T19:19:30.135530Z"
    },
    "hidden": true
   },
   "outputs": [
    {
     "data": {
      "text/plain": [
       "datetime.timedelta(days=89)"
      ]
     },
     "execution_count": 362,
     "metadata": {},
     "output_type": "execute_result"
    }
   ],
   "source": [
    "timedelta(days = active_months)"
   ]
  },
  {
   "cell_type": "code",
   "execution_count": 354,
   "metadata": {
    "ExecuteTime": {
     "end_time": "2020-07-03T19:18:36.344163Z",
     "start_time": "2020-07-03T19:18:36.337182Z"
    },
    "hidden": true
   },
   "outputs": [
    {
     "name": "stdout",
     "output_type": "stream",
     "text": [
      "4.446135039533916\n"
     ]
    }
   ],
   "source": [
    "percent_in_road = df['Duration'].sum() / timedelta(days = active_months)\n",
    "print(percent_in_road*100)"
   ]
  },
  {
   "cell_type": "markdown",
   "metadata": {
    "heading_collapsed": true,
    "hidden": true
   },
   "source": [
    "## Grouping - Summary"
   ]
  },
  {
   "cell_type": "markdown",
   "metadata": {
    "hidden": true
   },
   "source": [
    ".dt.day_name()\n",
    ".dt.year\n",
    ".dt.month\n",
    ".dt.weekday\n",
    ".dt.total_seconds()\n",
    ".value_counts()\n",
    "df.groupby('...').first()    #First Row"
   ]
  },
  {
   "cell_type": "code",
   "execution_count": 311,
   "metadata": {
    "ExecuteTime": {
     "end_time": "2020-07-03T19:05:34.469945Z",
     "start_time": "2020-07-03T19:05:34.459931Z"
    },
    "hidden": true
   },
   "outputs": [
    {
     "data": {
      "text/plain": [
       "Member    236\n",
       "Casual     54\n",
       "Name: Member type, dtype: int64"
      ]
     },
     "execution_count": 311,
     "metadata": {},
     "output_type": "execute_result"
    }
   ],
   "source": [
    "df['Member type'].value_counts()"
   ]
  },
  {
   "cell_type": "code",
   "execution_count": 313,
   "metadata": {
    "ExecuteTime": {
     "end_time": "2020-07-03T19:05:43.091623Z",
     "start_time": "2020-07-03T19:05:43.081649Z"
    },
    "hidden": true
   },
   "outputs": [
    {
     "data": {
      "text/plain": [
       "Member    81.37931\n",
       "Casual    18.62069\n",
       "Name: Member type, dtype: float64"
      ]
     },
     "execution_count": 313,
     "metadata": {},
     "output_type": "execute_result"
    }
   ],
   "source": [
    "#Percent\n",
    "(df['Member type'].value_counts() / len(df) ) * 100"
   ]
  },
  {
   "cell_type": "code",
   "execution_count": 375,
   "metadata": {
    "ExecuteTime": {
     "end_time": "2020-07-03T19:24:33.680726Z",
     "start_time": "2020-07-03T19:24:33.674743Z"
    },
    "hidden": true
   },
   "outputs": [],
   "source": [
    "df['Duration_seconds'] = df['Duration'].dt.total_seconds()"
   ]
  },
  {
   "cell_type": "code",
   "execution_count": 315,
   "metadata": {
    "ExecuteTime": {
     "end_time": "2020-07-03T19:05:54.292833Z",
     "start_time": "2020-07-03T19:05:54.271892Z"
    },
    "hidden": true
   },
   "outputs": [
    {
     "data": {
      "text/html": [
       "<div>\n",
       "<style scoped>\n",
       "    .dataframe tbody tr th:only-of-type {\n",
       "        vertical-align: middle;\n",
       "    }\n",
       "\n",
       "    .dataframe tbody tr th {\n",
       "        vertical-align: top;\n",
       "    }\n",
       "\n",
       "    .dataframe thead th {\n",
       "        text-align: right;\n",
       "    }\n",
       "</style>\n",
       "<table border=\"1\" class=\"dataframe\">\n",
       "  <thead>\n",
       "    <tr style=\"text-align: right;\">\n",
       "      <th></th>\n",
       "      <th>Start date</th>\n",
       "      <th>End date</th>\n",
       "      <th>Start station number</th>\n",
       "      <th>Start station</th>\n",
       "      <th>End station number</th>\n",
       "      <th>End station</th>\n",
       "      <th>Bike number</th>\n",
       "      <th>Duration</th>\n",
       "      <th>Duration_seconds</th>\n",
       "    </tr>\n",
       "    <tr>\n",
       "      <th>Member type</th>\n",
       "      <th></th>\n",
       "      <th></th>\n",
       "      <th></th>\n",
       "      <th></th>\n",
       "      <th></th>\n",
       "      <th></th>\n",
       "      <th></th>\n",
       "      <th></th>\n",
       "      <th></th>\n",
       "    </tr>\n",
       "  </thead>\n",
       "  <tbody>\n",
       "    <tr>\n",
       "      <th>Casual</th>\n",
       "      <td>2017-10-01 15:42:57</td>\n",
       "      <td>2017-10-01 17:49:59</td>\n",
       "      <td>31036</td>\n",
       "      <td>George Mason Dr &amp; Wilson Blvd</td>\n",
       "      <td>31036</td>\n",
       "      <td>George Mason Dr &amp; Wilson Blvd</td>\n",
       "      <td>W20529</td>\n",
       "      <td>02:07:02</td>\n",
       "      <td>7622.0</td>\n",
       "    </tr>\n",
       "    <tr>\n",
       "      <th>Member</th>\n",
       "      <td>2017-10-01 15:23:25</td>\n",
       "      <td>2017-10-01 15:26:26</td>\n",
       "      <td>31038</td>\n",
       "      <td>Glebe Rd &amp; 11th St N</td>\n",
       "      <td>31036</td>\n",
       "      <td>George Mason Dr &amp; Wilson Blvd</td>\n",
       "      <td>W20529</td>\n",
       "      <td>00:03:01</td>\n",
       "      <td>181.0</td>\n",
       "    </tr>\n",
       "  </tbody>\n",
       "</table>\n",
       "</div>"
      ],
      "text/plain": [
       "                     Start date            End date  Start station number  \\\n",
       "Member type                                                                 \n",
       "Casual      2017-10-01 15:42:57 2017-10-01 17:49:59                 31036   \n",
       "Member      2017-10-01 15:23:25 2017-10-01 15:26:26                 31038   \n",
       "\n",
       "                             Start station  End station number  \\\n",
       "Member type                                                      \n",
       "Casual       George Mason Dr & Wilson Blvd               31036   \n",
       "Member                Glebe Rd & 11th St N               31036   \n",
       "\n",
       "                               End station Bike number Duration  \\\n",
       "Member type                                                       \n",
       "Casual       George Mason Dr & Wilson Blvd      W20529 02:07:02   \n",
       "Member       George Mason Dr & Wilson Blvd      W20529 00:03:01   \n",
       "\n",
       "             Duration_seconds  \n",
       "Member type                    \n",
       "Casual                 7622.0  \n",
       "Member                  181.0  "
      ]
     },
     "execution_count": 315,
     "metadata": {},
     "output_type": "execute_result"
    }
   ],
   "source": [
    "df.groupby('Member type').first()     #First row of each group"
   ]
  },
  {
   "cell_type": "code",
   "execution_count": 316,
   "metadata": {
    "ExecuteTime": {
     "end_time": "2020-07-03T19:05:56.541139Z",
     "start_time": "2020-07-03T19:05:56.530171Z"
    },
    "hidden": true
   },
   "outputs": [
    {
     "data": {
      "text/plain": [
       "Member type\n",
       "Casual     54\n",
       "Member    236\n",
       "dtype: int64"
      ]
     },
     "execution_count": 316,
     "metadata": {},
     "output_type": "execute_result"
    }
   ],
   "source": [
    "df.groupby('Member type').size()"
   ]
  },
  {
   "cell_type": "code",
   "execution_count": 317,
   "metadata": {
    "ExecuteTime": {
     "end_time": "2020-07-03T19:05:58.580968Z",
     "start_time": "2020-07-03T19:05:58.569962Z"
    },
    "hidden": true
   },
   "outputs": [
    {
     "data": {
      "text/plain": [
       "Member type\n",
       "Casual    1994.666667\n",
       "Member     992.279661\n",
       "Name: Duration_seconds, dtype: float64"
      ]
     },
     "execution_count": 317,
     "metadata": {},
     "output_type": "execute_result"
    }
   ],
   "source": [
    "df.groupby('Member type')['Duration_seconds'].mean()"
   ]
  },
  {
   "cell_type": "code",
   "execution_count": 373,
   "metadata": {
    "ExecuteTime": {
     "end_time": "2020-07-03T19:24:11.982190Z",
     "start_time": "2020-07-03T19:24:11.976205Z"
    },
    "hidden": true
   },
   "outputs": [],
   "source": [
    "df['week_days'] = df['Start date'].dt.weekday"
   ]
  },
  {
   "cell_type": "code",
   "execution_count": 377,
   "metadata": {
    "ExecuteTime": {
     "end_time": "2020-07-03T19:24:39.304097Z",
     "start_time": "2020-07-03T19:24:39.135545Z"
    },
    "hidden": true
   },
   "outputs": [
    {
     "data": {
      "text/plain": [
       "<matplotlib.axes._subplots.AxesSubplot at 0x1619ac28308>"
      ]
     },
     "execution_count": 377,
     "metadata": {},
     "output_type": "execute_result"
    },
    {
     "data": {
      "image/png": "[encoded data removed]",
      "text/plain": [
       "<Figure size 432x288 with 1 Axes>"
      ]
     },
     "metadata": {
      "needs_background": "light"
     },
     "output_type": "display_data"
    }
   ],
   "source": [
    "df.groupby('week_days')['Duration_seconds'].mean().plot()"
   ]
  },
  {
   "cell_type": "markdown",
   "metadata": {
    "heading_collapsed": true,
    "hidden": true
   },
   "source": [
    "## Grouping by Months/days/Years  (df.resample)"
   ]
  },
  {
   "cell_type": "markdown",
   "metadata": {
    "hidden": true
   },
   "source": [
    "- GroupBy Using resample() MEthod :"
   ]
  },
  {
   "cell_type": "code",
   "execution_count": 318,
   "metadata": {
    "ExecuteTime": {
     "end_time": "2020-07-03T19:06:49.523181Z",
     "start_time": "2020-07-03T19:06:49.510219Z"
    },
    "hidden": true
   },
   "outputs": [
    {
     "data": {
      "text/plain": [
       "Start date\n",
       "2017-10-31    1886.453704\n",
       "2017-11-30     854.174757\n",
       "2017-12-31     635.101266\n",
       "Freq: M, Name: Duration_seconds, dtype: float64"
      ]
     },
     "execution_count": 318,
     "metadata": {},
     "output_type": "execute_result"
    }
   ],
   "source": [
    "#Grouping by Months('M')\n",
    "df.resample('M' , on='Start date')['Duration_seconds'].mean()"
   ]
  },
  {
   "cell_type": "code",
   "execution_count": 291,
   "metadata": {
    "ExecuteTime": {
     "end_time": "2020-07-03T18:53:52.474754Z",
     "start_time": "2020-07-03T18:53:52.461789Z"
    },
    "hidden": true
   },
   "outputs": [],
   "source": [
    "k = df.resample('M' , on='Start date')['Duration_seconds'].mean()\n",
    "k = np.array(k)\n",
    "k[np.isnan(k)] = 0"
   ]
  },
  {
   "cell_type": "code",
   "execution_count": 292,
   "metadata": {
    "ExecuteTime": {
     "end_time": "2020-07-03T18:54:40.098424Z",
     "start_time": "2020-07-03T18:54:39.256433Z"
    },
    "hidden": true,
    "scrolled": true
   },
   "outputs": [
    {
     "data": {
      "text/plain": [
       "<matplotlib.axes._subplots.AxesSubplot at 0x1619b0d6448>"
      ]
     },
     "execution_count": 292,
     "metadata": {},
     "output_type": "execute_result"
    },
    {
     "data": {
      "image/png": "[encoded data removed]",
      "text/plain": [
       "<Figure size 432x288 with 1 Axes>"
      ]
     },
     "metadata": {
      "needs_background": "light"
     },
     "output_type": "display_data"
    }
   ],
   "source": [
    "df.resample('M' , on='Start date')['Duration_seconds'].mean().plot()"
   ]
  },
  {
   "cell_type": "code",
   "execution_count": 319,
   "metadata": {
    "ExecuteTime": {
     "end_time": "2020-07-03T19:07:05.411877Z",
     "start_time": "2020-07-03T19:07:04.942132Z"
    },
    "hidden": true
   },
   "outputs": [
    {
     "data": {
      "text/plain": [
       "<matplotlib.axes._subplots.AxesSubplot at 0x1619ad8c2c8>"
      ]
     },
     "execution_count": 319,
     "metadata": {},
     "output_type": "execute_result"
    },
    {
     "data": {
      "image/png": "[encoded data removed]",
      "text/plain": [
       "<Figure size 432x288 with 1 Axes>"
      ]
     },
     "metadata": {
      "needs_background": "light"
     },
     "output_type": "display_data"
    }
   ],
   "source": [
    "#Grouping by Days\n",
    "df.resample('d' , on='Start date')['Duration_seconds'].mean().plot()"
   ]
  },
  {
   "cell_type": "markdown",
   "metadata": {
    "heading_collapsed": true,
    "hidden": true
   },
   "source": [
    "## Resampling + Grouping"
   ]
  },
  {
   "cell_type": "code",
   "execution_count": 387,
   "metadata": {
    "ExecuteTime": {
     "end_time": "2020-07-04T06:54:48.315334Z",
     "start_time": "2020-07-04T06:54:48.297385Z"
    },
    "hidden": true
   },
   "outputs": [
    {
     "data": {
      "text/html": [
       "<div>\n",
       "<style scoped>\n",
       "    .dataframe tbody tr th:only-of-type {\n",
       "        vertical-align: middle;\n",
       "    }\n",
       "\n",
       "    .dataframe tbody tr th {\n",
       "        vertical-align: top;\n",
       "    }\n",
       "\n",
       "    .dataframe thead th {\n",
       "        text-align: right;\n",
       "    }\n",
       "</style>\n",
       "<table border=\"1\" class=\"dataframe\">\n",
       "  <thead>\n",
       "    <tr style=\"text-align: right;\">\n",
       "      <th></th>\n",
       "      <th>Start date</th>\n",
       "      <th>End date</th>\n",
       "      <th>Start station number</th>\n",
       "      <th>Start station</th>\n",
       "      <th>End station number</th>\n",
       "      <th>End station</th>\n",
       "      <th>Bike number</th>\n",
       "      <th>Member type</th>\n",
       "      <th>Duration</th>\n",
       "      <th>week_days</th>\n",
       "      <th>Duration_seconds</th>\n",
       "    </tr>\n",
       "  </thead>\n",
       "  <tbody>\n",
       "    <tr>\n",
       "      <th>0</th>\n",
       "      <td>2017-10-01 15:23:25-04:00</td>\n",
       "      <td>2017-10-01 15:26:26</td>\n",
       "      <td>31038</td>\n",
       "      <td>Glebe Rd &amp; 11th St N</td>\n",
       "      <td>31036</td>\n",
       "      <td>George Mason Dr &amp; Wilson Blvd</td>\n",
       "      <td>W20529</td>\n",
       "      <td>Member</td>\n",
       "      <td>00:03:01</td>\n",
       "      <td>6</td>\n",
       "      <td>181.0</td>\n",
       "    </tr>\n",
       "    <tr>\n",
       "      <th>1</th>\n",
       "      <td>2017-10-01 15:42:57-04:00</td>\n",
       "      <td>2017-10-01 17:49:59</td>\n",
       "      <td>31036</td>\n",
       "      <td>George Mason Dr &amp; Wilson Blvd</td>\n",
       "      <td>31036</td>\n",
       "      <td>George Mason Dr &amp; Wilson Blvd</td>\n",
       "      <td>W20529</td>\n",
       "      <td>Casual</td>\n",
       "      <td>02:07:02</td>\n",
       "      <td>6</td>\n",
       "      <td>7622.0</td>\n",
       "    </tr>\n",
       "  </tbody>\n",
       "</table>\n",
       "</div>"
      ],
      "text/plain": [
       "                 Start date            End date  Start station number  \\\n",
       "0 2017-10-01 15:23:25-04:00 2017-10-01 15:26:26                 31038   \n",
       "1 2017-10-01 15:42:57-04:00 2017-10-01 17:49:59                 31036   \n",
       "\n",
       "                   Start station  End station number  \\\n",
       "0           Glebe Rd & 11th St N               31036   \n",
       "1  George Mason Dr & Wilson Blvd               31036   \n",
       "\n",
       "                     End station Bike number Member type Duration  week_days  \\\n",
       "0  George Mason Dr & Wilson Blvd      W20529      Member 00:03:01          6   \n",
       "1  George Mason Dr & Wilson Blvd      W20529      Casual 02:07:02          6   \n",
       "\n",
       "   Duration_seconds  \n",
       "0             181.0  \n",
       "1            7622.0  "
      ]
     },
     "execution_count": 387,
     "metadata": {},
     "output_type": "execute_result"
    }
   ],
   "source": [
    "df.head(2)"
   ]
  },
  {
   "cell_type": "code",
   "execution_count": 394,
   "metadata": {
    "ExecuteTime": {
     "end_time": "2020-07-04T06:55:58.412590Z",
     "start_time": "2020-07-04T06:55:58.380677Z"
    },
    "hidden": true
   },
   "outputs": [
    {
     "data": {
      "text/plain": [
       "Member type  Start date               \n",
       "Casual       2017-10-31 00:00:00-04:00    1636.0\n",
       "             2017-11-30 00:00:00-05:00    1159.5\n",
       "             2017-12-31 00:00:00-05:00     850.0\n",
       "Member       2017-10-31 00:00:00-04:00     671.0\n",
       "             2017-11-30 00:00:00-05:00     657.0\n",
       "             2017-12-31 00:00:00-05:00     387.5\n",
       "Name: Duration_seconds, dtype: float64"
      ]
     },
     "execution_count": 394,
     "metadata": {},
     "output_type": "execute_result"
    }
   ],
   "source": [
    "# Group rides by member type, and resample to the month\n",
    "grouped = df.groupby('Member type').resample('M', on = 'Start date')\n",
    "\n",
    "# Print the median duration for each group\n",
    "grouped['Duration_seconds'].median()"
   ]
  },
  {
   "cell_type": "markdown",
   "metadata": {
    "heading_collapsed": true,
    "hidden": true
   },
   "source": [
    "## TimeZones"
   ]
  },
  {
   "cell_type": "markdown",
   "metadata": {
    "heading_collapsed": true,
    "hidden": true
   },
   "source": [
    "#### Identifying TimeZone Problems"
   ]
  },
  {
   "cell_type": "markdown",
   "metadata": {
    "hidden": true
   },
   "source": [
    "- NEGATIVE Duration(seconds) indocates Problem with TimeZones (Time Zone Naive Data)"
   ]
  },
  {
   "cell_type": "code",
   "execution_count": 395,
   "metadata": {
    "ExecuteTime": {
     "end_time": "2020-07-04T06:57:35.301179Z",
     "start_time": "2020-07-04T06:57:35.287216Z"
    },
    "hidden": true
   },
   "outputs": [
    {
     "data": {
      "text/plain": [
       "-3346.0"
      ]
     },
     "execution_count": 395,
     "metadata": {},
     "output_type": "execute_result"
    }
   ],
   "source": [
    "df['Duration'].dt.total_seconds().min()"
   ]
  },
  {
   "cell_type": "markdown",
   "metadata": {
    "hidden": true
   },
   "source": [
    "- NO UTC OFFSET PRESENT!!"
   ]
  },
  {
   "cell_type": "code",
   "execution_count": 326,
   "metadata": {
    "ExecuteTime": {
     "end_time": "2020-07-03T19:09:47.333348Z",
     "start_time": "2020-07-03T19:09:47.325405Z"
    },
    "hidden": true
   },
   "outputs": [
    {
     "data": {
      "text/plain": [
       "0   2017-10-01 15:23:25\n",
       "1   2017-10-01 15:42:57\n",
       "Name: Start date, dtype: datetime64[ns]"
      ]
     },
     "execution_count": 326,
     "metadata": {},
     "output_type": "execute_result"
    }
   ],
   "source": [
    "df['Start date'].head(2)"
   ]
  },
  {
   "cell_type": "markdown",
   "metadata": {
    "heading_collapsed": true,
    "hidden": true
   },
   "source": [
    "#### Adding TimeZone"
   ]
  },
  {
   "cell_type": "markdown",
   "metadata": {
    "hidden": true
   },
   "source": [
    "``` python\n",
    ".dt.tz_localize('America/New_York' , ambiguous = 'NaT')  #Setting\n",
    "\n",
    "dt.tz_convert('Europe/London',ambiguous='NaT')   #Converting\n",
    "```"
   ]
  },
  {
   "cell_type": "code",
   "execution_count": 572,
   "metadata": {
    "ExecuteTime": {
     "end_time": "2020-07-04T14:10:49.867892Z",
     "start_time": "2020-07-04T14:10:49.759540Z"
    },
    "hidden": true
   },
   "outputs": [
    {
     "data": {
      "text/plain": [
       "0   2017-10-01 15:23:25-04:00\n",
       "1   2017-10-01 15:42:57-04:00\n",
       "Name: Start date, dtype: datetime64[ns, America/New_York]"
      ]
     },
     "execution_count": 572,
     "metadata": {},
     "output_type": "execute_result"
    }
   ],
   "source": [
    "df['Start date'].head(2).dt.tz_localize('America/New_York')"
   ]
  },
  {
   "cell_type": "markdown",
   "metadata": {
    "hidden": true
   },
   "source": [
    "<b> ERROR </b> DST ERROR: Cannot infer dst time from 2017-11-05 01:56:50, try using the 'ambiguous' argument"
   ]
  },
  {
   "cell_type": "code",
   "execution_count": 573,
   "metadata": {
    "ExecuteTime": {
     "end_time": "2020-07-04T14:10:55.422715Z",
     "start_time": "2020-07-04T14:10:55.398774Z"
    },
    "hidden": true
   },
   "outputs": [
    {
     "ename": "AmbiguousTimeError",
     "evalue": "Cannot infer dst time from 2017-11-05 01:56:50, try using the 'ambiguous' argument",
     "output_type": "error",
     "traceback": [
      "\u001b[1;31m---------------------------------------------------------------------------\u001b[0m",
      "\u001b[1;31mAmbiguousTimeError\u001b[0m                        Traceback (most recent call last)",
      "\u001b[1;32m<ipython-input-573-057afa6730e4>\u001b[0m in \u001b[0;36m<module>\u001b[1;34m\u001b[0m\n\u001b[1;32m----> 1\u001b[1;33m \u001b[0mdf\u001b[0m\u001b[1;33m[\u001b[0m\u001b[1;34m'Start date'\u001b[0m\u001b[1;33m]\u001b[0m \u001b[1;33m=\u001b[0m \u001b[0mdf\u001b[0m\u001b[1;33m[\u001b[0m\u001b[1;34m'Start date'\u001b[0m\u001b[1;33m]\u001b[0m\u001b[1;33m.\u001b[0m\u001b[0mdt\u001b[0m\u001b[1;33m.\u001b[0m\u001b[0mtz_localize\u001b[0m\u001b[1;33m(\u001b[0m\u001b[1;34m'America/New_York'\u001b[0m\u001b[1;33m)\u001b[0m\u001b[1;33m\u001b[0m\u001b[1;33m\u001b[0m\u001b[0m\n\u001b[0m",
      "\u001b[1;32m~\\Miniconda3\\lib\\site-packages\\pandas\\core\\accessor.py\u001b[0m in \u001b[0;36mf\u001b[1;34m(self, *args, **kwargs)\u001b[0m\n\u001b[0;32m     97\u001b[0m         \u001b[1;32mdef\u001b[0m \u001b[0m_create_delegator_method\u001b[0m\u001b[1;33m(\u001b[0m\u001b[0mname\u001b[0m\u001b[1;33m)\u001b[0m\u001b[1;33m:\u001b[0m\u001b[1;33m\u001b[0m\u001b[1;33m\u001b[0m\u001b[0m\n\u001b[0;32m     98\u001b[0m             \u001b[1;32mdef\u001b[0m \u001b[0mf\u001b[0m\u001b[1;33m(\u001b[0m\u001b[0mself\u001b[0m\u001b[1;33m,\u001b[0m \u001b[1;33m*\u001b[0m\u001b[0margs\u001b[0m\u001b[1;33m,\u001b[0m \u001b[1;33m**\u001b[0m\u001b[0mkwargs\u001b[0m\u001b[1;33m)\u001b[0m\u001b[1;33m:\u001b[0m\u001b[1;33m\u001b[0m\u001b[1;33m\u001b[0m\u001b[0m\n\u001b[1;32m---> 99\u001b[1;33m                 \u001b[1;32mreturn\u001b[0m \u001b[0mself\u001b[0m\u001b[1;33m.\u001b[0m\u001b[0m_delegate_method\u001b[0m\u001b[1;33m(\u001b[0m\u001b[0mname\u001b[0m\u001b[1;33m,\u001b[0m \u001b[1;33m*\u001b[0m\u001b[0margs\u001b[0m\u001b[1;33m,\u001b[0m \u001b[1;33m**\u001b[0m\u001b[0mkwargs\u001b[0m\u001b[1;33m)\u001b[0m\u001b[1;33m\u001b[0m\u001b[1;33m\u001b[0m\u001b[0m\n\u001b[0m\u001b[0;32m    100\u001b[0m \u001b[1;33m\u001b[0m\u001b[0m\n\u001b[0;32m    101\u001b[0m             \u001b[0mf\u001b[0m\u001b[1;33m.\u001b[0m\u001b[0m__name__\u001b[0m \u001b[1;33m=\u001b[0m \u001b[0mname\u001b[0m\u001b[1;33m\u001b[0m\u001b[1;33m\u001b[0m\u001b[0m\n",
      "\u001b[1;32m~\\Miniconda3\\lib\\site-packages\\pandas\\core\\indexes\\accessors.py\u001b[0m in \u001b[0;36m_delegate_method\u001b[1;34m(self, name, *args, **kwargs)\u001b[0m\n\u001b[0;32m    101\u001b[0m \u001b[1;33m\u001b[0m\u001b[0m\n\u001b[0;32m    102\u001b[0m         \u001b[0mmethod\u001b[0m \u001b[1;33m=\u001b[0m \u001b[0mgetattr\u001b[0m\u001b[1;33m(\u001b[0m\u001b[0mvalues\u001b[0m\u001b[1;33m,\u001b[0m \u001b[0mname\u001b[0m\u001b[1;33m)\u001b[0m\u001b[1;33m\u001b[0m\u001b[1;33m\u001b[0m\u001b[0m\n\u001b[1;32m--> 103\u001b[1;33m         \u001b[0mresult\u001b[0m \u001b[1;33m=\u001b[0m \u001b[0mmethod\u001b[0m\u001b[1;33m(\u001b[0m\u001b[1;33m*\u001b[0m\u001b[0margs\u001b[0m\u001b[1;33m,\u001b[0m \u001b[1;33m**\u001b[0m\u001b[0mkwargs\u001b[0m\u001b[1;33m)\u001b[0m\u001b[1;33m\u001b[0m\u001b[1;33m\u001b[0m\u001b[0m\n\u001b[0m\u001b[0;32m    104\u001b[0m \u001b[1;33m\u001b[0m\u001b[0m\n\u001b[0;32m    105\u001b[0m         \u001b[1;32mif\u001b[0m \u001b[1;32mnot\u001b[0m \u001b[0mis_list_like\u001b[0m\u001b[1;33m(\u001b[0m\u001b[0mresult\u001b[0m\u001b[1;33m)\u001b[0m\u001b[1;33m:\u001b[0m\u001b[1;33m\u001b[0m\u001b[1;33m\u001b[0m\u001b[0m\n",
      "\u001b[1;32m~\\Miniconda3\\lib\\site-packages\\pandas\\core\\accessor.py\u001b[0m in \u001b[0;36mf\u001b[1;34m(self, *args, **kwargs)\u001b[0m\n\u001b[0;32m     97\u001b[0m         \u001b[1;32mdef\u001b[0m \u001b[0m_create_delegator_method\u001b[0m\u001b[1;33m(\u001b[0m\u001b[0mname\u001b[0m\u001b[1;33m)\u001b[0m\u001b[1;33m:\u001b[0m\u001b[1;33m\u001b[0m\u001b[1;33m\u001b[0m\u001b[0m\n\u001b[0;32m     98\u001b[0m             \u001b[1;32mdef\u001b[0m \u001b[0mf\u001b[0m\u001b[1;33m(\u001b[0m\u001b[0mself\u001b[0m\u001b[1;33m,\u001b[0m \u001b[1;33m*\u001b[0m\u001b[0margs\u001b[0m\u001b[1;33m,\u001b[0m \u001b[1;33m**\u001b[0m\u001b[0mkwargs\u001b[0m\u001b[1;33m)\u001b[0m\u001b[1;33m:\u001b[0m\u001b[1;33m\u001b[0m\u001b[1;33m\u001b[0m\u001b[0m\n\u001b[1;32m---> 99\u001b[1;33m                 \u001b[1;32mreturn\u001b[0m \u001b[0mself\u001b[0m\u001b[1;33m.\u001b[0m\u001b[0m_delegate_method\u001b[0m\u001b[1;33m(\u001b[0m\u001b[0mname\u001b[0m\u001b[1;33m,\u001b[0m \u001b[1;33m*\u001b[0m\u001b[0margs\u001b[0m\u001b[1;33m,\u001b[0m \u001b[1;33m**\u001b[0m\u001b[0mkwargs\u001b[0m\u001b[1;33m)\u001b[0m\u001b[1;33m\u001b[0m\u001b[1;33m\u001b[0m\u001b[0m\n\u001b[0m\u001b[0;32m    100\u001b[0m \u001b[1;33m\u001b[0m\u001b[0m\n\u001b[0;32m    101\u001b[0m             \u001b[0mf\u001b[0m\u001b[1;33m.\u001b[0m\u001b[0m__name__\u001b[0m \u001b[1;33m=\u001b[0m \u001b[0mname\u001b[0m\u001b[1;33m\u001b[0m\u001b[1;33m\u001b[0m\u001b[0m\n",
      "\u001b[1;32m~\\Miniconda3\\lib\\site-packages\\pandas\\core\\indexes\\datetimelike.py\u001b[0m in \u001b[0;36m_delegate_method\u001b[1;34m(self, name, *args, **kwargs)\u001b[0m\n\u001b[0;32m    903\u001b[0m \u001b[1;33m\u001b[0m\u001b[0m\n\u001b[0;32m    904\u001b[0m     \u001b[1;32mdef\u001b[0m \u001b[0m_delegate_method\u001b[0m\u001b[1;33m(\u001b[0m\u001b[0mself\u001b[0m\u001b[1;33m,\u001b[0m \u001b[0mname\u001b[0m\u001b[1;33m,\u001b[0m \u001b[1;33m*\u001b[0m\u001b[0margs\u001b[0m\u001b[1;33m,\u001b[0m \u001b[1;33m**\u001b[0m\u001b[0mkwargs\u001b[0m\u001b[1;33m)\u001b[0m\u001b[1;33m:\u001b[0m\u001b[1;33m\u001b[0m\u001b[1;33m\u001b[0m\u001b[0m\n\u001b[1;32m--> 905\u001b[1;33m         \u001b[0mresult\u001b[0m \u001b[1;33m=\u001b[0m \u001b[0moperator\u001b[0m\u001b[1;33m.\u001b[0m\u001b[0mmethodcaller\u001b[0m\u001b[1;33m(\u001b[0m\u001b[0mname\u001b[0m\u001b[1;33m,\u001b[0m \u001b[1;33m*\u001b[0m\u001b[0margs\u001b[0m\u001b[1;33m,\u001b[0m \u001b[1;33m**\u001b[0m\u001b[0mkwargs\u001b[0m\u001b[1;33m)\u001b[0m\u001b[1;33m(\u001b[0m\u001b[0mself\u001b[0m\u001b[1;33m.\u001b[0m\u001b[0m_data\u001b[0m\u001b[1;33m)\u001b[0m\u001b[1;33m\u001b[0m\u001b[1;33m\u001b[0m\u001b[0m\n\u001b[0m\u001b[0;32m    906\u001b[0m         \u001b[1;32mif\u001b[0m \u001b[0mname\u001b[0m \u001b[1;32mnot\u001b[0m \u001b[1;32min\u001b[0m \u001b[0mself\u001b[0m\u001b[1;33m.\u001b[0m\u001b[0m_raw_methods\u001b[0m\u001b[1;33m:\u001b[0m\u001b[1;33m\u001b[0m\u001b[1;33m\u001b[0m\u001b[0m\n\u001b[0;32m    907\u001b[0m             \u001b[0mresult\u001b[0m \u001b[1;33m=\u001b[0m \u001b[0mIndex\u001b[0m\u001b[1;33m(\u001b[0m\u001b[0mresult\u001b[0m\u001b[1;33m,\u001b[0m \u001b[0mname\u001b[0m\u001b[1;33m=\u001b[0m\u001b[0mself\u001b[0m\u001b[1;33m.\u001b[0m\u001b[0mname\u001b[0m\u001b[1;33m)\u001b[0m\u001b[1;33m\u001b[0m\u001b[1;33m\u001b[0m\u001b[0m\n",
      "\u001b[1;32m~\\Miniconda3\\lib\\site-packages\\pandas\\core\\arrays\\datetimes.py\u001b[0m in \u001b[0;36mtz_localize\u001b[1;34m(self, tz, ambiguous, nonexistent)\u001b[0m\n\u001b[0;32m    984\u001b[0m \u001b[1;33m\u001b[0m\u001b[0m\n\u001b[0;32m    985\u001b[0m             new_dates = conversion.tz_localize_to_utc(\n\u001b[1;32m--> 986\u001b[1;33m                 \u001b[0mself\u001b[0m\u001b[1;33m.\u001b[0m\u001b[0masi8\u001b[0m\u001b[1;33m,\u001b[0m \u001b[0mtz\u001b[0m\u001b[1;33m,\u001b[0m \u001b[0mambiguous\u001b[0m\u001b[1;33m=\u001b[0m\u001b[0mambiguous\u001b[0m\u001b[1;33m,\u001b[0m \u001b[0mnonexistent\u001b[0m\u001b[1;33m=\u001b[0m\u001b[0mnonexistent\u001b[0m\u001b[1;33m\u001b[0m\u001b[1;33m\u001b[0m\u001b[0m\n\u001b[0m\u001b[0;32m    987\u001b[0m             )\n\u001b[0;32m    988\u001b[0m         \u001b[0mnew_dates\u001b[0m \u001b[1;33m=\u001b[0m \u001b[0mnew_dates\u001b[0m\u001b[1;33m.\u001b[0m\u001b[0mview\u001b[0m\u001b[1;33m(\u001b[0m\u001b[0m_NS_DTYPE\u001b[0m\u001b[1;33m)\u001b[0m\u001b[1;33m\u001b[0m\u001b[1;33m\u001b[0m\u001b[0m\n",
      "\u001b[1;32mpandas\\_libs\\tslibs\\tzconversion.pyx\u001b[0m in \u001b[0;36mpandas._libs.tslibs.tzconversion.tz_localize_to_utc\u001b[1;34m()\u001b[0m\n",
      "\u001b[1;31mAmbiguousTimeError\u001b[0m: Cannot infer dst time from 2017-11-05 01:56:50, try using the 'ambiguous' argument"
     ]
    }
   ],
   "source": [
    "df['Start date'] = df['Start date'].dt.tz_localize('America/New_York')"
   ]
  },
  {
   "cell_type": "code",
   "execution_count": 574,
   "metadata": {
    "ExecuteTime": {
     "end_time": "2020-07-04T14:11:56.768438Z",
     "start_time": "2020-07-04T14:11:56.732511Z"
    },
    "hidden": true
   },
   "outputs": [],
   "source": [
    "df['Start date'] = df['Start date'].dt.tz_localize('America/New_York' , ambiguous = 'NaT') \n",
    "#Not a Time is set for the bad result instance"
   ]
  },
  {
   "cell_type": "code",
   "execution_count": 580,
   "metadata": {
    "ExecuteTime": {
     "end_time": "2020-07-04T14:13:37.224581Z",
     "start_time": "2020-07-04T14:13:37.218597Z"
    },
    "hidden": true
   },
   "outputs": [],
   "source": [
    "df['End date'] = df['End date'].dt.tz_localize('America/New_York' , ambiguous = 'NaT') "
   ]
  },
  {
   "cell_type": "markdown",
   "metadata": {
    "hidden": true
   },
   "source": [
    "<b> Calculationg Duration </b>:"
   ]
  },
  {
   "cell_type": "code",
   "execution_count": 589,
   "metadata": {
    "ExecuteTime": {
     "end_time": "2020-07-04T14:14:50.840404Z",
     "start_time": "2020-07-04T14:14:50.834423Z"
    },
    "hidden": true
   },
   "outputs": [],
   "source": [
    "df['Duration'] = df['End date'] - df['Start date']"
   ]
  },
  {
   "cell_type": "code",
   "execution_count": 590,
   "metadata": {
    "ExecuteTime": {
     "end_time": "2020-07-04T14:14:51.347953Z",
     "start_time": "2020-07-04T14:14:51.338979Z"
    },
    "hidden": true
   },
   "outputs": [
    {
     "data": {
      "text/plain": [
       "116.00000000000001"
      ]
     },
     "execution_count": 590,
     "metadata": {},
     "output_type": "execute_result"
    }
   ],
   "source": [
    "df['Duration'].dt.total_seconds().min()"
   ]
  },
  {
   "cell_type": "markdown",
   "metadata": {
    "hidden": true
   },
   "source": [
    "Problematic Row:"
   ]
  },
  {
   "cell_type": "code",
   "execution_count": 591,
   "metadata": {
    "ExecuteTime": {
     "end_time": "2020-07-04T14:14:59.766788Z",
     "start_time": "2020-07-04T14:14:59.758809Z"
    },
    "hidden": true
   },
   "outputs": [
    {
     "data": {
      "text/plain": [
       "Start date                        NaT\n",
       "End date                          NaT\n",
       "Start station number            31615\n",
       "Start station           6th & H St NE\n",
       "End station number              31627\n",
       "End station             3rd & M St NE\n",
       "Bike number                    W20529\n",
       "Member type                    Member\n",
       "Duration                          NaT\n",
       "Name: 129, dtype: object"
      ]
     },
     "execution_count": 591,
     "metadata": {},
     "output_type": "execute_result"
    }
   ],
   "source": [
    "df.iloc[129]"
   ]
  },
  {
   "cell_type": "code",
   "execution_count": 600,
   "metadata": {
    "ExecuteTime": {
     "end_time": "2020-07-04T14:16:16.092999Z",
     "start_time": "2020-07-04T14:16:16.059051Z"
    },
    "hidden": true
   },
   "outputs": [
    {
     "data": {
      "text/plain": [
       "0        Sunday\n",
       "1        Sunday\n",
       "2        Monday\n",
       "3        Monday\n",
       "4        Monday\n",
       "         ...   \n",
       "285      Friday\n",
       "286      Friday\n",
       "287      Friday\n",
       "288    Saturday\n",
       "289    Saturday\n",
       "Name: Start date, Length: 290, dtype: object"
      ]
     },
     "execution_count": 600,
     "metadata": {},
     "output_type": "execute_result"
    }
   ],
   "source": [
    "df['Start date'].dt.day_name()"
   ]
  },
  {
   "cell_type": "markdown",
   "metadata": {
    "heading_collapsed": true,
    "hidden": true
   },
   "source": [
    "## Calculating Time Difference( Shift Method )"
   ]
  },
  {
   "cell_type": "markdown",
   "metadata": {
    "hidden": true
   },
   "source": [
    "- Calculate the difference in the Start date of the current row and the End date of the previous row and assign it to rides['Time since']"
   ]
  },
  {
   "cell_type": "code",
   "execution_count": 605,
   "metadata": {
    "ExecuteTime": {
     "end_time": "2020-07-04T14:24:26.376495Z",
     "start_time": "2020-07-04T14:24:26.358545Z"
    },
    "hidden": true
   },
   "outputs": [
    {
     "data": {
      "text/html": [
       "<div>\n",
       "<style scoped>\n",
       "    .dataframe tbody tr th:only-of-type {\n",
       "        vertical-align: middle;\n",
       "    }\n",
       "\n",
       "    .dataframe tbody tr th {\n",
       "        vertical-align: top;\n",
       "    }\n",
       "\n",
       "    .dataframe thead th {\n",
       "        text-align: right;\n",
       "    }\n",
       "</style>\n",
       "<table border=\"1\" class=\"dataframe\">\n",
       "  <thead>\n",
       "    <tr style=\"text-align: right;\">\n",
       "      <th></th>\n",
       "      <th>Start date</th>\n",
       "      <th>End date</th>\n",
       "      <th>Start station number</th>\n",
       "      <th>Start station</th>\n",
       "      <th>End station number</th>\n",
       "      <th>End station</th>\n",
       "      <th>Bike number</th>\n",
       "      <th>Member type</th>\n",
       "      <th>Duration</th>\n",
       "      <th>week_days</th>\n",
       "      <th>Time since</th>\n",
       "    </tr>\n",
       "  </thead>\n",
       "  <tbody>\n",
       "    <tr>\n",
       "      <th>0</th>\n",
       "      <td>2017-10-01 15:23:25-04:00</td>\n",
       "      <td>2017-10-01 15:26:26-04:00</td>\n",
       "      <td>31038</td>\n",
       "      <td>Glebe Rd &amp; 11th St N</td>\n",
       "      <td>31036</td>\n",
       "      <td>George Mason Dr &amp; Wilson Blvd</td>\n",
       "      <td>W20529</td>\n",
       "      <td>Member</td>\n",
       "      <td>00:03:01</td>\n",
       "      <td>Sunday</td>\n",
       "      <td>NaN</td>\n",
       "    </tr>\n",
       "    <tr>\n",
       "      <th>1</th>\n",
       "      <td>2017-10-01 15:42:57-04:00</td>\n",
       "      <td>2017-10-01 17:49:59-04:00</td>\n",
       "      <td>31036</td>\n",
       "      <td>George Mason Dr &amp; Wilson Blvd</td>\n",
       "      <td>31036</td>\n",
       "      <td>George Mason Dr &amp; Wilson Blvd</td>\n",
       "      <td>W20529</td>\n",
       "      <td>Casual</td>\n",
       "      <td>02:07:02</td>\n",
       "      <td>Sunday</td>\n",
       "      <td>991.0</td>\n",
       "    </tr>\n",
       "    <tr>\n",
       "      <th>2</th>\n",
       "      <td>2017-10-02 06:37:10-04:00</td>\n",
       "      <td>2017-10-02 06:42:53-04:00</td>\n",
       "      <td>31036</td>\n",
       "      <td>George Mason Dr &amp; Wilson Blvd</td>\n",
       "      <td>31037</td>\n",
       "      <td>Ballston Metro / N Stuart &amp; 9th St N</td>\n",
       "      <td>W20529</td>\n",
       "      <td>Member</td>\n",
       "      <td>00:05:43</td>\n",
       "      <td>Monday</td>\n",
       "      <td>46031.0</td>\n",
       "    </tr>\n",
       "  </tbody>\n",
       "</table>\n",
       "</div>"
      ],
      "text/plain": [
       "                 Start date                  End date  Start station number  \\\n",
       "0 2017-10-01 15:23:25-04:00 2017-10-01 15:26:26-04:00                 31038   \n",
       "1 2017-10-01 15:42:57-04:00 2017-10-01 17:49:59-04:00                 31036   \n",
       "2 2017-10-02 06:37:10-04:00 2017-10-02 06:42:53-04:00                 31036   \n",
       "\n",
       "                   Start station  End station number  \\\n",
       "0           Glebe Rd & 11th St N               31036   \n",
       "1  George Mason Dr & Wilson Blvd               31036   \n",
       "2  George Mason Dr & Wilson Blvd               31037   \n",
       "\n",
       "                            End station Bike number Member type Duration  \\\n",
       "0         George Mason Dr & Wilson Blvd      W20529      Member 00:03:01   \n",
       "1         George Mason Dr & Wilson Blvd      W20529      Casual 02:07:02   \n",
       "2  Ballston Metro / N Stuart & 9th St N      W20529      Member 00:05:43   \n",
       "\n",
       "  week_days  Time since  \n",
       "0    Sunday         NaN  \n",
       "1    Sunday       991.0  \n",
       "2    Monday     46031.0  "
      ]
     },
     "execution_count": 605,
     "metadata": {},
     "output_type": "execute_result"
    }
   ],
   "source": [
    "df.head(3)"
   ]
  },
  {
   "cell_type": "code",
   "execution_count": 604,
   "metadata": {
    "ExecuteTime": {
     "end_time": "2020-07-04T14:23:48.495516Z",
     "start_time": "2020-07-04T14:23:48.360855Z"
    },
    "hidden": true
   },
   "outputs": [
    {
     "name": "stdout",
     "output_type": "stream",
     "text": [
      "Start date\n",
      "2017-10-31 00:00:00-04:00    5.519242\n",
      "2017-11-30 00:00:00-05:00    7.256474\n",
      "2017-12-31 00:00:00-05:00    9.202380\n",
      "Name: Time since, dtype: float64\n"
     ]
    }
   ],
   "source": [
    "# Shift the index of the end date up one; now subract it from the start date\n",
    "df['Time since'] = df['Start date'] - (df['End date'].shift(1))\n",
    "\n",
    "# Move from a timedelta to a number of seconds, which is easier to work with\n",
    "df['Time since'] = df['Time since'].dt.total_seconds()\n",
    "\n",
    "# Resample to the month\n",
    "monthly = df.resample('M', on = 'Start date')\n",
    "\n",
    "# Print the average hours between rides each month\n",
    "print(monthly['Time since'].mean()/(60*60))"
   ]
  },
  {
   "cell_type": "markdown",
   "metadata": {
    "hidden": true
   },
   "source": [
    "- Divide the average by (60*60) to get the number of hours on average that W20529 waited in the dock before being picked up again."
   ]
  }
 ],
 "metadata": {
  "kernelspec": {
   "display_name": "Python 3.7.4 64-bit ('base': conda)",
   "language": "python",
   "name": "python37464bitbaseconda3241296291cc43cfa286335a3768a221"
  },
  "language_info": {
   "codemirror_mode": {
    "name": "ipython",
    "version": 3
   },
   "file_extension": ".py",
   "mimetype": "text/x-python",
   "name": "python",
   "nbconvert_exporter": "python",
   "pygments_lexer": "ipython3",
   "version": "3.7.4"
  },
  "toc": {
   "base_numbering": 1,
   "nav_menu": {},
   "number_sections": true,
   "sideBar": true,
   "skip_h1_title": false,
   "title_cell": "Table of Contents",
   "title_sidebar": "Contents",
   "toc_cell": false,
   "toc_position": {
    "height": "calc(100% - 180px)",
    "left": "10px",
    "top": "150px",
    "width": "304.81px"
   },
   "toc_section_display": true,
   "toc_window_display": true
  },
  "varInspector": {
   "cols": {
    "lenName": 16,
    "lenType": 16,
    "lenVar": 40
   },
   "kernels_config": {
    "python": {
     "delete_cmd_postfix": "",
     "delete_cmd_prefix": "del ",
     "library": "var_list.py",
     "varRefreshCmd": "print(var_dic_list())"
    },
    "r": {
     "delete_cmd_postfix": ") ",
     "delete_cmd_prefix": "rm(",
     "library": "var_list.r",
     "varRefreshCmd": "cat(var_dic_list()) "
    }
   },
   "types_to_exclude": [
    "module",
    "function",
    "builtin_function_or_method",
    "instance",
    "_Feature"
   ],
   "window_display": false
  }
 },
 "nbformat": 4,
 "nbformat_minor": 4
}
